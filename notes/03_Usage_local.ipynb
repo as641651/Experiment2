{
 "cells": [
  {
   "cell_type": "code",
   "execution_count": 1,
   "id": "b7ea4f2c",
   "metadata": {},
   "outputs": [],
   "source": [
    "import sys\n",
    "sys.path.append(\"../utils/\")"
   ]
  },
  {
   "cell_type": "code",
   "execution_count": 2,
   "id": "92c09476",
   "metadata": {},
   "outputs": [],
   "source": [
    "from backend_manager import BackendManager\n",
    "from runner import Runner\n",
    "from data_collector import DataCollector\n",
    "from filter_on_kpis import FilterOnKPIs\n",
    "from runner_competing import RunnerCompeting\n",
    "from case_duration_manager import CaseDurationsManager\n",
    "from rank_variants import RankVariants\n",
    "from measurements_visualizer import MeasurementsVisualizer\n",
    "from measure_and_rank import measure_and_rank"
   ]
  },
  {
   "cell_type": "code",
   "execution_count": 3,
   "id": "bc82fd11",
   "metadata": {},
   "outputs": [],
   "source": [
    "import os\n",
    "import time\n",
    "import shutil"
   ]
  },
  {
   "cell_type": "markdown",
   "id": "4fcd96c2",
   "metadata": {},
   "source": [
    "#### 01. Backend -NA"
   ]
  },
  {
   "cell_type": "code",
   "execution_count": 4,
   "id": "d9fda662",
   "metadata": {},
   "outputs": [],
   "source": [
    "# submit_cmd = \"sbatch submit.sh\"\n",
    "# #bm = BackendManager(\"login18-1.hpc.itc.rwth-aachen.de\", \"as641651\", submit_cmd)\n",
    "# bm = BackendManager(\"login18-1.hpc.itc.rwth-aachen.de\", \"as641651\")\n",
    "# bm.connect()\n",
    "bm = None"
   ]
  },
  {
   "cell_type": "markdown",
   "id": "4398797d",
   "metadata": {},
   "source": [
    "#### 02. Runner"
   ]
  },
  {
   "cell_type": "code",
   "execution_count": 5,
   "id": "ccc73257",
   "metadata": {},
   "outputs": [],
   "source": [
    "args = [\"75\",\"75\",\"8\",\"75\",\"75\"]\n",
    "\n",
    "exp_dir = \"../Matrix-Chain-4/variants-linnea/\"\n",
    "if bm:\n",
    "    exp_dir = \"~/PhD/performance-analyazer/Experiment2/Matrix-Chain-4/variants-linnea\"\n",
    "threads = 4\n",
    "runner = Runner(\"MC\", exp_dir, args, threads=threads, backend=bm)"
   ]
  },
  {
   "cell_type": "markdown",
   "id": "ff5ad0dd",
   "metadata": {},
   "source": [
    "#### 03. Job name - NA"
   ]
  },
  {
   "cell_type": "code",
   "execution_count": 6,
   "id": "2cada5ed",
   "metadata": {},
   "outputs": [],
   "source": [
    "if bm:\n",
    "    args_dir_name = runner.args_dir.split('/')[-1]\n",
    "    job_name = \"{}_T{}\".format(args_dir_name, threads)\n",
    "    job_name"
   ]
  },
  {
   "cell_type": "markdown",
   "id": "ef327140",
   "metadata": {},
   "source": [
    "#### 04. DataCollector"
   ]
  },
  {
   "cell_type": "code",
   "execution_count": 7,
   "id": "feba2d75",
   "metadata": {},
   "outputs": [],
   "source": [
    "if bm:\n",
    "    exp_dir_local = \"../Matrix-Chain-4/variants-linnea/\"\n",
    "    local_data_dir = os.path.join(exp_dir_local, \"cluster-experiments\", \"{}\".format(args_dir_name))\n",
    "    if os.path.exists(local_data_dir):\n",
    "        shutil.rmtree(local_data_dir)\n",
    "    os.makedirs(local_data_dir)\n",
    "    dc = DataCollector(local_data_dir, runner.args_dir, bm)\n",
    "else:\n",
    "    dc = DataCollector(runner.args_dir)"
   ]
  },
  {
   "cell_type": "markdown",
   "id": "d9cd18fd",
   "metadata": {},
   "source": [
    "#### 05. Look for already available data"
   ]
  },
  {
   "cell_type": "code",
   "execution_count": 8,
   "id": "a5e676ee",
   "metadata": {},
   "outputs": [
    {
     "data": {
      "text/html": [
       "<div>\n",
       "<style scoped>\n",
       "    .dataframe tbody tr th:only-of-type {\n",
       "        vertical-align: middle;\n",
       "    }\n",
       "\n",
       "    .dataframe tbody tr th {\n",
       "        vertical-align: top;\n",
       "    }\n",
       "\n",
       "    .dataframe thead th {\n",
       "        text-align: right;\n",
       "    }\n",
       "</style>\n",
       "<table border=\"1\" class=\"dataframe\">\n",
       "  <thead>\n",
       "    <tr style=\"text-align: right;\">\n",
       "      <th></th>\n",
       "      <th>case:concept:name</th>\n",
       "      <th>case:flops</th>\n",
       "      <th>case:num_kernels</th>\n",
       "    </tr>\n",
       "  </thead>\n",
       "  <tbody>\n",
       "    <tr>\n",
       "      <th>0</th>\n",
       "      <td>algorithm1</td>\n",
       "      <td>270000.0</td>\n",
       "      <td>3</td>\n",
       "    </tr>\n",
       "    <tr>\n",
       "      <th>1</th>\n",
       "      <td>algorithm5</td>\n",
       "      <td>1780000.0</td>\n",
       "      <td>3</td>\n",
       "    </tr>\n",
       "    <tr>\n",
       "      <th>2</th>\n",
       "      <td>algorithm4</td>\n",
       "      <td>1780000.0</td>\n",
       "      <td>3</td>\n",
       "    </tr>\n",
       "    <tr>\n",
       "      <th>3</th>\n",
       "      <td>algorithm0</td>\n",
       "      <td>270000.0</td>\n",
       "      <td>3</td>\n",
       "    </tr>\n",
       "    <tr>\n",
       "      <th>4</th>\n",
       "      <td>algorithm3</td>\n",
       "      <td>1020000.0</td>\n",
       "      <td>3</td>\n",
       "    </tr>\n",
       "    <tr>\n",
       "      <th>5</th>\n",
       "      <td>algorithm2</td>\n",
       "      <td>1020000.0</td>\n",
       "      <td>3</td>\n",
       "    </tr>\n",
       "  </tbody>\n",
       "</table>\n",
       "</div>"
      ],
      "text/plain": [
       "  case:concept:name  case:flops  case:num_kernels\n",
       "0        algorithm1    270000.0                 3\n",
       "1        algorithm5   1780000.0                 3\n",
       "2        algorithm4   1780000.0                 3\n",
       "3        algorithm0    270000.0                 3\n",
       "4        algorithm3   1020000.0                 3\n",
       "5        algorithm2   1020000.0                 3"
      ]
     },
     "execution_count": 8,
     "metadata": {},
     "output_type": "execute_result"
    }
   ],
   "source": [
    "case_table = dc.get_case_table()\n",
    "case_table"
   ]
  },
  {
   "cell_type": "code",
   "execution_count": 9,
   "id": "5747c4c3",
   "metadata": {},
   "outputs": [
    {
     "name": "stdout",
     "output_type": "stream",
     "text": [
      "Collected data from 9 runs\n"
     ]
    }
   ],
   "source": [
    "cm = CaseDurationsManager()\n",
    "cm.collect_case_durations(dc)"
   ]
  },
  {
   "cell_type": "code",
   "execution_count": 10,
   "id": "1930fb22",
   "metadata": {},
   "outputs": [],
   "source": [
    "#cm.case_durations.head()"
   ]
  },
  {
   "cell_type": "markdown",
   "id": "319fddb2",
   "metadata": {},
   "source": [
    "#### 05. Generate Experiments"
   ]
  },
  {
   "cell_type": "code",
   "execution_count": 11,
   "id": "21d64260",
   "metadata": {},
   "outputs": [
    {
     "name": "stdout",
     "output_type": "stream",
     "text": [
      "New solution:..............2.7e+05\n",
      "No further generation steps possible.\n",
      "----------------------------------\n",
      "Number of nodes:                 8\n",
      "Solution nodes:                  1\n",
      "Data:                     1.81e+04\n",
      "Best solution:             2.7e+05\n",
      "Intensity:                    14.9\n",
      "Number of algorithms:            6\n",
      "Generated Variants.\n"
     ]
    },
    {
     "data": {
      "text/plain": [
       "0"
      ]
     },
     "execution_count": 11,
     "metadata": {},
     "output_type": "execute_result"
    }
   ],
   "source": [
    "ret = runner.generate_experiments()\n",
    "ret"
   ]
  },
  {
   "cell_type": "markdown",
   "id": "92d8b8f8",
   "metadata": {},
   "source": [
    "#### 06. Single-run Experiment"
   ]
  },
  {
   "cell_type": "code",
   "execution_count": 12,
   "id": "c6b97309",
   "metadata": {},
   "outputs": [
    {
     "name": "stdout",
     "output_type": "stream",
     "text": [
      "Running Experiments locally\n",
      "Experiments completed locally\n"
     ]
    },
    {
     "data": {
      "text/plain": [
       "0"
      ]
     },
     "execution_count": 12,
     "metadata": {},
     "output_type": "execute_result"
    }
   ],
   "source": [
    "ret = runner.run_experiments()\n",
    "ret"
   ]
  },
  {
   "cell_type": "code",
   "execution_count": 13,
   "id": "db9d6d1e",
   "metadata": {},
   "outputs": [],
   "source": [
    "if bm:\n",
    "    while bm.check_slrum_status(job_name) != 0:\n",
    "        print(\"Waiting for Job to complete.\")\n",
    "        time.sleep(5)"
   ]
  },
  {
   "cell_type": "code",
   "execution_count": 14,
   "id": "d9205e31",
   "metadata": {},
   "outputs": [],
   "source": [
    "case_table = dc.get_case_table()\n",
    "measurements = dc.get_all_runtimes_table()"
   ]
  },
  {
   "cell_type": "code",
   "execution_count": 15,
   "id": "a79e5216",
   "metadata": {},
   "outputs": [
    {
     "data": {
      "text/html": [
       "<div>\n",
       "<style scoped>\n",
       "    .dataframe tbody tr th:only-of-type {\n",
       "        vertical-align: middle;\n",
       "    }\n",
       "\n",
       "    .dataframe tbody tr th {\n",
       "        vertical-align: top;\n",
       "    }\n",
       "\n",
       "    .dataframe thead th {\n",
       "        text-align: right;\n",
       "    }\n",
       "</style>\n",
       "<table border=\"1\" class=\"dataframe\">\n",
       "  <thead>\n",
       "    <tr style=\"text-align: right;\">\n",
       "      <th></th>\n",
       "      <th>case:concept:name</th>\n",
       "      <th>case:flops</th>\n",
       "      <th>case:num_kernels</th>\n",
       "    </tr>\n",
       "  </thead>\n",
       "  <tbody>\n",
       "    <tr>\n",
       "      <th>0</th>\n",
       "      <td>algorithm1</td>\n",
       "      <td>270000.0</td>\n",
       "      <td>3</td>\n",
       "    </tr>\n",
       "    <tr>\n",
       "      <th>1</th>\n",
       "      <td>algorithm5</td>\n",
       "      <td>1780000.0</td>\n",
       "      <td>3</td>\n",
       "    </tr>\n",
       "    <tr>\n",
       "      <th>2</th>\n",
       "      <td>algorithm4</td>\n",
       "      <td>1780000.0</td>\n",
       "      <td>3</td>\n",
       "    </tr>\n",
       "    <tr>\n",
       "      <th>3</th>\n",
       "      <td>algorithm0</td>\n",
       "      <td>270000.0</td>\n",
       "      <td>3</td>\n",
       "    </tr>\n",
       "    <tr>\n",
       "      <th>4</th>\n",
       "      <td>algorithm3</td>\n",
       "      <td>1020000.0</td>\n",
       "      <td>3</td>\n",
       "    </tr>\n",
       "    <tr>\n",
       "      <th>5</th>\n",
       "      <td>algorithm2</td>\n",
       "      <td>1020000.0</td>\n",
       "      <td>3</td>\n",
       "    </tr>\n",
       "  </tbody>\n",
       "</table>\n",
       "</div>"
      ],
      "text/plain": [
       "  case:concept:name  case:flops  case:num_kernels\n",
       "0        algorithm1    270000.0                 3\n",
       "1        algorithm5   1780000.0                 3\n",
       "2        algorithm4   1780000.0                 3\n",
       "3        algorithm0    270000.0                 3\n",
       "4        algorithm3   1020000.0                 3\n",
       "5        algorithm2   1020000.0                 3"
      ]
     },
     "execution_count": 15,
     "metadata": {},
     "output_type": "execute_result"
    }
   ],
   "source": [
    "case_table"
   ]
  },
  {
   "cell_type": "code",
   "execution_count": 16,
   "id": "4dc91d20",
   "metadata": {},
   "outputs": [
    {
     "data": {
      "text/html": [
       "<div>\n",
       "<style scoped>\n",
       "    .dataframe tbody tr th:only-of-type {\n",
       "        vertical-align: middle;\n",
       "    }\n",
       "\n",
       "    .dataframe tbody tr th {\n",
       "        vertical-align: top;\n",
       "    }\n",
       "\n",
       "    .dataframe thead th {\n",
       "        text-align: right;\n",
       "    }\n",
       "</style>\n",
       "<table border=\"1\" class=\"dataframe\">\n",
       "  <thead>\n",
       "    <tr style=\"text-align: right;\">\n",
       "      <th></th>\n",
       "      <th>case:concept:name</th>\n",
       "      <th>concept:name</th>\n",
       "      <th>concept:flops</th>\n",
       "      <th>concept:operation</th>\n",
       "      <th>concept:kernel</th>\n",
       "      <th>timestamp:start</th>\n",
       "      <th>timestamp:end</th>\n",
       "    </tr>\n",
       "  </thead>\n",
       "  <tbody>\n",
       "    <tr>\n",
       "      <th>0</th>\n",
       "      <td>algorithm1</td>\n",
       "      <td>gemm_9e+04</td>\n",
       "      <td>90000.0</td>\n",
       "      <td>tmp1 = (A B)</td>\n",
       "      <td>gemm!('N', 'N', 1.0, ml0, ml1, 0.0, ml4)</td>\n",
       "      <td>1.657006e+09</td>\n",
       "      <td>1.657006e+09</td>\n",
       "    </tr>\n",
       "    <tr>\n",
       "      <th>1</th>\n",
       "      <td>algorithm1</td>\n",
       "      <td>gemm_9e+04</td>\n",
       "      <td>90000.0</td>\n",
       "      <td>tmp3 = (C D)</td>\n",
       "      <td>gemm!('N', 'N', 1.0, ml2, ml3, 0.0, ml5)</td>\n",
       "      <td>1.657006e+09</td>\n",
       "      <td>1.657006e+09</td>\n",
       "    </tr>\n",
       "    <tr>\n",
       "      <th>2</th>\n",
       "      <td>algorithm1</td>\n",
       "      <td>gemm_9e+04</td>\n",
       "      <td>90000.0</td>\n",
       "      <td>tmp6 = (tmp1 tmp3)</td>\n",
       "      <td>gemm!('N', 'N', 1.0, ml4, ml5, 0.0, ml6)</td>\n",
       "      <td>1.657006e+09</td>\n",
       "      <td>1.657006e+09</td>\n",
       "    </tr>\n",
       "    <tr>\n",
       "      <th>3</th>\n",
       "      <td>algorithm5</td>\n",
       "      <td>gemm_9e+04</td>\n",
       "      <td>90000.0</td>\n",
       "      <td>tmp2 = (B C)</td>\n",
       "      <td>gemm!('N', 'N', 1.0, ml1, ml2, 0.0, ml4)</td>\n",
       "      <td>1.657006e+09</td>\n",
       "      <td>1.657006e+09</td>\n",
       "    </tr>\n",
       "    <tr>\n",
       "      <th>4</th>\n",
       "      <td>algorithm5</td>\n",
       "      <td>gemm_8.44e+05</td>\n",
       "      <td>844000.0</td>\n",
       "      <td>tmp4 = (A tmp2)</td>\n",
       "      <td>gemm!('N', 'N', 1.0, ml0, ml4, 0.0, ml5)</td>\n",
       "      <td>1.657006e+09</td>\n",
       "      <td>1.657006e+09</td>\n",
       "    </tr>\n",
       "  </tbody>\n",
       "</table>\n",
       "</div>"
      ],
      "text/plain": [
       "  case:concept:name   concept:name  concept:flops   concept:operation  \\\n",
       "0        algorithm1     gemm_9e+04        90000.0        tmp1 = (A B)   \n",
       "1        algorithm1     gemm_9e+04        90000.0        tmp3 = (C D)   \n",
       "2        algorithm1     gemm_9e+04        90000.0  tmp6 = (tmp1 tmp3)   \n",
       "3        algorithm5     gemm_9e+04        90000.0        tmp2 = (B C)   \n",
       "4        algorithm5  gemm_8.44e+05       844000.0     tmp4 = (A tmp2)   \n",
       "\n",
       "                             concept:kernel  timestamp:start  timestamp:end  \n",
       "0  gemm!('N', 'N', 1.0, ml0, ml1, 0.0, ml4)     1.657006e+09   1.657006e+09  \n",
       "1  gemm!('N', 'N', 1.0, ml2, ml3, 0.0, ml5)     1.657006e+09   1.657006e+09  \n",
       "2  gemm!('N', 'N', 1.0, ml4, ml5, 0.0, ml6)     1.657006e+09   1.657006e+09  \n",
       "3  gemm!('N', 'N', 1.0, ml1, ml2, 0.0, ml4)     1.657006e+09   1.657006e+09  \n",
       "4  gemm!('N', 'N', 1.0, ml0, ml4, 0.0, ml5)     1.657006e+09   1.657006e+09  "
      ]
     },
     "execution_count": 16,
     "metadata": {},
     "output_type": "execute_result"
    }
   ],
   "source": [
    "measurements.head()"
   ]
  },
  {
   "cell_type": "markdown",
   "id": "9bc0506e",
   "metadata": {},
   "source": [
    "#### 07. KPI filter"
   ]
  },
  {
   "cell_type": "code",
   "execution_count": 17,
   "id": "cbf8a141",
   "metadata": {},
   "outputs": [
    {
     "data": {
      "text/html": [
       "<div>\n",
       "<style scoped>\n",
       "    .dataframe tbody tr th:only-of-type {\n",
       "        vertical-align: middle;\n",
       "    }\n",
       "\n",
       "    .dataframe tbody tr th {\n",
       "        vertical-align: top;\n",
       "    }\n",
       "\n",
       "    .dataframe thead th {\n",
       "        text-align: right;\n",
       "    }\n",
       "</style>\n",
       "<table border=\"1\" class=\"dataframe\">\n",
       "  <thead>\n",
       "    <tr style=\"text-align: right;\">\n",
       "      <th></th>\n",
       "      <th>case:concept:name</th>\n",
       "      <th>case:timestamp:start</th>\n",
       "      <th>case:timestamp:end</th>\n",
       "      <th>case:duration</th>\n",
       "      <th>case:flops</th>\n",
       "      <th>case:num_kernels</th>\n",
       "      <th>case:rel-flops</th>\n",
       "      <th>case:rel-duration</th>\n",
       "    </tr>\n",
       "  </thead>\n",
       "  <tbody>\n",
       "    <tr>\n",
       "      <th>0</th>\n",
       "      <td>algorithm1</td>\n",
       "      <td>1.657006e+09</td>\n",
       "      <td>1.657006e+09</td>\n",
       "      <td>0.000040</td>\n",
       "      <td>270000.0</td>\n",
       "      <td>3</td>\n",
       "      <td>0.000000</td>\n",
       "      <td>0.000000</td>\n",
       "    </tr>\n",
       "    <tr>\n",
       "      <th>1</th>\n",
       "      <td>algorithm5</td>\n",
       "      <td>1.657006e+09</td>\n",
       "      <td>1.657006e+09</td>\n",
       "      <td>0.000105</td>\n",
       "      <td>1780000.0</td>\n",
       "      <td>3</td>\n",
       "      <td>5.592593</td>\n",
       "      <td>1.625000</td>\n",
       "    </tr>\n",
       "    <tr>\n",
       "      <th>2</th>\n",
       "      <td>algorithm4</td>\n",
       "      <td>1.657006e+09</td>\n",
       "      <td>1.657006e+09</td>\n",
       "      <td>0.000128</td>\n",
       "      <td>1780000.0</td>\n",
       "      <td>3</td>\n",
       "      <td>5.592593</td>\n",
       "      <td>2.196429</td>\n",
       "    </tr>\n",
       "    <tr>\n",
       "      <th>3</th>\n",
       "      <td>algorithm0</td>\n",
       "      <td>1.657006e+09</td>\n",
       "      <td>1.657006e+09</td>\n",
       "      <td>0.000041</td>\n",
       "      <td>270000.0</td>\n",
       "      <td>3</td>\n",
       "      <td>0.000000</td>\n",
       "      <td>0.023810</td>\n",
       "    </tr>\n",
       "    <tr>\n",
       "      <th>4</th>\n",
       "      <td>algorithm3</td>\n",
       "      <td>1.657006e+09</td>\n",
       "      <td>1.657006e+09</td>\n",
       "      <td>0.000114</td>\n",
       "      <td>1020000.0</td>\n",
       "      <td>3</td>\n",
       "      <td>2.777778</td>\n",
       "      <td>1.845238</td>\n",
       "    </tr>\n",
       "    <tr>\n",
       "      <th>5</th>\n",
       "      <td>algorithm2</td>\n",
       "      <td>1.657006e+09</td>\n",
       "      <td>1.657006e+09</td>\n",
       "      <td>0.000175</td>\n",
       "      <td>1020000.0</td>\n",
       "      <td>3</td>\n",
       "      <td>2.777778</td>\n",
       "      <td>3.369048</td>\n",
       "    </tr>\n",
       "  </tbody>\n",
       "</table>\n",
       "</div>"
      ],
      "text/plain": [
       "  case:concept:name  case:timestamp:start  case:timestamp:end  case:duration  \\\n",
       "0        algorithm1          1.657006e+09        1.657006e+09       0.000040   \n",
       "1        algorithm5          1.657006e+09        1.657006e+09       0.000105   \n",
       "2        algorithm4          1.657006e+09        1.657006e+09       0.000128   \n",
       "3        algorithm0          1.657006e+09        1.657006e+09       0.000041   \n",
       "4        algorithm3          1.657006e+09        1.657006e+09       0.000114   \n",
       "5        algorithm2          1.657006e+09        1.657006e+09       0.000175   \n",
       "\n",
       "   case:flops  case:num_kernels  case:rel-flops  case:rel-duration  \n",
       "0    270000.0                 3        0.000000           0.000000  \n",
       "1   1780000.0                 3        5.592593           1.625000  \n",
       "2   1780000.0                 3        5.592593           2.196429  \n",
       "3    270000.0                 3        0.000000           0.023810  \n",
       "4   1020000.0                 3        2.777778           1.845238  \n",
       "5   1020000.0                 3        2.777778           3.369048  "
      ]
     },
     "execution_count": 17,
     "metadata": {},
     "output_type": "execute_result"
    }
   ],
   "source": [
    "kpi_filter = FilterOnKPIs(case_table, measurements)\n",
    "kpi_filter.case_table"
   ]
  },
  {
   "cell_type": "code",
   "execution_count": 20,
   "id": "6422054e",
   "metadata": {},
   "outputs": [
    {
     "data": {
      "text/html": [
       "<div>\n",
       "<style scoped>\n",
       "    .dataframe tbody tr th:only-of-type {\n",
       "        vertical-align: middle;\n",
       "    }\n",
       "\n",
       "    .dataframe tbody tr th {\n",
       "        vertical-align: top;\n",
       "    }\n",
       "\n",
       "    .dataframe thead th {\n",
       "        text-align: right;\n",
       "    }\n",
       "</style>\n",
       "<table border=\"1\" class=\"dataframe\">\n",
       "  <thead>\n",
       "    <tr style=\"text-align: right;\">\n",
       "      <th></th>\n",
       "      <th>case:concept:name</th>\n",
       "      <th>case:timestamp:start</th>\n",
       "      <th>case:timestamp:end</th>\n",
       "      <th>case:duration</th>\n",
       "      <th>case:flops</th>\n",
       "      <th>case:num_kernels</th>\n",
       "      <th>case:rel-flops</th>\n",
       "      <th>case:rel-duration</th>\n",
       "    </tr>\n",
       "  </thead>\n",
       "  <tbody>\n",
       "    <tr>\n",
       "      <th>0</th>\n",
       "      <td>algorithm1</td>\n",
       "      <td>1.657006e+09</td>\n",
       "      <td>1.657006e+09</td>\n",
       "      <td>0.000040</td>\n",
       "      <td>270000.0</td>\n",
       "      <td>3</td>\n",
       "      <td>0.000000</td>\n",
       "      <td>0.000000</td>\n",
       "    </tr>\n",
       "    <tr>\n",
       "      <th>1</th>\n",
       "      <td>algorithm5</td>\n",
       "      <td>1.657006e+09</td>\n",
       "      <td>1.657006e+09</td>\n",
       "      <td>0.000105</td>\n",
       "      <td>1780000.0</td>\n",
       "      <td>3</td>\n",
       "      <td>5.592593</td>\n",
       "      <td>1.625000</td>\n",
       "    </tr>\n",
       "    <tr>\n",
       "      <th>2</th>\n",
       "      <td>algorithm4</td>\n",
       "      <td>1.657006e+09</td>\n",
       "      <td>1.657006e+09</td>\n",
       "      <td>0.000128</td>\n",
       "      <td>1780000.0</td>\n",
       "      <td>3</td>\n",
       "      <td>5.592593</td>\n",
       "      <td>2.196429</td>\n",
       "    </tr>\n",
       "    <tr>\n",
       "      <th>3</th>\n",
       "      <td>algorithm0</td>\n",
       "      <td>1.657006e+09</td>\n",
       "      <td>1.657006e+09</td>\n",
       "      <td>0.000041</td>\n",
       "      <td>270000.0</td>\n",
       "      <td>3</td>\n",
       "      <td>0.000000</td>\n",
       "      <td>0.023810</td>\n",
       "    </tr>\n",
       "    <tr>\n",
       "      <th>4</th>\n",
       "      <td>algorithm3</td>\n",
       "      <td>1.657006e+09</td>\n",
       "      <td>1.657006e+09</td>\n",
       "      <td>0.000114</td>\n",
       "      <td>1020000.0</td>\n",
       "      <td>3</td>\n",
       "      <td>2.777778</td>\n",
       "      <td>1.845238</td>\n",
       "    </tr>\n",
       "  </tbody>\n",
       "</table>\n",
       "</div>"
      ],
      "text/plain": [
       "  case:concept:name  case:timestamp:start  case:timestamp:end  case:duration  \\\n",
       "0        algorithm1          1.657006e+09        1.657006e+09       0.000040   \n",
       "1        algorithm5          1.657006e+09        1.657006e+09       0.000105   \n",
       "2        algorithm4          1.657006e+09        1.657006e+09       0.000128   \n",
       "3        algorithm0          1.657006e+09        1.657006e+09       0.000041   \n",
       "4        algorithm3          1.657006e+09        1.657006e+09       0.000114   \n",
       "\n",
       "   case:flops  case:num_kernels  case:rel-flops  case:rel-duration  \n",
       "0    270000.0                 3        0.000000           0.000000  \n",
       "1   1780000.0                 3        5.592593           1.625000  \n",
       "2   1780000.0                 3        5.592593           2.196429  \n",
       "3    270000.0                 3        0.000000           0.023810  \n",
       "4   1020000.0                 3        2.777778           1.845238  "
      ]
     },
     "execution_count": 20,
     "metadata": {},
     "output_type": "execute_result"
    }
   ],
   "source": [
    "competing_cases = kpi_filter.filter_on_flops_and_rel_duration(3)\n",
    "competing_cases"
   ]
  },
  {
   "cell_type": "code",
   "execution_count": 21,
   "id": "53be3e62",
   "metadata": {},
   "outputs": [
    {
     "data": {
      "text/plain": [
       "['algorithm1', 'algorithm0', 'algorithm5', 'algorithm3', 'algorithm4']"
      ]
     },
     "execution_count": 21,
     "metadata": {},
     "output_type": "execute_result"
    }
   ],
   "source": [
    "alg_seq_h0 = kpi_filter.get_alg_seq_sorted_on_duration(competing_cases)\n",
    "alg_seq_h0"
   ]
  },
  {
   "cell_type": "markdown",
   "id": "65759ffb",
   "metadata": {},
   "source": [
    "#### 08. Runner Competing and compute ranks"
   ]
  },
  {
   "cell_type": "code",
   "execution_count": 22,
   "id": "6294bd7b",
   "metadata": {},
   "outputs": [],
   "source": [
    "runner_competing = RunnerCompeting(alg_seq_h0, runner.args_dir,\n",
    "                                          threads=threads, backend=bm)"
   ]
  },
  {
   "cell_type": "code",
   "execution_count": 23,
   "id": "9fc38cb3",
   "metadata": {},
   "outputs": [
    {
     "name": "stdout",
     "output_type": "stream",
     "text": [
      "Running experiments locally.\n",
      "Experiments completed locally\n",
      "  case:concept:name  case:mean-rank\n",
      "0        algorithm0        0.000000\n",
      "1        algorithm1        1.000000\n",
      "2        algorithm3        2.000000\n",
      "3        algorithm5        2.000000\n",
      "4        algorithm4        2.142857\n",
      "norm: 0.705662230584484\n",
      "Running experiments locally.\n",
      "Experiments completed locally\n",
      "  case:concept:name  case:mean-rank\n",
      "0        algorithm0        0.000000\n",
      "1        algorithm1        0.571429\n",
      "2        algorithm3        1.571429\n",
      "3        algorithm5        2.571429\n",
      "4        algorithm4        2.571429\n",
      "norm: 0.21946130708196027\n",
      "Running experiments locally.\n",
      "Experiments completed locally\n",
      "  case:concept:name  case:mean-rank\n",
      "0        algorithm0             0.0\n",
      "1        algorithm1             0.0\n",
      "2        algorithm3             1.0\n",
      "3        algorithm5             2.0\n",
      "4        algorithm4             2.0\n",
      "norm: 0.11428571428571428\n",
      "Running experiments locally.\n",
      "Experiments completed locally\n",
      "  case:concept:name  case:mean-rank\n",
      "0        algorithm0             0.0\n",
      "1        algorithm1             0.0\n",
      "2        algorithm3             1.0\n",
      "3        algorithm5             2.0\n",
      "4        algorithm4             2.0\n",
      "norm: 0.0\n",
      "Number of measurements: 12\n",
      "                   case:rank:q95-q5  ...  case:rank:q65-q35\n",
      "case:concept:name                    ...                   \n",
      "algorithm0                        0  ...                  0\n",
      "algorithm1                        0  ...                  0\n",
      "algorithm3                        1  ...                  1\n",
      "algorithm5                        2  ...                  2\n",
      "algorithm4                        2  ...                  2\n",
      "\n",
      "[5 rows x 7 columns]\n",
      "                   case:mean-rank  ...  case:mean-rank\n",
      "case:concept:name                  ...                \n",
      "algorithm1                      0  ...             0.0\n",
      "algorithm0                      1  ...             0.0\n",
      "algorithm5                      2  ...             2.0\n",
      "algorithm3                      3  ...             1.0\n",
      "algorithm4                      4  ...             2.0\n",
      "\n",
      "[5 rows x 5 columns]\n"
     ]
    },
    {
     "data": {
      "text/plain": [
       "0"
      ]
     },
     "execution_count": 23,
     "metadata": {},
     "output_type": "execute_result"
    }
   ],
   "source": [
    "# Clear previous measurements if available before re-running\n",
    "dc.delete_competing_measurements()\n",
    "dc.delete_ranks()\n",
    "\n",
    "rep_steps = 3\n",
    "eps=0.001\n",
    "max_rep = 30\n",
    "ret = runner_competing.compute_ranks(rep_steps=rep_steps, eps=eps,max_rep=max_rep)\n",
    "ret"
   ]
  },
  {
   "cell_type": "code",
   "execution_count": 24,
   "id": "d372f10f",
   "metadata": {},
   "outputs": [],
   "source": [
    "if bm:\n",
    "    while bm.check_slrum_status(job_name) != 0:\n",
    "        print(\"Waiting for Job to complete.\")\n",
    "        time.sleep(5)"
   ]
  },
  {
   "cell_type": "markdown",
   "id": "ad953183",
   "metadata": {},
   "source": [
    "#### 09. View Ranks"
   ]
  },
  {
   "cell_type": "code",
   "execution_count": 25,
   "id": "064a7fdf",
   "metadata": {},
   "outputs": [
    {
     "data": {
      "text/html": [
       "<div>\n",
       "<style scoped>\n",
       "    .dataframe tbody tr th:only-of-type {\n",
       "        vertical-align: middle;\n",
       "    }\n",
       "\n",
       "    .dataframe tbody tr th {\n",
       "        vertical-align: top;\n",
       "    }\n",
       "\n",
       "    .dataframe thead th {\n",
       "        text-align: right;\n",
       "    }\n",
       "</style>\n",
       "<table border=\"1\" class=\"dataframe\">\n",
       "  <thead>\n",
       "    <tr style=\"text-align: right;\">\n",
       "      <th></th>\n",
       "      <th>case:concept:name</th>\n",
       "      <th>case:rank:q95-q5</th>\n",
       "      <th>case:rank:q90-q10</th>\n",
       "      <th>case:rank:q85-q15</th>\n",
       "      <th>case:rank:q80-q20</th>\n",
       "      <th>case:rank:q75-q25</th>\n",
       "      <th>case:rank:q70-q30</th>\n",
       "      <th>case:rank:q65-q35</th>\n",
       "    </tr>\n",
       "  </thead>\n",
       "  <tbody>\n",
       "    <tr>\n",
       "      <th>0</th>\n",
       "      <td>algorithm0</td>\n",
       "      <td>0</td>\n",
       "      <td>0</td>\n",
       "      <td>0</td>\n",
       "      <td>0</td>\n",
       "      <td>0</td>\n",
       "      <td>0</td>\n",
       "      <td>0</td>\n",
       "    </tr>\n",
       "    <tr>\n",
       "      <th>1</th>\n",
       "      <td>algorithm1</td>\n",
       "      <td>0</td>\n",
       "      <td>0</td>\n",
       "      <td>0</td>\n",
       "      <td>0</td>\n",
       "      <td>0</td>\n",
       "      <td>0</td>\n",
       "      <td>0</td>\n",
       "    </tr>\n",
       "    <tr>\n",
       "      <th>2</th>\n",
       "      <td>algorithm3</td>\n",
       "      <td>1</td>\n",
       "      <td>1</td>\n",
       "      <td>1</td>\n",
       "      <td>1</td>\n",
       "      <td>1</td>\n",
       "      <td>1</td>\n",
       "      <td>1</td>\n",
       "    </tr>\n",
       "    <tr>\n",
       "      <th>3</th>\n",
       "      <td>algorithm5</td>\n",
       "      <td>2</td>\n",
       "      <td>2</td>\n",
       "      <td>2</td>\n",
       "      <td>2</td>\n",
       "      <td>2</td>\n",
       "      <td>2</td>\n",
       "      <td>2</td>\n",
       "    </tr>\n",
       "    <tr>\n",
       "      <th>4</th>\n",
       "      <td>algorithm4</td>\n",
       "      <td>2</td>\n",
       "      <td>2</td>\n",
       "      <td>2</td>\n",
       "      <td>2</td>\n",
       "      <td>2</td>\n",
       "      <td>2</td>\n",
       "      <td>2</td>\n",
       "    </tr>\n",
       "  </tbody>\n",
       "</table>\n",
       "</div>"
      ],
      "text/plain": [
       "  case:concept:name  case:rank:q95-q5  case:rank:q90-q10  case:rank:q85-q15  \\\n",
       "0        algorithm0                 0                  0                  0   \n",
       "1        algorithm1                 0                  0                  0   \n",
       "2        algorithm3                 1                  1                  1   \n",
       "3        algorithm5                 2                  2                  2   \n",
       "4        algorithm4                 2                  2                  2   \n",
       "\n",
       "   case:rank:q80-q20  case:rank:q75-q25  case:rank:q70-q30  case:rank:q65-q35  \n",
       "0                  0                  0                  0                  0  \n",
       "1                  0                  0                  0                  0  \n",
       "2                  1                  1                  1                  1  \n",
       "3                  2                  2                  2                  2  \n",
       "4                  2                  2                  2                  2  "
      ]
     },
     "execution_count": 25,
     "metadata": {},
     "output_type": "execute_result"
    }
   ],
   "source": [
    "ranks = dc.get_ranks()\n",
    "ranks"
   ]
  },
  {
   "cell_type": "code",
   "execution_count": 26,
   "id": "dedc2101",
   "metadata": {},
   "outputs": [
    {
     "data": {
      "text/html": [
       "<div>\n",
       "<style scoped>\n",
       "    .dataframe tbody tr th:only-of-type {\n",
       "        vertical-align: middle;\n",
       "    }\n",
       "\n",
       "    .dataframe tbody tr th {\n",
       "        vertical-align: top;\n",
       "    }\n",
       "\n",
       "    .dataframe thead th {\n",
       "        text-align: right;\n",
       "    }\n",
       "</style>\n",
       "<table border=\"1\" class=\"dataframe\">\n",
       "  <thead>\n",
       "    <tr style=\"text-align: right;\">\n",
       "      <th></th>\n",
       "      <th>case:concept:name</th>\n",
       "      <th>case:mean-rank</th>\n",
       "      <th>case:mean-rank.1</th>\n",
       "      <th>case:mean-rank.2</th>\n",
       "      <th>case:mean-rank.3</th>\n",
       "      <th>case:mean-rank.4</th>\n",
       "    </tr>\n",
       "  </thead>\n",
       "  <tbody>\n",
       "    <tr>\n",
       "      <th>0</th>\n",
       "      <td>algorithm1</td>\n",
       "      <td>0</td>\n",
       "      <td>1.000000</td>\n",
       "      <td>0.571429</td>\n",
       "      <td>0.0</td>\n",
       "      <td>0.0</td>\n",
       "    </tr>\n",
       "    <tr>\n",
       "      <th>1</th>\n",
       "      <td>algorithm0</td>\n",
       "      <td>1</td>\n",
       "      <td>0.000000</td>\n",
       "      <td>0.000000</td>\n",
       "      <td>0.0</td>\n",
       "      <td>0.0</td>\n",
       "    </tr>\n",
       "    <tr>\n",
       "      <th>2</th>\n",
       "      <td>algorithm5</td>\n",
       "      <td>2</td>\n",
       "      <td>2.000000</td>\n",
       "      <td>2.571429</td>\n",
       "      <td>2.0</td>\n",
       "      <td>2.0</td>\n",
       "    </tr>\n",
       "    <tr>\n",
       "      <th>3</th>\n",
       "      <td>algorithm3</td>\n",
       "      <td>3</td>\n",
       "      <td>2.000000</td>\n",
       "      <td>1.571429</td>\n",
       "      <td>1.0</td>\n",
       "      <td>1.0</td>\n",
       "    </tr>\n",
       "    <tr>\n",
       "      <th>4</th>\n",
       "      <td>algorithm4</td>\n",
       "      <td>4</td>\n",
       "      <td>2.142857</td>\n",
       "      <td>2.571429</td>\n",
       "      <td>2.0</td>\n",
       "      <td>2.0</td>\n",
       "    </tr>\n",
       "  </tbody>\n",
       "</table>\n",
       "</div>"
      ],
      "text/plain": [
       "  case:concept:name  case:mean-rank  case:mean-rank.1  case:mean-rank.2  \\\n",
       "0        algorithm1               0          1.000000          0.571429   \n",
       "1        algorithm0               1          0.000000          0.000000   \n",
       "2        algorithm5               2          2.000000          2.571429   \n",
       "3        algorithm3               3          2.000000          1.571429   \n",
       "4        algorithm4               4          2.142857          2.571429   \n",
       "\n",
       "   case:mean-rank.3  case:mean-rank.4  \n",
       "0               0.0               0.0  \n",
       "1               0.0               0.0  \n",
       "2               2.0               2.0  \n",
       "3               1.0               1.0  \n",
       "4               2.0               2.0  "
      ]
     },
     "execution_count": 26,
     "metadata": {},
     "output_type": "execute_result"
    }
   ],
   "source": [
    "mean_ranks = dc.get_mean_ranks()\n",
    "mean_ranks"
   ]
  },
  {
   "cell_type": "markdown",
   "id": "39de7a96",
   "metadata": {},
   "source": [
    "#### 10. Get Measurements"
   ]
  },
  {
   "cell_type": "code",
   "execution_count": 33,
   "id": "737a3cb3",
   "metadata": {},
   "outputs": [
    {
     "name": "stdout",
     "output_type": "stream",
     "text": [
      "Number of measurements per alg:  12\n"
     ]
    }
   ],
   "source": [
    "num_runs = mean_ranks.shape[1]-2\n",
    "num_measurements = num_runs*rep_steps\n",
    "print(\"Number of measurements per alg: \", num_measurements)"
   ]
  },
  {
   "cell_type": "code",
   "execution_count": 34,
   "id": "ac469053",
   "metadata": {},
   "outputs": [
    {
     "name": "stdout",
     "output_type": "stream",
     "text": [
      "Collected data from 4 runs\n"
     ]
    }
   ],
   "source": [
    "cm.collect_case_durations(dc)"
   ]
  },
  {
   "cell_type": "code",
   "execution_count": 35,
   "id": "296f36a2",
   "metadata": {},
   "outputs": [],
   "source": [
    "alg_measurements = cm.get_alg_measurements()"
   ]
  },
  {
   "cell_type": "markdown",
   "id": "ac5c4dec",
   "metadata": {},
   "source": [
    "#### 11. Visualize Measurements"
   ]
  },
  {
   "cell_type": "code",
   "execution_count": 36,
   "id": "64859971",
   "metadata": {},
   "outputs": [],
   "source": [
    "mv = MeasurementsVisualizer(alg_measurements, alg_seq_h0)"
   ]
  },
  {
   "cell_type": "code",
   "execution_count": 37,
   "id": "5bf8cae4",
   "metadata": {},
   "outputs": [
    {
     "data": {
      "image/png": "[encoded data removed]",
      "text/plain": [
       "<Figure size 720x540 with 1 Axes>"
      ]
     },
     "metadata": {
      "needs_background": "light"
     },
     "output_type": "display_data"
    }
   ],
   "source": [
    "mv.show_measurements_boxplots(outliers=False)"
   ]
  },
  {
   "cell_type": "code",
   "execution_count": 32,
   "id": "9d670084",
   "metadata": {},
   "outputs": [
    {
     "name": "stdout",
     "output_type": "stream",
     "text": [
      "Initial Sequence:  ['algorithm1', 'algorithm0', 'algorithm5', 'algorithm3', 'algorithm4']\n"
     ]
    },
    {
     "data": {
      "text/html": [
       "<div>\n",
       "<style scoped>\n",
       "    .dataframe tbody tr th:only-of-type {\n",
       "        vertical-align: middle;\n",
       "    }\n",
       "\n",
       "    .dataframe tbody tr th {\n",
       "        vertical-align: top;\n",
       "    }\n",
       "\n",
       "    .dataframe thead th {\n",
       "        text-align: right;\n",
       "    }\n",
       "</style>\n",
       "<table border=\"1\" class=\"dataframe\">\n",
       "  <thead>\n",
       "    <tr style=\"text-align: right;\">\n",
       "      <th></th>\n",
       "      <th>case:concept:name</th>\n",
       "      <th>case:rank:q95-q5</th>\n",
       "      <th>case:rank:q90-q10</th>\n",
       "      <th>case:rank:q85-q15</th>\n",
       "      <th>case:rank:q80-q20</th>\n",
       "      <th>case:rank:q75-q25</th>\n",
       "      <th>case:rank:q70-q30</th>\n",
       "      <th>case:rank:q65-q35</th>\n",
       "      <th>case:mean-rank.4</th>\n",
       "    </tr>\n",
       "  </thead>\n",
       "  <tbody>\n",
       "    <tr>\n",
       "      <th>0</th>\n",
       "      <td>algorithm0</td>\n",
       "      <td>0</td>\n",
       "      <td>0</td>\n",
       "      <td>0</td>\n",
       "      <td>0</td>\n",
       "      <td>0</td>\n",
       "      <td>0</td>\n",
       "      <td>0</td>\n",
       "      <td>0.0</td>\n",
       "    </tr>\n",
       "    <tr>\n",
       "      <th>1</th>\n",
       "      <td>algorithm1</td>\n",
       "      <td>0</td>\n",
       "      <td>0</td>\n",
       "      <td>0</td>\n",
       "      <td>0</td>\n",
       "      <td>0</td>\n",
       "      <td>0</td>\n",
       "      <td>0</td>\n",
       "      <td>0.0</td>\n",
       "    </tr>\n",
       "    <tr>\n",
       "      <th>2</th>\n",
       "      <td>algorithm3</td>\n",
       "      <td>1</td>\n",
       "      <td>1</td>\n",
       "      <td>1</td>\n",
       "      <td>1</td>\n",
       "      <td>1</td>\n",
       "      <td>1</td>\n",
       "      <td>1</td>\n",
       "      <td>1.0</td>\n",
       "    </tr>\n",
       "    <tr>\n",
       "      <th>3</th>\n",
       "      <td>algorithm5</td>\n",
       "      <td>2</td>\n",
       "      <td>2</td>\n",
       "      <td>2</td>\n",
       "      <td>2</td>\n",
       "      <td>2</td>\n",
       "      <td>2</td>\n",
       "      <td>2</td>\n",
       "      <td>2.0</td>\n",
       "    </tr>\n",
       "    <tr>\n",
       "      <th>4</th>\n",
       "      <td>algorithm4</td>\n",
       "      <td>2</td>\n",
       "      <td>2</td>\n",
       "      <td>2</td>\n",
       "      <td>2</td>\n",
       "      <td>2</td>\n",
       "      <td>2</td>\n",
       "      <td>2</td>\n",
       "      <td>2.0</td>\n",
       "    </tr>\n",
       "  </tbody>\n",
       "</table>\n",
       "</div>"
      ],
      "text/plain": [
       "  case:concept:name  case:rank:q95-q5  case:rank:q90-q10  case:rank:q85-q15  \\\n",
       "0        algorithm0                 0                  0                  0   \n",
       "1        algorithm1                 0                  0                  0   \n",
       "2        algorithm3                 1                  1                  1   \n",
       "3        algorithm5                 2                  2                  2   \n",
       "4        algorithm4                 2                  2                  2   \n",
       "\n",
       "   case:rank:q80-q20  case:rank:q75-q25  case:rank:q70-q30  case:rank:q65-q35  \\\n",
       "0                  0                  0                  0                  0   \n",
       "1                  0                  0                  0                  0   \n",
       "2                  1                  1                  1                  1   \n",
       "3                  2                  2                  2                  2   \n",
       "4                  2                  2                  2                  2   \n",
       "\n",
       "   case:mean-rank.4  \n",
       "0               0.0  \n",
       "1               0.0  \n",
       "2               1.0  \n",
       "3               2.0  \n",
       "4               2.0  "
      ]
     },
     "execution_count": 32,
     "metadata": {},
     "output_type": "execute_result"
    }
   ],
   "source": [
    "print(\"Initial Sequence: \", alg_seq_h0)\n",
    "ranks.merge(mean_ranks.iloc[:,[0,-1]], on='case:concept:name')"
   ]
  },
  {
   "cell_type": "code",
   "execution_count": 36,
   "id": "116b4c77",
   "metadata": {},
   "outputs": [
    {
     "data": {
      "text/html": [
       "<div>\n",
       "<style scoped>\n",
       "    .dataframe tbody tr th:only-of-type {\n",
       "        vertical-align: middle;\n",
       "    }\n",
       "\n",
       "    .dataframe tbody tr th {\n",
       "        vertical-align: top;\n",
       "    }\n",
       "\n",
       "    .dataframe thead th {\n",
       "        text-align: right;\n",
       "    }\n",
       "</style>\n",
       "<table border=\"1\" class=\"dataframe\">\n",
       "  <thead>\n",
       "    <tr style=\"text-align: right;\">\n",
       "      <th></th>\n",
       "      <th>case:concept:name</th>\n",
       "      <th>case:timestamp:start</th>\n",
       "      <th>case:timestamp:end</th>\n",
       "      <th>case:duration</th>\n",
       "      <th>case:flops</th>\n",
       "      <th>case:num_kernels</th>\n",
       "      <th>case:rel-flops</th>\n",
       "      <th>case:rel-duration</th>\n",
       "    </tr>\n",
       "  </thead>\n",
       "  <tbody>\n",
       "    <tr>\n",
       "      <th>0</th>\n",
       "      <td>algorithm1</td>\n",
       "      <td>1.657005e+09</td>\n",
       "      <td>1.657005e+09</td>\n",
       "      <td>0.000038</td>\n",
       "      <td>270000.0</td>\n",
       "      <td>3</td>\n",
       "      <td>0.000000</td>\n",
       "      <td>0.00000</td>\n",
       "    </tr>\n",
       "    <tr>\n",
       "      <th>1</th>\n",
       "      <td>algorithm5</td>\n",
       "      <td>1.657005e+09</td>\n",
       "      <td>1.657005e+09</td>\n",
       "      <td>0.000093</td>\n",
       "      <td>1780000.0</td>\n",
       "      <td>3</td>\n",
       "      <td>5.592593</td>\n",
       "      <td>1.43750</td>\n",
       "    </tr>\n",
       "    <tr>\n",
       "      <th>3</th>\n",
       "      <td>algorithm0</td>\n",
       "      <td>1.657005e+09</td>\n",
       "      <td>1.657005e+09</td>\n",
       "      <td>0.000038</td>\n",
       "      <td>270000.0</td>\n",
       "      <td>3</td>\n",
       "      <td>0.000000</td>\n",
       "      <td>0.00000</td>\n",
       "    </tr>\n",
       "    <tr>\n",
       "      <th>4</th>\n",
       "      <td>algorithm3</td>\n",
       "      <td>1.657005e+09</td>\n",
       "      <td>1.657005e+09</td>\n",
       "      <td>0.000078</td>\n",
       "      <td>1020000.0</td>\n",
       "      <td>3</td>\n",
       "      <td>2.777778</td>\n",
       "      <td>1.04375</td>\n",
       "    </tr>\n",
       "  </tbody>\n",
       "</table>\n",
       "</div>"
      ],
      "text/plain": [
       "  case:concept:name  case:timestamp:start  case:timestamp:end  case:duration  \\\n",
       "0        algorithm1          1.657005e+09        1.657005e+09       0.000038   \n",
       "1        algorithm5          1.657005e+09        1.657005e+09       0.000093   \n",
       "3        algorithm0          1.657005e+09        1.657005e+09       0.000038   \n",
       "4        algorithm3          1.657005e+09        1.657005e+09       0.000078   \n",
       "\n",
       "   case:flops  case:num_kernels  case:rel-flops  case:rel-duration  \n",
       "0    270000.0                 3        0.000000            0.00000  \n",
       "1   1780000.0                 3        5.592593            1.43750  \n",
       "3    270000.0                 3        0.000000            0.00000  \n",
       "4   1020000.0                 3        2.777778            1.04375  "
      ]
     },
     "execution_count": 36,
     "metadata": {},
     "output_type": "execute_result"
    }
   ],
   "source": [
    "competing_cases"
   ]
  },
  {
   "cell_type": "code",
   "execution_count": null,
   "id": "0ff0ab4f",
   "metadata": {},
   "outputs": [],
   "source": []
  },
  {
   "cell_type": "code",
   "execution_count": null,
   "id": "fe4ac31c",
   "metadata": {},
   "outputs": [],
   "source": []
  }
 ],
 "metadata": {
  "kernelspec": {
   "display_name": "Python 3 (ipykernel)",
   "language": "python",
   "name": "python3"
  },
  "language_info": {
   "codemirror_mode": {
    "name": "ipython",
    "version": 3
   },
   "file_extension": ".py",
   "mimetype": "text/x-python",
   "name": "python",
   "nbconvert_exporter": "python",
   "pygments_lexer": "ipython3",
   "version": "3.9.7"
  }
 },
 "nbformat": 4,
 "nbformat_minor": 5
}
