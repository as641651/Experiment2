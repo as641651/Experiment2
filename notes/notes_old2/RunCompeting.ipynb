{
 "cells": [
  {
   "cell_type": "code",
   "execution_count": 30,
   "id": "b90c9d69",
   "metadata": {},
   "outputs": [],
   "source": [
    "import sys\n",
    "sys.path.append(\"../utils/\")\n",
    "from runner import Runner\n",
    "from filter_variants import FilterVariants\n",
    "from generate_linnea_experiment_code import generate_runner_competing_code\n",
    "import pandas as pd\n",
    "import os\n",
    "import subprocess\n",
    "from project_utils import get_trace_durations"
   ]
  },
  {
   "cell_type": "code",
   "execution_count": 112,
   "id": "6308c395",
   "metadata": {},
   "outputs": [],
   "source": [
    "class RunCompeting:\n",
    "    \"\"\"Runs all the variants once and selects a set of competing variants.\n",
    "    Each of the competing variant is measured \"rep\" times, and the tables are\n",
    "    prepa`red for analysis.\"\"\"\n",
    "    \n",
    "    def __init__(self,runner):\n",
    "        \"\"\"\n",
    "        Input: Runner\n",
    "        \"\"\"\n",
    "        self.runner = runner\n",
    "        self.filter_variants = None\n",
    "        self.competing_variants = None\n",
    "        self.event_table_competing = None\n",
    "        self.durations_competing = None\n",
    "        \n",
    "    def generate_run(self,bRun=True,bGenerate=False):\n",
    "        \"\"\"\n",
    "        executes the Runner. Intializes FilterVariants object.\n",
    "        \"\"\"\n",
    "        ret = self.runner.generate_run_experiments(bRun=bRun, bGenerate=bGenerate)\n",
    "        case_table,_,event_table = self.runner.get_all_tables(meta=False)\n",
    "        self.filter_variants = FilterVariants(case_table,event_table)\n",
    "        return ret\n",
    "    \n",
    "    def set_best_flop_duration_as_competing(self,tolerance=0.0):\n",
    "        \"\"\"\n",
    "        Filters for variants that have the minimum flop and also those variants\n",
    "        with more flops but duration within a certain tolerance level from the variant\n",
    "        with minimum duration.\n",
    "        \"\"\"\n",
    "        if not self.filter_variants:\n",
    "            return \"Please generate a run.\"\n",
    "        \n",
    "        competing_ct, _ = self.filter_variants.filter_best_flops_duration()\n",
    "        self.competing_variants = list(competing_ct['case:concept:name'])\n",
    "        return competing_ct\n",
    "    \n",
    "    def measure_competing_variants(self,reps):\n",
    "        \"\"\"\n",
    "        generates a runner code for comopeting variants. Measures the competing variants.\n",
    "        \"\"\"\n",
    "        if not self.competing_variants:\n",
    "            return \"Please set competing variants.\"\n",
    "        \n",
    "        ret = generate_runner_competing_code(self.competing_variants,\n",
    "                                       reps,\n",
    "                                       self.runner.exp_dir)\n",
    "        \n",
    "        runner_path = os.path.join(self.runner.exp_dir,\"runner_competing.jl\")\n",
    "        \n",
    "        if os.path.exists(runner_path):\n",
    "            print(\"Running Experiments\")\n",
    "            completed_proccess = subprocess.run([\"julia\", runner_path])\n",
    "            if completed_proccess.returncode == 0:\n",
    "                print(\"Experiments completed\")\n",
    "                return 1 # Ran experiment            \n",
    "        return -1\n",
    "    \n",
    "    def prepare_event_data(self):\n",
    "        \"\"\"get event table for the measured variants.\"\"\"\n",
    "        log_path = os.path.join(self.runner.exp_dir, \"run_times_competing.txt\")\n",
    "        if os.path.exists(log_path):\n",
    "            self.event_table_competing = self.runner.read_log(log_path)\n",
    "            self.duration_competing = get_trace_durations(self.event_table_competing)\n",
    "            return 1\n",
    "        return \"please measure competing variants.\"\n",
    "    \n",
    "    def get_variant_duration(self,variant):\n",
    "        \"\"\"Compute duration for each measurement of the competing variants.\"\"\"\n",
    "        if not variant in self.competing_variants:\n",
    "            return \"variant not found in competing variants.\"\n",
    "        \n",
    "        return self.duration_competing[\n",
    "                self.duration_competing['case:concept:name'].str.contains(variant)]\n",
    "    \n",
    " \n",
    "        "
   ]
  },
  {
   "cell_type": "code",
   "execution_count": 114,
   "id": "8b836197",
   "metadata": {},
   "outputs": [],
   "source": [
    "exp_name = \"Matrix-Chain\"\n",
    "script_path = \"../Matrix-Chain-4/variants-linnea/generate-variants-linnea.py\"\n",
    "args = [\"100\",\"100\",\"10\",\"100\",\"100\"]\n",
    "runner = Runner(\"Matrix-Chain\", script_path , args)"
   ]
  },
  {
   "cell_type": "code",
   "execution_count": 115,
   "id": "de9bd094",
   "metadata": {},
   "outputs": [],
   "source": [
    "run_competing = RunCompeting(runner)"
   ]
  },
  {
   "cell_type": "code",
   "execution_count": 116,
   "id": "3951652c",
   "metadata": {},
   "outputs": [
    {
     "name": "stdout",
     "output_type": "stream",
     "text": [
      "New solution:................6e+05\n",
      "No further generation steps possible.\n",
      "----------------------------------\n",
      "Number of nodes:                 8\n",
      "Solution nodes:                  1\n",
      "Data:                      3.2e+04\n",
      "Best solution:               6e+05\n",
      "Intensity:                    18.8\n",
      "Number of algorithms:            6\n",
      "Generated Variants.\n",
      "Running Experiments\n",
      "Experiments completed\n"
     ]
    },
    {
     "data": {
      "text/plain": [
       "1"
      ]
     },
     "execution_count": 116,
     "metadata": {},
     "output_type": "execute_result"
    }
   ],
   "source": [
    "run_competing.generate_run()"
   ]
  },
  {
   "cell_type": "code",
   "execution_count": 117,
   "id": "f7820870",
   "metadata": {},
   "outputs": [],
   "source": [
    "ct = run_competing.set_best_flop_duration_as_competing()"
   ]
  },
  {
   "cell_type": "code",
   "execution_count": 118,
   "id": "c28c52d1",
   "metadata": {},
   "outputs": [
    {
     "data": {
      "text/plain": [
       "['algorithm1', 'algorithm0']"
      ]
     },
     "execution_count": 118,
     "metadata": {},
     "output_type": "execute_result"
    }
   ],
   "source": [
    "run_competing.competing_variants"
   ]
  },
  {
   "cell_type": "code",
   "execution_count": 119,
   "id": "eeb5425e",
   "metadata": {},
   "outputs": [
    {
     "name": "stdout",
     "output_type": "stream",
     "text": [
      "Running Experiments\n",
      "Experiments completed\n"
     ]
    },
    {
     "data": {
      "text/plain": [
       "1"
      ]
     },
     "execution_count": 119,
     "metadata": {},
     "output_type": "execute_result"
    }
   ],
   "source": [
    "run_competing.measure_competing_variants(reps=5)"
   ]
  },
  {
   "cell_type": "code",
   "execution_count": 120,
   "id": "714920b7",
   "metadata": {},
   "outputs": [
    {
     "data": {
      "text/plain": [
       "1"
      ]
     },
     "execution_count": 120,
     "metadata": {},
     "output_type": "execute_result"
    }
   ],
   "source": [
    "run_competing.prepare_event_data()"
   ]
  },
  {
   "cell_type": "code",
   "execution_count": 121,
   "id": "125a3315",
   "metadata": {},
   "outputs": [
    {
     "data": {
      "text/html": [
       "<div>\n",
       "<style scoped>\n",
       "    .dataframe tbody tr th:only-of-type {\n",
       "        vertical-align: middle;\n",
       "    }\n",
       "\n",
       "    .dataframe tbody tr th {\n",
       "        vertical-align: top;\n",
       "    }\n",
       "\n",
       "    .dataframe thead th {\n",
       "        text-align: right;\n",
       "    }\n",
       "</style>\n",
       "<table border=\"1\" class=\"dataframe\">\n",
       "  <thead>\n",
       "    <tr style=\"text-align: right;\">\n",
       "      <th></th>\n",
       "      <th>case:concept:name</th>\n",
       "      <th>case:timestamp:start</th>\n",
       "      <th>case:timestamp:end</th>\n",
       "      <th>case:duration</th>\n",
       "    </tr>\n",
       "  </thead>\n",
       "  <tbody>\n",
       "    <tr>\n",
       "      <th>0</th>\n",
       "      <td>algorithm1_2</td>\n",
       "      <td>1.655204e+09</td>\n",
       "      <td>1.655204e+09</td>\n",
       "      <td>0.000143</td>\n",
       "    </tr>\n",
       "    <tr>\n",
       "      <th>1</th>\n",
       "      <td>algorithm1_4</td>\n",
       "      <td>1.655204e+09</td>\n",
       "      <td>1.655204e+09</td>\n",
       "      <td>0.000066</td>\n",
       "    </tr>\n",
       "    <tr>\n",
       "      <th>2</th>\n",
       "      <td>algorithm0_4</td>\n",
       "      <td>1.655204e+09</td>\n",
       "      <td>1.655204e+09</td>\n",
       "      <td>0.000065</td>\n",
       "    </tr>\n",
       "    <tr>\n",
       "      <th>3</th>\n",
       "      <td>algorithm0_2</td>\n",
       "      <td>1.655204e+09</td>\n",
       "      <td>1.655204e+09</td>\n",
       "      <td>0.000068</td>\n",
       "    </tr>\n",
       "    <tr>\n",
       "      <th>4</th>\n",
       "      <td>algorithm0_1</td>\n",
       "      <td>1.655204e+09</td>\n",
       "      <td>1.655204e+09</td>\n",
       "      <td>0.000136</td>\n",
       "    </tr>\n",
       "    <tr>\n",
       "      <th>5</th>\n",
       "      <td>algorithm1_0</td>\n",
       "      <td>1.655204e+09</td>\n",
       "      <td>1.655204e+09</td>\n",
       "      <td>0.000102</td>\n",
       "    </tr>\n",
       "    <tr>\n",
       "      <th>6</th>\n",
       "      <td>algorithm1_1</td>\n",
       "      <td>1.655204e+09</td>\n",
       "      <td>1.655204e+09</td>\n",
       "      <td>0.000083</td>\n",
       "    </tr>\n",
       "    <tr>\n",
       "      <th>7</th>\n",
       "      <td>algorithm1_3</td>\n",
       "      <td>1.655204e+09</td>\n",
       "      <td>1.655204e+09</td>\n",
       "      <td>0.000075</td>\n",
       "    </tr>\n",
       "    <tr>\n",
       "      <th>8</th>\n",
       "      <td>algorithm0_3</td>\n",
       "      <td>1.655204e+09</td>\n",
       "      <td>1.655204e+09</td>\n",
       "      <td>0.000067</td>\n",
       "    </tr>\n",
       "    <tr>\n",
       "      <th>9</th>\n",
       "      <td>algorithm0_0</td>\n",
       "      <td>1.655204e+09</td>\n",
       "      <td>1.655204e+09</td>\n",
       "      <td>0.000071</td>\n",
       "    </tr>\n",
       "  </tbody>\n",
       "</table>\n",
       "</div>"
      ],
      "text/plain": [
       "  case:concept:name  case:timestamp:start  case:timestamp:end  case:duration\n",
       "0      algorithm1_2          1.655204e+09        1.655204e+09       0.000143\n",
       "1      algorithm1_4          1.655204e+09        1.655204e+09       0.000066\n",
       "2      algorithm0_4          1.655204e+09        1.655204e+09       0.000065\n",
       "3      algorithm0_2          1.655204e+09        1.655204e+09       0.000068\n",
       "4      algorithm0_1          1.655204e+09        1.655204e+09       0.000136\n",
       "5      algorithm1_0          1.655204e+09        1.655204e+09       0.000102\n",
       "6      algorithm1_1          1.655204e+09        1.655204e+09       0.000083\n",
       "7      algorithm1_3          1.655204e+09        1.655204e+09       0.000075\n",
       "8      algorithm0_3          1.655204e+09        1.655204e+09       0.000067\n",
       "9      algorithm0_0          1.655204e+09        1.655204e+09       0.000071"
      ]
     },
     "execution_count": 121,
     "metadata": {},
     "output_type": "execute_result"
    }
   ],
   "source": [
    "run_competing.duration_competing"
   ]
  },
  {
   "cell_type": "code",
   "execution_count": 122,
   "id": "d69fe2d6",
   "metadata": {},
   "outputs": [
    {
     "data": {
      "text/html": [
       "<div>\n",
       "<style scoped>\n",
       "    .dataframe tbody tr th:only-of-type {\n",
       "        vertical-align: middle;\n",
       "    }\n",
       "\n",
       "    .dataframe tbody tr th {\n",
       "        vertical-align: top;\n",
       "    }\n",
       "\n",
       "    .dataframe thead th {\n",
       "        text-align: right;\n",
       "    }\n",
       "</style>\n",
       "<table border=\"1\" class=\"dataframe\">\n",
       "  <thead>\n",
       "    <tr style=\"text-align: right;\">\n",
       "      <th></th>\n",
       "      <th>case:concept:name</th>\n",
       "      <th>case:timestamp:start</th>\n",
       "      <th>case:timestamp:end</th>\n",
       "      <th>case:duration</th>\n",
       "      <th>case:flops</th>\n",
       "      <th>case:num_kernels</th>\n",
       "      <th>case:rel-flops</th>\n",
       "      <th>case:rel-duration</th>\n",
       "    </tr>\n",
       "  </thead>\n",
       "  <tbody>\n",
       "    <tr>\n",
       "      <th>0</th>\n",
       "      <td>algorithm1</td>\n",
       "      <td>1.655204e+09</td>\n",
       "      <td>1.655204e+09</td>\n",
       "      <td>0.000146</td>\n",
       "      <td>600000.0</td>\n",
       "      <td>3</td>\n",
       "      <td>0.0</td>\n",
       "      <td>0.000053</td>\n",
       "    </tr>\n",
       "    <tr>\n",
       "      <th>3</th>\n",
       "      <td>algorithm0</td>\n",
       "      <td>1.655204e+09</td>\n",
       "      <td>1.655204e+09</td>\n",
       "      <td>0.000093</td>\n",
       "      <td>600000.0</td>\n",
       "      <td>3</td>\n",
       "      <td>0.0</td>\n",
       "      <td>0.000000</td>\n",
       "    </tr>\n",
       "  </tbody>\n",
       "</table>\n",
       "</div>"
      ],
      "text/plain": [
       "  case:concept:name  case:timestamp:start  case:timestamp:end  case:duration  \\\n",
       "0        algorithm1          1.655204e+09        1.655204e+09       0.000146   \n",
       "3        algorithm0          1.655204e+09        1.655204e+09       0.000093   \n",
       "\n",
       "   case:flops  case:num_kernels  case:rel-flops  case:rel-duration  \n",
       "0    600000.0                 3             0.0           0.000053  \n",
       "3    600000.0                 3             0.0           0.000000  "
      ]
     },
     "execution_count": 122,
     "metadata": {},
     "output_type": "execute_result"
    }
   ],
   "source": [
    "ct"
   ]
  },
  {
   "cell_type": "code",
   "execution_count": 123,
   "id": "8bd637ba",
   "metadata": {},
   "outputs": [
    {
     "data": {
      "text/html": [
       "<div>\n",
       "<style scoped>\n",
       "    .dataframe tbody tr th:only-of-type {\n",
       "        vertical-align: middle;\n",
       "    }\n",
       "\n",
       "    .dataframe tbody tr th {\n",
       "        vertical-align: top;\n",
       "    }\n",
       "\n",
       "    .dataframe thead th {\n",
       "        text-align: right;\n",
       "    }\n",
       "</style>\n",
       "<table border=\"1\" class=\"dataframe\">\n",
       "  <thead>\n",
       "    <tr style=\"text-align: right;\">\n",
       "      <th></th>\n",
       "      <th>case:concept:name</th>\n",
       "      <th>case:timestamp:start</th>\n",
       "      <th>case:timestamp:end</th>\n",
       "      <th>case:duration</th>\n",
       "    </tr>\n",
       "  </thead>\n",
       "  <tbody>\n",
       "    <tr>\n",
       "      <th>0</th>\n",
       "      <td>algorithm1_2</td>\n",
       "      <td>1.655204e+09</td>\n",
       "      <td>1.655204e+09</td>\n",
       "      <td>0.000143</td>\n",
       "    </tr>\n",
       "    <tr>\n",
       "      <th>1</th>\n",
       "      <td>algorithm1_4</td>\n",
       "      <td>1.655204e+09</td>\n",
       "      <td>1.655204e+09</td>\n",
       "      <td>0.000066</td>\n",
       "    </tr>\n",
       "    <tr>\n",
       "      <th>5</th>\n",
       "      <td>algorithm1_0</td>\n",
       "      <td>1.655204e+09</td>\n",
       "      <td>1.655204e+09</td>\n",
       "      <td>0.000102</td>\n",
       "    </tr>\n",
       "    <tr>\n",
       "      <th>6</th>\n",
       "      <td>algorithm1_1</td>\n",
       "      <td>1.655204e+09</td>\n",
       "      <td>1.655204e+09</td>\n",
       "      <td>0.000083</td>\n",
       "    </tr>\n",
       "    <tr>\n",
       "      <th>7</th>\n",
       "      <td>algorithm1_3</td>\n",
       "      <td>1.655204e+09</td>\n",
       "      <td>1.655204e+09</td>\n",
       "      <td>0.000075</td>\n",
       "    </tr>\n",
       "  </tbody>\n",
       "</table>\n",
       "</div>"
      ],
      "text/plain": [
       "  case:concept:name  case:timestamp:start  case:timestamp:end  case:duration\n",
       "0      algorithm1_2          1.655204e+09        1.655204e+09       0.000143\n",
       "1      algorithm1_4          1.655204e+09        1.655204e+09       0.000066\n",
       "5      algorithm1_0          1.655204e+09        1.655204e+09       0.000102\n",
       "6      algorithm1_1          1.655204e+09        1.655204e+09       0.000083\n",
       "7      algorithm1_3          1.655204e+09        1.655204e+09       0.000075"
      ]
     },
     "execution_count": 123,
     "metadata": {},
     "output_type": "execute_result"
    }
   ],
   "source": [
    "run_competing.get_variant_duration(run_competing.competing_variants[0])"
   ]
  }
 ],
 "metadata": {
  "kernelspec": {
   "display_name": "Python 3 (ipykernel)",
   "language": "python",
   "name": "python3"
  },
  "language_info": {
   "codemirror_mode": {
    "name": "ipython",
    "version": 3
   },
   "file_extension": ".py",
   "mimetype": "text/x-python",
   "name": "python",
   "nbconvert_exporter": "python",
   "pygments_lexer": "ipython3",
   "version": "3.9.7"
  }
 },
 "nbformat": 4,
 "nbformat_minor": 5
}
