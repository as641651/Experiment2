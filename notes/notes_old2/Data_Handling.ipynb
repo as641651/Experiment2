{
 "cells": [
  {
   "cell_type": "code",
   "execution_count": 1,
   "id": "3f3377d5",
   "metadata": {},
   "outputs": [],
   "source": [
    "import pandas as pd\n",
    "import pm4py\n",
    "from pm4py.objects.log.util import dataframe_utils\n",
    "from pm4py.objects.conversion.log import converter as log_converter"
   ]
  },
  {
   "cell_type": "code",
   "execution_count": 28,
   "id": "a8569a0f",
   "metadata": {},
   "outputs": [],
   "source": [
    "event_table = pd.read_csv(\"../Matrix-Chain-4/variants-linnea/experiments/900_1000_1000_200_1000/event_meta_table.csv\", sep=';')"
   ]
  },
  {
   "cell_type": "code",
   "execution_count": 29,
   "id": "c9c6e390",
   "metadata": {},
   "outputs": [],
   "source": [
    "case_table = pd.read_csv(\"../Matrix-Chain-4/variants-linnea/experiments/900_1000_1000_200_1000/case_table.csv\", sep=';')"
   ]
  },
  {
   "cell_type": "code",
   "execution_count": 30,
   "id": "4f5e64ef",
   "metadata": {},
   "outputs": [
    {
     "data": {
      "text/html": [
       "<div>\n",
       "<style scoped>\n",
       "    .dataframe tbody tr th:only-of-type {\n",
       "        vertical-align: middle;\n",
       "    }\n",
       "\n",
       "    .dataframe tbody tr th {\n",
       "        vertical-align: top;\n",
       "    }\n",
       "\n",
       "    .dataframe thead th {\n",
       "        text-align: right;\n",
       "    }\n",
       "</style>\n",
       "<table border=\"1\" class=\"dataframe\">\n",
       "  <thead>\n",
       "    <tr style=\"text-align: right;\">\n",
       "      <th></th>\n",
       "      <th>case:concept:name</th>\n",
       "      <th>concept:name</th>\n",
       "      <th>concept:flops</th>\n",
       "      <th>concept:kernel</th>\n",
       "      <th>concept:operation</th>\n",
       "      <th>timestamp:start</th>\n",
       "    </tr>\n",
       "  </thead>\n",
       "  <tbody>\n",
       "    <tr>\n",
       "      <th>0</th>\n",
       "      <td>algorithm1</td>\n",
       "      <td>gemm_3.6e+08</td>\n",
       "      <td>3.600000e+08</td>\n",
       "      <td>gemm!('N', 'N', 1.0, ml1, ml2, 0.0, ml4)</td>\n",
       "      <td>tmp2 = (B C)</td>\n",
       "      <td>2022-06-07 16:46:17.312080</td>\n",
       "    </tr>\n",
       "    <tr>\n",
       "      <th>1</th>\n",
       "      <td>algorithm1</td>\n",
       "      <td>gemm_3.6e+08</td>\n",
       "      <td>3.600000e+08</td>\n",
       "      <td>gemm!('N', 'N', 1.0, ml4, ml3, 0.0, ml5)</td>\n",
       "      <td>tmp5 = (tmp2 D)</td>\n",
       "      <td>2022-06-07 16:46:18.312080</td>\n",
       "    </tr>\n",
       "    <tr>\n",
       "      <th>2</th>\n",
       "      <td>algorithm1</td>\n",
       "      <td>gemm_1.8e+09</td>\n",
       "      <td>1.800000e+09</td>\n",
       "      <td>gemm!('N', 'N', 1.0, ml0, ml5, 0.0, ml6)</td>\n",
       "      <td>tmp6 = (A tmp5)</td>\n",
       "      <td>2022-06-07 16:46:19.312080</td>\n",
       "    </tr>\n",
       "    <tr>\n",
       "      <th>3</th>\n",
       "      <td>algorithm5</td>\n",
       "      <td>gemm_1.8e+09</td>\n",
       "      <td>1.800000e+09</td>\n",
       "      <td>gemm!('N', 'N', 1.0, ml0, ml1, 0.0, ml4)</td>\n",
       "      <td>tmp1 = (A B)</td>\n",
       "      <td>2022-06-07 16:52:57.312080</td>\n",
       "    </tr>\n",
       "    <tr>\n",
       "      <th>4</th>\n",
       "      <td>algorithm5</td>\n",
       "      <td>gemm_4e+08</td>\n",
       "      <td>4.000000e+08</td>\n",
       "      <td>gemm!('N', 'N', 1.0, ml2, ml3, 0.0, ml5)</td>\n",
       "      <td>tmp3 = (C D)</td>\n",
       "      <td>2022-06-07 16:52:58.312080</td>\n",
       "    </tr>\n",
       "  </tbody>\n",
       "</table>\n",
       "</div>"
      ],
      "text/plain": [
       "  case:concept:name  concept:name  concept:flops  \\\n",
       "0        algorithm1  gemm_3.6e+08   3.600000e+08   \n",
       "1        algorithm1  gemm_3.6e+08   3.600000e+08   \n",
       "2        algorithm1  gemm_1.8e+09   1.800000e+09   \n",
       "3        algorithm5  gemm_1.8e+09   1.800000e+09   \n",
       "4        algorithm5    gemm_4e+08   4.000000e+08   \n",
       "\n",
       "                             concept:kernel concept:operation  \\\n",
       "0  gemm!('N', 'N', 1.0, ml1, ml2, 0.0, ml4)      tmp2 = (B C)   \n",
       "1  gemm!('N', 'N', 1.0, ml4, ml3, 0.0, ml5)   tmp5 = (tmp2 D)   \n",
       "2  gemm!('N', 'N', 1.0, ml0, ml5, 0.0, ml6)   tmp6 = (A tmp5)   \n",
       "3  gemm!('N', 'N', 1.0, ml0, ml1, 0.0, ml4)      tmp1 = (A B)   \n",
       "4  gemm!('N', 'N', 1.0, ml2, ml3, 0.0, ml5)      tmp3 = (C D)   \n",
       "\n",
       "              timestamp:start  \n",
       "0  2022-06-07 16:46:17.312080  \n",
       "1  2022-06-07 16:46:18.312080  \n",
       "2  2022-06-07 16:46:19.312080  \n",
       "3  2022-06-07 16:52:57.312080  \n",
       "4  2022-06-07 16:52:58.312080  "
      ]
     },
     "execution_count": 30,
     "metadata": {},
     "output_type": "execute_result"
    }
   ],
   "source": [
    "event_table.head()"
   ]
  },
  {
   "cell_type": "code",
   "execution_count": 31,
   "id": "1a5e0f05",
   "metadata": {},
   "outputs": [
    {
     "data": {
      "text/html": [
       "<div>\n",
       "<style scoped>\n",
       "    .dataframe tbody tr th:only-of-type {\n",
       "        vertical-align: middle;\n",
       "    }\n",
       "\n",
       "    .dataframe tbody tr th {\n",
       "        vertical-align: top;\n",
       "    }\n",
       "\n",
       "    .dataframe thead th {\n",
       "        text-align: right;\n",
       "    }\n",
       "</style>\n",
       "<table border=\"1\" class=\"dataframe\">\n",
       "  <thead>\n",
       "    <tr style=\"text-align: right;\">\n",
       "      <th></th>\n",
       "      <th>case:concept:name</th>\n",
       "      <th>case:flops</th>\n",
       "      <th>case:num_kernels</th>\n",
       "    </tr>\n",
       "  </thead>\n",
       "  <tbody>\n",
       "    <tr>\n",
       "      <th>0</th>\n",
       "      <td>algorithm1</td>\n",
       "      <td>2.520000e+09</td>\n",
       "      <td>3</td>\n",
       "    </tr>\n",
       "    <tr>\n",
       "      <th>1</th>\n",
       "      <td>algorithm5</td>\n",
       "      <td>4.200000e+09</td>\n",
       "      <td>3</td>\n",
       "    </tr>\n",
       "    <tr>\n",
       "      <th>2</th>\n",
       "      <td>algorithm4</td>\n",
       "      <td>4.200000e+09</td>\n",
       "      <td>3</td>\n",
       "    </tr>\n",
       "    <tr>\n",
       "      <th>3</th>\n",
       "      <td>algorithm0</td>\n",
       "      <td>1.120000e+09</td>\n",
       "      <td>3</td>\n",
       "    </tr>\n",
       "    <tr>\n",
       "      <th>4</th>\n",
       "      <td>algorithm3</td>\n",
       "      <td>4.000000e+09</td>\n",
       "      <td>3</td>\n",
       "    </tr>\n",
       "  </tbody>\n",
       "</table>\n",
       "</div>"
      ],
      "text/plain": [
       "  case:concept:name    case:flops  case:num_kernels\n",
       "0        algorithm1  2.520000e+09                 3\n",
       "1        algorithm5  4.200000e+09                 3\n",
       "2        algorithm4  4.200000e+09                 3\n",
       "3        algorithm0  1.120000e+09                 3\n",
       "4        algorithm3  4.000000e+09                 3"
      ]
     },
     "execution_count": 31,
     "metadata": {},
     "output_type": "execute_result"
    }
   ],
   "source": [
    "case_table.head()"
   ]
  },
  {
   "cell_type": "code",
   "execution_count": 32,
   "id": "91eaaebe",
   "metadata": {},
   "outputs": [
    {
     "data": {
      "text/html": [
       "<div>\n",
       "<style scoped>\n",
       "    .dataframe tbody tr th:only-of-type {\n",
       "        vertical-align: middle;\n",
       "    }\n",
       "\n",
       "    .dataframe tbody tr th {\n",
       "        vertical-align: top;\n",
       "    }\n",
       "\n",
       "    .dataframe thead th {\n",
       "        text-align: right;\n",
       "    }\n",
       "</style>\n",
       "<table border=\"1\" class=\"dataframe\">\n",
       "  <thead>\n",
       "    <tr style=\"text-align: right;\">\n",
       "      <th></th>\n",
       "      <th>case:concept:name</th>\n",
       "      <th>concept:name</th>\n",
       "      <th>concept:flops</th>\n",
       "      <th>concept:kernel</th>\n",
       "      <th>concept:operation</th>\n",
       "      <th>timestamp:start</th>\n",
       "      <th>case:flops</th>\n",
       "      <th>case:num_kernels</th>\n",
       "    </tr>\n",
       "  </thead>\n",
       "  <tbody>\n",
       "    <tr>\n",
       "      <th>0</th>\n",
       "      <td>algorithm1</td>\n",
       "      <td>gemm_3.6e+08</td>\n",
       "      <td>3.600000e+08</td>\n",
       "      <td>gemm!('N', 'N', 1.0, ml1, ml2, 0.0, ml4)</td>\n",
       "      <td>tmp2 = (B C)</td>\n",
       "      <td>2022-06-07 16:46:17.312080</td>\n",
       "      <td>2.520000e+09</td>\n",
       "      <td>3</td>\n",
       "    </tr>\n",
       "    <tr>\n",
       "      <th>1</th>\n",
       "      <td>algorithm1</td>\n",
       "      <td>gemm_3.6e+08</td>\n",
       "      <td>3.600000e+08</td>\n",
       "      <td>gemm!('N', 'N', 1.0, ml4, ml3, 0.0, ml5)</td>\n",
       "      <td>tmp5 = (tmp2 D)</td>\n",
       "      <td>2022-06-07 16:46:18.312080</td>\n",
       "      <td>2.520000e+09</td>\n",
       "      <td>3</td>\n",
       "    </tr>\n",
       "    <tr>\n",
       "      <th>2</th>\n",
       "      <td>algorithm1</td>\n",
       "      <td>gemm_1.8e+09</td>\n",
       "      <td>1.800000e+09</td>\n",
       "      <td>gemm!('N', 'N', 1.0, ml0, ml5, 0.0, ml6)</td>\n",
       "      <td>tmp6 = (A tmp5)</td>\n",
       "      <td>2022-06-07 16:46:19.312080</td>\n",
       "      <td>2.520000e+09</td>\n",
       "      <td>3</td>\n",
       "    </tr>\n",
       "    <tr>\n",
       "      <th>3</th>\n",
       "      <td>algorithm5</td>\n",
       "      <td>gemm_1.8e+09</td>\n",
       "      <td>1.800000e+09</td>\n",
       "      <td>gemm!('N', 'N', 1.0, ml0, ml1, 0.0, ml4)</td>\n",
       "      <td>tmp1 = (A B)</td>\n",
       "      <td>2022-06-07 16:52:57.312080</td>\n",
       "      <td>4.200000e+09</td>\n",
       "      <td>3</td>\n",
       "    </tr>\n",
       "    <tr>\n",
       "      <th>4</th>\n",
       "      <td>algorithm5</td>\n",
       "      <td>gemm_4e+08</td>\n",
       "      <td>4.000000e+08</td>\n",
       "      <td>gemm!('N', 'N', 1.0, ml2, ml3, 0.0, ml5)</td>\n",
       "      <td>tmp3 = (C D)</td>\n",
       "      <td>2022-06-07 16:52:58.312080</td>\n",
       "      <td>4.200000e+09</td>\n",
       "      <td>3</td>\n",
       "    </tr>\n",
       "  </tbody>\n",
       "</table>\n",
       "</div>"
      ],
      "text/plain": [
       "  case:concept:name  concept:name  concept:flops  \\\n",
       "0        algorithm1  gemm_3.6e+08   3.600000e+08   \n",
       "1        algorithm1  gemm_3.6e+08   3.600000e+08   \n",
       "2        algorithm1  gemm_1.8e+09   1.800000e+09   \n",
       "3        algorithm5  gemm_1.8e+09   1.800000e+09   \n",
       "4        algorithm5    gemm_4e+08   4.000000e+08   \n",
       "\n",
       "                             concept:kernel concept:operation  \\\n",
       "0  gemm!('N', 'N', 1.0, ml1, ml2, 0.0, ml4)      tmp2 = (B C)   \n",
       "1  gemm!('N', 'N', 1.0, ml4, ml3, 0.0, ml5)   tmp5 = (tmp2 D)   \n",
       "2  gemm!('N', 'N', 1.0, ml0, ml5, 0.0, ml6)   tmp6 = (A tmp5)   \n",
       "3  gemm!('N', 'N', 1.0, ml0, ml1, 0.0, ml4)      tmp1 = (A B)   \n",
       "4  gemm!('N', 'N', 1.0, ml2, ml3, 0.0, ml5)      tmp3 = (C D)   \n",
       "\n",
       "              timestamp:start    case:flops  case:num_kernels  \n",
       "0  2022-06-07 16:46:17.312080  2.520000e+09                 3  \n",
       "1  2022-06-07 16:46:18.312080  2.520000e+09                 3  \n",
       "2  2022-06-07 16:46:19.312080  2.520000e+09                 3  \n",
       "3  2022-06-07 16:52:57.312080  4.200000e+09                 3  \n",
       "4  2022-06-07 16:52:58.312080  4.200000e+09                 3  "
      ]
     },
     "execution_count": 32,
     "metadata": {},
     "output_type": "execute_result"
    }
   ],
   "source": [
    "df = event_table.merge(case_table, on='case:concept:name')\n",
    "df.head()"
   ]
  },
  {
   "cell_type": "code",
   "execution_count": 34,
   "id": "337603b1",
   "metadata": {},
   "outputs": [],
   "source": [
    "log_csv = dataframe_utils.convert_timestamp_columns_in_df(df)\n",
    "log_csv = log_csv.sort_values('timestamp:start')\n",
    "event_log = log_converter.apply(log_csv)"
   ]
  },
  {
   "cell_type": "markdown",
   "id": "5b071701",
   "metadata": {},
   "source": [
    "### Case or trace attributes"
   ]
  },
  {
   "cell_type": "code",
   "execution_count": 35,
   "id": "d13ee54f",
   "metadata": {},
   "outputs": [
    {
     "name": "stdout",
     "output_type": "stream",
     "text": [
      "{'concept:name': 'algorithm0', 'flops': 1120000000.0, 'num_kernels': 3}\n",
      "{'concept:name': 'algorithm1', 'flops': 2520000000.0, 'num_kernels': 3}\n",
      "{'concept:name': 'algorithm2', 'flops': 2600000000.0, 'num_kernels': 3}\n",
      "{'concept:name': 'algorithm3', 'flops': 4000000000.0, 'num_kernels': 3}\n",
      "{'concept:name': 'algorithm4', 'flops': 4200000000.0, 'num_kernels': 3}\n",
      "{'concept:name': 'algorithm5', 'flops': 4200000000.0, 'num_kernels': 3}\n"
     ]
    }
   ],
   "source": [
    "for trace in event_log:\n",
    "    print(trace.attributes)"
   ]
  },
  {
   "cell_type": "markdown",
   "id": "0ab4c7de",
   "metadata": {},
   "source": [
    "### Event attributes"
   ]
  },
  {
   "cell_type": "code",
   "execution_count": 44,
   "id": "a10b2bc8",
   "metadata": {},
   "outputs": [
    {
     "name": "stdout",
     "output_type": "stream",
     "text": [
      "FLOPS: 1.12E+09\n",
      "gemm_3.6e+08 \t tmp2 = (B C)\n",
      "gemm_3.6e+08 \t tmp4 = (A tmp2)\n",
      "gemm_4e+08 \t tmp6 = (tmp4 D)\n",
      "\n",
      "\n",
      "FLOPS: 2.52E+09\n",
      "gemm_3.6e+08 \t tmp2 = (B C)\n",
      "gemm_3.6e+08 \t tmp5 = (tmp2 D)\n",
      "gemm_1.8e+09 \t tmp6 = (A tmp5)\n",
      "\n",
      "\n",
      "FLOPS: 2.60E+09\n",
      "gemm_1.8e+09 \t tmp1 = (A B)\n",
      "gemm_4e+08 \t tmp4 = (tmp1 C)\n",
      "gemm_4e+08 \t tmp6 = (tmp4 D)\n",
      "\n",
      "\n",
      "FLOPS: 4.00E+09\n",
      "gemm_4e+08 \t tmp3 = (C D)\n",
      "gemm_1.8e+09 \t tmp5 = (B tmp3)\n",
      "gemm_1.8e+09 \t tmp6 = (A tmp5)\n",
      "\n",
      "\n",
      "FLOPS: 4.20E+09\n",
      "gemm_4e+08 \t tmp3 = (C D)\n",
      "gemm_1.8e+09 \t tmp1 = (A B)\n",
      "gemm_2e+09 \t tmp6 = (tmp1 tmp3)\n",
      "\n",
      "\n",
      "FLOPS: 4.20E+09\n",
      "gemm_1.8e+09 \t tmp1 = (A B)\n",
      "gemm_4e+08 \t tmp3 = (C D)\n",
      "gemm_2e+09 \t tmp6 = (tmp1 tmp3)\n",
      "\n",
      "\n"
     ]
    }
   ],
   "source": [
    "for trace in event_log:\n",
    "    print('FLOPS: {:.2E}'.format(trace.attributes['flops']))\n",
    "    for event in trace:\n",
    "        print(event['concept:name'],'\\t', event['concept:operation'])\n",
    "    print('\\n')"
   ]
  },
  {
   "cell_type": "markdown",
   "id": "ed5d65c9",
   "metadata": {},
   "source": [
    "### Filtering log"
   ]
  },
  {
   "cell_type": "code",
   "execution_count": 46,
   "id": "1d552758",
   "metadata": {},
   "outputs": [],
   "source": [
    "filtered_log = pm4py.filter_log(lambda x: x.attributes['flops'] < 2.55e9, event_log)"
   ]
  },
  {
   "cell_type": "code",
   "execution_count": 47,
   "id": "1cd4e97b",
   "metadata": {},
   "outputs": [
    {
     "name": "stdout",
     "output_type": "stream",
     "text": [
      "FLOPS: 1.12E+09\n",
      "gemm_3.6e+08 \t tmp2 = (B C)\n",
      "gemm_3.6e+08 \t tmp4 = (A tmp2)\n",
      "gemm_4e+08 \t tmp6 = (tmp4 D)\n",
      "\n",
      "\n",
      "FLOPS: 2.52E+09\n",
      "gemm_3.6e+08 \t tmp2 = (B C)\n",
      "gemm_3.6e+08 \t tmp5 = (tmp2 D)\n",
      "gemm_1.8e+09 \t tmp6 = (A tmp5)\n",
      "\n",
      "\n"
     ]
    }
   ],
   "source": [
    "for trace in filtered_log:\n",
    "    print('FLOPS: {:.2E}'.format(trace.attributes['flops']))\n",
    "    for event in trace:\n",
    "        print(event['concept:name'],'\\t', event['concept:operation'])\n",
    "    print('\\n')"
   ]
  },
  {
   "cell_type": "markdown",
   "id": "ad9b7342",
   "metadata": {},
   "source": [
    "## Process model"
   ]
  },
  {
   "cell_type": "markdown",
   "id": "42f9ce06",
   "metadata": {},
   "source": [
    "### Alpha Miner\n",
    "\n",
    "**Cannot find self loops**"
   ]
  },
  {
   "cell_type": "code",
   "execution_count": 48,
   "id": "8010dcb3",
   "metadata": {},
   "outputs": [],
   "source": [
    "from pm4py.algo.discovery.alpha import algorithm as alpha_miner\n",
    "from pm4py.visualization.petri_net import visualizer as pn_visualizer"
   ]
  },
  {
   "cell_type": "code",
   "execution_count": 49,
   "id": "c8b99e83",
   "metadata": {},
   "outputs": [],
   "source": [
    "net, initial_marking, final_marking = alpha_miner.apply(filtered_log)"
   ]
  },
  {
   "cell_type": "code",
   "execution_count": 50,
   "id": "53904ffd",
   "metadata": {},
   "outputs": [
    {
     "data": {
      "image/png": "[encoded data removed]",
      "text/plain": [
       "<IPython.core.display.Image object>"
      ]
     },
     "metadata": {},
     "output_type": "display_data"
    }
   ],
   "source": [
    "gviz = pn_visualizer.apply(net, initial_marking, final_marking)\n",
    "pn_visualizer.view(gviz)"
   ]
  },
  {
   "cell_type": "markdown",
   "id": "6f0c7043",
   "metadata": {},
   "source": [
    "### Inductive miner"
   ]
  },
  {
   "cell_type": "code",
   "execution_count": 51,
   "id": "42b81ce0",
   "metadata": {},
   "outputs": [],
   "source": [
    "from pm4py.algo.discovery.inductive import algorithm as inductive_miner"
   ]
  },
  {
   "cell_type": "code",
   "execution_count": 82,
   "id": "e9f81e9d",
   "metadata": {},
   "outputs": [],
   "source": [
    "filtered_log = pm4py.filter_log(lambda x: x.attributes['flops'] < 2.55e9, event_log)\n",
    "net, initial_marking, final_marking = inductive_miner.apply(filtered_log)"
   ]
  },
  {
   "cell_type": "code",
   "execution_count": 83,
   "id": "cb291f74",
   "metadata": {},
   "outputs": [
    {
     "data": {
      "image/png": "[encoded data removed]",
      "text/plain": [
       "<IPython.core.display.Image object>"
      ]
     },
     "metadata": {},
     "output_type": "display_data"
    }
   ],
   "source": [
    "gviz = pn_visualizer.apply(net, initial_marking, final_marking)\n",
    "pn_visualizer.view(gviz)"
   ]
  },
  {
   "cell_type": "code",
   "execution_count": 84,
   "id": "e0a757e8",
   "metadata": {},
   "outputs": [
    {
     "name": "stdout",
     "output_type": "stream",
     "text": [
      "FLOPS: 1.12E+09\n",
      "gemm_3.6e+08 \t tmp2 = (B C)\n",
      "gemm_3.6e+08 \t tmp4 = (A tmp2)\n",
      "gemm_4e+08 \t tmp6 = (tmp4 D)\n",
      "\n",
      "\n",
      "FLOPS: 2.52E+09\n",
      "gemm_3.6e+08 \t tmp2 = (B C)\n",
      "gemm_3.6e+08 \t tmp5 = (tmp2 D)\n",
      "gemm_1.8e+09 \t tmp6 = (A tmp5)\n",
      "\n",
      "\n"
     ]
    }
   ],
   "source": [
    "for trace in filtered_log:\n",
    "    print('FLOPS: {:.2E}'.format(trace.attributes['flops']))\n",
    "    for event in trace:\n",
    "        print(event['concept:name'],'\\t', event['concept:operation'])\n",
    "    print('\\n')"
   ]
  },
  {
   "cell_type": "markdown",
   "id": "8d393b53",
   "metadata": {},
   "source": [
    "### Heuristic Miner"
   ]
  },
  {
   "cell_type": "code",
   "execution_count": 85,
   "id": "1b0f6c96",
   "metadata": {},
   "outputs": [],
   "source": [
    "from pm4py.algo.discovery.heuristics import algorithm as heuristics_miner"
   ]
  },
  {
   "cell_type": "code",
   "execution_count": 86,
   "id": "f70d86f5",
   "metadata": {},
   "outputs": [
    {
     "data": {
      "image/png": "[encoded data removed]",
      "text/plain": [
       "<IPython.core.display.Image object>"
      ]
     },
     "metadata": {},
     "output_type": "display_data"
    }
   ],
   "source": [
    "net, im, fm = heuristics_miner.apply(filtered_log, parameters={heuristics_miner.Variants.CLASSIC.value.Parameters.DEPENDENCY_THRESH: 0.0})\n",
    "\n",
    "gviz = pn_visualizer.apply(net,im,fm)\n",
    "pn_visualizer.view(gviz)"
   ]
  },
  {
   "cell_type": "code",
   "execution_count": null,
   "id": "f9de4e5b",
   "metadata": {},
   "outputs": [],
   "source": []
  },
  {
   "cell_type": "markdown",
   "id": "4eb4aa34",
   "metadata": {},
   "source": [
    "## Run experiments. Draw net only for competing variants. \n",
    "\n",
    "Competing variants can be variants with lest FLOPs or variants that are better than least FLOPs.\n",
    "\n",
    "Run all exp and draw histogram - clickable - draw petri net for selected regions..\n",
    "\n",
    "What we would like to know?:\n",
    "\n",
    "Are all competing variants equivalent? - from data."
   ]
  },
  {
   "cell_type": "markdown",
   "id": "883c110f",
   "metadata": {},
   "source": [
    "### Idea: \n",
    "\n",
    "Capture as many competing variants as possible.. identufy decision points.. use this info to train kernel level performance models that depends on other kernels.\n",
    "\n",
    "TODO:\n",
    "\n",
    "1) concept name should be invariant of problem size\n",
    "\n",
    "2) Once the net for competing variants is drawn, analyse"
   ]
  },
  {
   "cell_type": "code",
   "execution_count": null,
   "id": "7f382210",
   "metadata": {},
   "outputs": [],
   "source": []
  }
 ],
 "metadata": {
  "kernelspec": {
   "display_name": "Python 3 (ipykernel)",
   "language": "python",
   "name": "python3"
  },
  "language_info": {
   "codemirror_mode": {
    "name": "ipython",
    "version": 3
   },
   "file_extension": ".py",
   "mimetype": "text/x-python",
   "name": "python",
   "nbconvert_exporter": "python",
   "pygments_lexer": "ipython3",
   "version": "3.9.7"
  }
 },
 "nbformat": 4,
 "nbformat_minor": 5
}
