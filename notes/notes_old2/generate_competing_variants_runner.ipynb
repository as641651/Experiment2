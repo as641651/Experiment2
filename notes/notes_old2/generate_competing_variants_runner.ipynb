{
 "cells": [
  {
   "cell_type": "code",
   "execution_count": 6,
   "id": "27a21858",
   "metadata": {},
   "outputs": [],
   "source": [
    "import os\n",
    "import random\n",
    "import pkg_resources"
   ]
  },
  {
   "cell_type": "code",
   "execution_count": 7,
   "id": "23d22ff4",
   "metadata": {},
   "outputs": [],
   "source": [
    "expression_dir = \"../Matrix-Chain-4/variants-linnea/experiments/100_100_10_100_100/\""
   ]
  },
  {
   "cell_type": "code",
   "execution_count": 8,
   "id": "7bb3bfb6",
   "metadata": {},
   "outputs": [],
   "source": [
    "runner_file = os.path.join(expression_dir,\"runner.jl\")"
   ]
  },
  {
   "cell_type": "code",
   "execution_count": 9,
   "id": "e9db1927",
   "metadata": {},
   "outputs": [],
   "source": [
    "competing_algs = ['algorithm1', 'algorithm0']"
   ]
  },
  {
   "cell_type": "code",
   "execution_count": 10,
   "id": "a8e36e55",
   "metadata": {},
   "outputs": [],
   "source": [
    "variants_path = [os.path.join(expression_dir, \"experiments\", \"{}.jl\".format(alg)) for alg in competing_algs]"
   ]
  },
  {
   "cell_type": "code",
   "execution_count": 11,
   "id": "9121485d",
   "metadata": {},
   "outputs": [
    {
     "data": {
      "text/plain": [
       "['../Matrix-Chain-4/variants-linnea/experiments/100_100_10_100_100/experiments/algorithm1.jl',\n",
       " '../Matrix-Chain-4/variants-linnea/experiments/100_100_10_100_100/experiments/algorithm0.jl']"
      ]
     },
     "execution_count": 11,
     "metadata": {},
     "output_type": "execute_result"
    }
   ],
   "source": [
    "variants_path"
   ]
  },
  {
   "cell_type": "code",
   "execution_count": 9,
   "id": "b0d36759",
   "metadata": {},
   "outputs": [
    {
     "name": "stdout",
     "output_type": "stream",
     "text": [
      "True\n",
      "True\n"
     ]
    }
   ],
   "source": [
    "for var in variants_path:\n",
    "    print(os.path.exists(var))"
   ]
  },
  {
   "cell_type": "code",
   "execution_count": 10,
   "id": "f978847f",
   "metadata": {},
   "outputs": [],
   "source": [
    "offset = '   '"
   ]
  },
  {
   "cell_type": "code",
   "execution_count": 17,
   "id": "1989fb33",
   "metadata": {},
   "outputs": [],
   "source": [
    "runner_template = offset+'ret,times = {alg}(map(MatrixGenerator.unwrap, map(copy, matrices))...)\\n'\n",
    "runner_template += offset+'write_{alg}_to_eventlog(io, \"{alg}_{rep}\", times)\\n\\n'"
   ]
  },
  {
   "cell_type": "code",
   "execution_count": 12,
   "id": "84410e64",
   "metadata": {},
   "outputs": [],
   "source": [
    "R = 3\n",
    "measurements_instance_set = []\n",
    "for variant in competing_algs:\n",
    "    measurements_instance_set = measurements_instance_set + [(i,variant) for i in range(R)]"
   ]
  },
  {
   "cell_type": "code",
   "execution_count": 13,
   "id": "86c20842",
   "metadata": {},
   "outputs": [
    {
     "data": {
      "text/plain": [
       "[(0, 'algorithm1'),\n",
       " (1, 'algorithm1'),\n",
       " (2, 'algorithm1'),\n",
       " (0, 'algorithm0'),\n",
       " (1, 'algorithm0'),\n",
       " (2, 'algorithm0')]"
      ]
     },
     "execution_count": 13,
     "metadata": {},
     "output_type": "execute_result"
    }
   ],
   "source": [
    "measurements_instance_set"
   ]
  },
  {
   "cell_type": "code",
   "execution_count": 15,
   "id": "524c44d4",
   "metadata": {},
   "outputs": [],
   "source": [
    "random.shuffle(measurements_instance_set)"
   ]
  },
  {
   "cell_type": "code",
   "execution_count": 16,
   "id": "824f9a6a",
   "metadata": {},
   "outputs": [
    {
     "data": {
      "text/plain": [
       "[(0, 'algorithm0'),\n",
       " (0, 'algorithm1'),\n",
       " (2, 'algorithm0'),\n",
       " (2, 'algorithm1'),\n",
       " (1, 'algorithm0'),\n",
       " (1, 'algorithm1')]"
      ]
     },
     "execution_count": 16,
     "metadata": {},
     "output_type": "execute_result"
    }
   ],
   "source": [
    "measurements_instance_set"
   ]
  },
  {
   "cell_type": "code",
   "execution_count": 18,
   "id": "2d8f202a",
   "metadata": {},
   "outputs": [],
   "source": [
    "runner_code = \"\"\n",
    "for measurement in measurements_instance_set:\n",
    "    runner_code += runner_template.format(alg=measurement[1], rep=measurement[0])\n",
    "    "
   ]
  },
  {
   "cell_type": "code",
   "execution_count": 20,
   "id": "9cf5a424",
   "metadata": {},
   "outputs": [
    {
     "name": "stdout",
     "output_type": "stream",
     "text": [
      "   ret,times = algorithm0(map(MatrixGenerator.unwrap, map(copy, matrices))...)\n",
      "   write_algorithm0_to_eventlog(io, \"algorithm0_0\", times)\n",
      "\n",
      "   ret,times = algorithm1(map(MatrixGenerator.unwrap, map(copy, matrices))...)\n",
      "   write_algorithm1_to_eventlog(io, \"algorithm1_0\", times)\n",
      "\n",
      "   ret,times = algorithm0(map(MatrixGenerator.unwrap, map(copy, matrices))...)\n",
      "   write_algorithm0_to_eventlog(io, \"algorithm0_2\", times)\n",
      "\n",
      "   ret,times = algorithm1(map(MatrixGenerator.unwrap, map(copy, matrices))...)\n",
      "   write_algorithm1_to_eventlog(io, \"algorithm1_2\", times)\n",
      "\n",
      "   ret,times = algorithm0(map(MatrixGenerator.unwrap, map(copy, matrices))...)\n",
      "   write_algorithm0_to_eventlog(io, \"algorithm0_1\", times)\n",
      "\n",
      "   ret,times = algorithm1(map(MatrixGenerator.unwrap, map(copy, matrices))...)\n",
      "   write_algorithm1_to_eventlog(io, \"algorithm1_1\", times)\n",
      "\n",
      "\n"
     ]
    }
   ],
   "source": [
    "print(runner_code)"
   ]
  },
  {
   "cell_type": "code",
   "execution_count": 50,
   "id": "789201c7",
   "metadata": {},
   "outputs": [],
   "source": [
    "def generate_runner_competing_code(competing_vars, reps, expression_dir=\"\"):\n",
    "    \n",
    "    variants_path = [os.path.join(expression_dir, \n",
    "                                  \"experiments\", \"{}.jl\".format(alg)) for alg in competing_vars]\n",
    "    for var_path in variants_path:\n",
    "        if not os.path.exists(var_path):\n",
    "            return -1\n",
    "    \n",
    "    variants_includes = \"\"\n",
    "    measurements_instance_set = []\n",
    "    for var in competing_vars:\n",
    "        variants_includes += 'include(\"experiments/{}.jl\")\\n'.format(var)\n",
    "        measurements_instance_set = measurements_instance_set + [(i,var) for i in range(reps)]\n",
    "    random.shuffle(measurements_instance_set)\n",
    "    \n",
    "    \n",
    "    runner_template = offset+'ret,times = {alg}(map(MatrixGenerator.unwrap, map(copy, matrices))...)\\n'\n",
    "    runner_template += offset+'write_{alg}_to_eventlog(io, \"{alg}_{rep}\", times)\\n\\n'\n",
    "    runner_code = \"\"\n",
    "    for measurement in measurements_instance_set:\n",
    "        runner_code += runner_template.format(alg=measurement[1], rep=measurement[0])\n",
    "        \n",
    "    runner_path = os.path.join(expression_dir,\"run_times_competing.txt\")\n",
    "    inject = {\n",
    "        'variants_includes': variants_includes,\n",
    "        'runner_code': runner_code,\n",
    "        'runner_path': os.path.abspath(runner_path)\n",
    "    }\n",
    "    \n",
    "    \n",
    "    #template_str = pkg_resources.resource_string(__name__, \"templates/runner.jl\").decode(\"UTF-8\")\n",
    "    template_str = open(\"../utils/templates/runner.jl\", \"r\").read()\n",
    "    print(template_str.format(**inject))\n",
    "    \n",
    "#     runner_file = os.path.join(expression_dir,\"runner_competing.jl\")\n",
    "#     with open(runner_file, \"wt\", encoding='utf-8') as output_file:\n",
    "#         output_file.write(template_str.format(**inject))\n",
    "    \n",
    "\n",
    "    "
   ]
  },
  {
   "cell_type": "code",
   "execution_count": 51,
   "id": "738f5672",
   "metadata": {},
   "outputs": [
    {
     "name": "stdout",
     "output_type": "stream",
     "text": [
      "using MatrixGenerator\n",
      "\n",
      "include(\"experiments/algorithm1.jl\")\n",
      "include(\"experiments/algorithm0.jl\")\n",
      "\n",
      "include(\"operand_generator.jl\")\n",
      "\n",
      "function main()\n",
      "\n",
      "    matrices = operand_generator()\n",
      "\n",
      "    io = open(\"/Users/aravind/exercise/PyCharmProjects/performance-analyzer/Experiments2/Matrix-Chain-4/variants-linnea/experiments/100_100_10_100_100/run_times_competing.txt\",\"w\")\n",
      "    write(io, \"case:concept:name;concept:name;concept:flops;concept:operation;concept:kernel;timestamp:start;timestamp:end\\n\")\n",
      "\n",
      "   ret,times = algorithm0(map(MatrixGenerator.unwrap, map(copy, matrices))...)\n",
      "   write_algorithm0_to_eventlog(io, \"algorithm0_0\", times)\n",
      "\n",
      "   ret,times = algorithm0(map(MatrixGenerator.unwrap, map(copy, matrices))...)\n",
      "   write_algorithm0_to_eventlog(io, \"algorithm0_1\", times)\n",
      "\n",
      "   ret,times = algorithm1(map(MatrixGenerator.unwrap, map(copy, matrices))...)\n",
      "   write_algorithm1_to_eventlog(io, \"algorithm1_0\", times)\n",
      "\n",
      "   ret,times = algorithm0(map(MatrixGenerator.unwrap, map(copy, matrices))...)\n",
      "   write_algorithm0_to_eventlog(io, \"algorithm0_2\", times)\n",
      "\n",
      "   ret,times = algorithm1(map(MatrixGenerator.unwrap, map(copy, matrices))...)\n",
      "   write_algorithm1_to_eventlog(io, \"algorithm1_1\", times)\n",
      "\n",
      "   ret,times = algorithm1(map(MatrixGenerator.unwrap, map(copy, matrices))...)\n",
      "   write_algorithm1_to_eventlog(io, \"algorithm1_2\", times)\n",
      "\n",
      "\n",
      "\n",
      "\n",
      "end\n",
      "\n",
      "main()\n"
     ]
    }
   ],
   "source": [
    "generate_runner_competing_code(competing_algs,3,expression_dir)"
   ]
  },
  {
   "cell_type": "code",
   "execution_count": 41,
   "id": "589d2d5b",
   "metadata": {},
   "outputs": [],
   "source": [
    "data = open(\"../utils/templates/runner.jl\", \"r\").read()"
   ]
  },
  {
   "cell_type": "code",
   "execution_count": 32,
   "id": "4ebdb854",
   "metadata": {},
   "outputs": [
    {
     "name": "stdout",
     "output_type": "stream",
     "text": [
      "using MatrixGenerator\n",
      "\n",
      "{variants_includes}\n",
      "include(\"operand_generator.jl\")\n",
      "\n",
      "function main()\n",
      "\n",
      "    matrices = operand_generator()\n",
      "\n",
      "    io = open(\"{runner_path}\",\"w\")\n",
      "    write(io, \"case:concept:name;concept:name;concept:flops;concept:operation;concept:kernel;timestamp:start;timestamp:end\\n\")\n",
      "\n",
      "{runner_code}\n",
      "\n",
      "\n",
      "end\n",
      "\n",
      "main()\n"
     ]
    }
   ],
   "source": [
    "print(data)"
   ]
  },
  {
   "cell_type": "code",
   "execution_count": 12,
   "id": "e0578a4f",
   "metadata": {},
   "outputs": [],
   "source": [
    "import sys\n",
    "sys.path.append(\"../utils/\")"
   ]
  },
  {
   "cell_type": "code",
   "execution_count": 13,
   "id": "19357a35",
   "metadata": {},
   "outputs": [],
   "source": [
    "from generate_linnea_experiment_code import generate_runner_competing_code"
   ]
  },
  {
   "cell_type": "code",
   "execution_count": 14,
   "id": "c6d12957",
   "metadata": {},
   "outputs": [],
   "source": [
    "generate_runner_competing_code(competing_algs,5,expression_dir)"
   ]
  },
  {
   "cell_type": "code",
   "execution_count": null,
   "id": "e5abf281",
   "metadata": {},
   "outputs": [],
   "source": []
  },
  {
   "cell_type": "code",
   "execution_count": null,
   "id": "95bd48f4",
   "metadata": {},
   "outputs": [],
   "source": []
  },
  {
   "cell_type": "code",
   "execution_count": null,
   "id": "82627cf2",
   "metadata": {},
   "outputs": [],
   "source": []
  }
 ],
 "metadata": {
  "kernelspec": {
   "display_name": "Python 3 (ipykernel)",
   "language": "python",
   "name": "python3"
  },
  "language_info": {
   "codemirror_mode": {
    "name": "ipython",
    "version": 3
   },
   "file_extension": ".py",
   "mimetype": "text/x-python",
   "name": "python",
   "nbconvert_exporter": "python",
   "pygments_lexer": "ipython3",
   "version": "3.9.7"
  }
 },
 "nbformat": 4,
 "nbformat_minor": 5
}
