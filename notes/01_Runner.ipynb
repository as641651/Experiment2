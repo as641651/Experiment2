{
 "cells": [
  {
   "cell_type": "code",
   "execution_count": 103,
   "id": "6acac749",
   "metadata": {},
   "outputs": [],
   "source": [
    "import os\n",
    "import subprocess\n",
    "import pandas as pd\n",
    "import shutil\n",
    "from paramiko import SSHClient, AutoAddPolicy\n",
    "import sys\n",
    "sys.path.append(\"../utils/\")\n",
    "from filter_variants import FilterVariants\n"
   ]
  },
  {
   "cell_type": "code",
   "execution_count": 111,
   "id": "8218ebcc",
   "metadata": {},
   "outputs": [],
   "source": [
    "class BackendManager:\n",
    "    def __init__(self, server, uname, app):\n",
    "        self.server = server\n",
    "        self.uname = uname\n",
    "        self.app = app\n",
    "        self.client = SSHClient()\n",
    "        self.client.set_missing_host_key_policy(AutoAddPolicy())\n",
    "        self.connected = False\n",
    "        \n",
    "        \n",
    "    def connect(self):\n",
    "        self.client.connect(self.server, username=self.uname)\n",
    "        self.connected = True\n",
    "        \n",
    "    def close(self):\n",
    "        self.client.close()\n",
    "        self.connected = False\n",
    "        \n",
    "    def generate_experiments(self, expression_dir, args, threads):\n",
    "        if self.connected:\n",
    "            cmd = \"source ~/.analyzer; \"\n",
    "            cmd += \"cd {}; \".format(expression_dir)\n",
    "            cmd += \"python generate-variants-linnea.py {} --threads={};\".format(\" \".join(args), threads)\n",
    "            \n",
    "            print(cmd)\n",
    "            \n",
    "            _, stdout, _ = self.client.exec_command(cmd)\n",
    "            \n",
    "            ret = stdout.readlines()\n",
    "            print(ret)\n",
    "            if \"Generated Variants\" in ret[-1]:\n",
    "                return 0\n",
    "            else:\n",
    "                return 1\n",
    "        else:\n",
    "            return -1\n",
    "        \n",
    "        \n",
    "    def check_if_file_exists(self, file_path):\n",
    "        if self.connected:\n",
    "            cmd = \"test -f {};\".format(file_path)\n",
    "            _, stdout, _ = self.client.exec_command(cmd)\n",
    "            ret = stdout.channel.recv_exit_status()\n",
    "            if stdout.channel.recv_exit_status() == 0:\n",
    "                return True\n",
    "            return False\n",
    "        return -1\n",
    "        \n",
    "    def run_experiments(self, runner_file):\n",
    "        if self.connected:\n",
    "            args_dir, script = os.path.split(runner_file)\n",
    "            \n",
    "            cmd = \"source ~/.analyzer; \"\n",
    "            cmd += \"cd {}; \".format(args_dir)\n",
    "            cmd += \"{} {};\".format(self.app, script)\n",
    "            \n",
    "            _, stdout, _ = self.client.exec_command(cmd)\n",
    "            \n",
    "            print(cmd)\n",
    "\n",
    "            if stdout.channel.recv_exit_status() == 0:\n",
    "                return 0\n",
    "            print(\"Error: \", stdout.channel.recv_exit_status())\n",
    "            return 1\n",
    "        return -1\n",
    "    \n",
    "    def check_slrum_status(self, jobname):\n",
    "        if self.connected:\n",
    "            cmd = \"squeue --format=\\\"%.18i %.9P %.30j %.8u %.8T %.10M %.9l %.6D %R\\\" --me\"\n",
    "            _, stdout, _ = self.client.exec_command(cmd)\n",
    "            ret = stdout.readlines()\n",
    "            for j in ret:\n",
    "                if jobname in j.split():\n",
    "                    print(j)\n",
    "                    return 2\n",
    "            \n",
    "            print(ret)\n",
    "            return 0\n",
    "        \n",
    "    def copy_from_backend(self,backend_path, local_path):\n",
    "        call = 'scp {uname}@{server}:{backend_path} {local_path}'.format(uname=self.uname,\n",
    "                                                                     server=self.server,\n",
    "                                                                     backend_path=backend_path,\n",
    "                                                                     local_path=local_path)\n",
    "        print(call)\n",
    "        try:\n",
    "            ret = subprocess.check_output(call.split())\n",
    "            print(ret)\n",
    "            return 0\n",
    "        except Exception as e:\n",
    "            print(e)\n",
    "            return 1\n",
    "        \n",
    "    \n",
    "    def generate_measurements_script(self,cmd_args, args_dir):\n",
    "        if self.connected:\n",
    "            cmd = \"source ~/.analyzer; \"\n",
    "            cmd += \"cd {}; \".format(args_dir)\n",
    "            cmd += \"python generate-measurements-script.py {}\".format(cmd_args)\n",
    "            print(cmd)\n",
    "            \n",
    "            _, stdout, _ = self.client.exec_command(cmd)\n",
    "            \n",
    "            if stdout.channel.recv_exit_status() == 0:\n",
    "                return 0\n",
    "            print(\"Error: \", stdout.channel.recv_exit_status())\n",
    "            return 1\n",
    "        \n",
    "        return -1\n",
    "            \n",
    "        \n",
    "    \n",
    "    def cancel_job(self,job_name):\n",
    "        pass\n",
    "    \n",
    "    def debug_cmd(self, cmd):\n",
    "        call =  'ssh -l {} {}'.format(self.uname, self.server).split()\n",
    "        ret = subprocess.check_output(call + [cmd,])\n",
    "        print(ret)\n",
    "            \n",
    "         "
   ]
  },
  {
   "cell_type": "code",
   "execution_count": null,
   "id": "3fbcf8b9",
   "metadata": {},
   "outputs": [],
   "source": []
  },
  {
   "cell_type": "code",
   "execution_count": 67,
   "id": "e1123ccb",
   "metadata": {},
   "outputs": [],
   "source": [
    "class Runner:\n",
    "    def __init__(self, name, expression_dir, args, threads=4, backend=None):\n",
    "        \"\"\"\n",
    "        This class handles the code generation and execution of the variant codes. \n",
    "        The generated event data can be obtained as a pandas dataframe.\n",
    "        \n",
    "        Requirements:\n",
    "        \n",
    "        It is assumed that there exists a script file that generates variant codes\n",
    "        for a given oopoerand sizes. The operand sizes are input as command line args\n",
    "            e.g. run of script file: python generate.py 10 10 10 10 12\n",
    "        \n",
    "        After running the script file, inside the folder \"experiments\", which is in \n",
    "        the same directory as the script file, an \"argument folder\" is generated, \n",
    "        which contains the case_table, event_meta_table (i.e, the event table without actual run times)\n",
    "        ,and a runner script as shown in the expample below:\n",
    "            e.g. experiment/10_10_10_10_12/\n",
    "                    case_table.csv\n",
    "                    event_meta_table.csv\n",
    "                    runner.jl \n",
    "        \n",
    "        'runner.jl' is the script that runs the experiments and generates a log file 'run_times.txt' (which is the\n",
    "        event table with actual run times) in the \"arguments folder\"\n",
    "        \n",
    "        \n",
    "        INPUT:\n",
    "        \n",
    "        name: Experiment name\n",
    "        script_path: Path to the script file that generates variants\n",
    "        args: operand sizes (or arguments to the script file)\n",
    "        \n",
    "        USECASE:\n",
    "        If the behavior of the script is as said in the requirements, this class can \n",
    "        call the scipt file and collects the eventlogs as a pandas dataframe, and \n",
    "        if needed, can also clean the generated folders.\n",
    "        \n",
    "        \"\"\"\n",
    "        self.name = name\n",
    "        self.expression_dir = expression_dir\n",
    "        self.threads = threads\n",
    "        \n",
    "        self.script_path = os.path.join(self.expression_dir, \"generate-variants-linnea.py\")\n",
    "        self.args = args\n",
    "        self.args_dir = os.path.join(self.expression_dir,\n",
    "                                   \"experiments\",\n",
    "                                  \"_\".join(self.args))\n",
    "        \n",
    "        self.backend = backend\n",
    "        \n",
    "    \n",
    "    def generate_experiments(self):  \n",
    "        \"\"\"\n",
    "        generates experiments for a given set of valid arguments\n",
    "        that can be given as input to the script file.\n",
    "            e.g. in,  python generate.py 10 10 10 10 12\n",
    "            ['10','10','10','10','12'] would be the argument list.\n",
    "            \n",
    "        Output: Return code == 0 implies successful completion \n",
    "        \"\"\"\n",
    "        \n",
    "        if not self.backend:\n",
    "            call = [\"python\", self.script_path] + self.args + [\"--threads={}\".format(self.threads)]\n",
    "            completed_proccess = subprocess.run(call)\n",
    "            ret = completed_proccess.returncode\n",
    "        else:\n",
    "            ret = self.backend.generate_experiments(self.expression_dir, self.args, self.threads)\n",
    "            \n",
    "        return ret\n",
    "    \n",
    "       \n",
    "    def run_experiments(self):\n",
    "        \"\"\"\n",
    "        executes the runner file, which generates run_times.txt\n",
    "        \"\"\" \n",
    "        runner_path = os.path.join(self.args_dir,\"runner.jl\")\n",
    "        if not self.backend:\n",
    "            if os.path.exists(self.args_dir):\n",
    "                print(\"Running Experiments locally\")\n",
    "                completed_proccess = subprocess.run([\"julia\", runner_path])\n",
    "                if completed_proccess.returncode == 0:\n",
    "                    print(\"Experiments completed locally\")\n",
    "                    return 0 # Ran experiment  \n",
    "        else:    \n",
    "            ret = self.backend.run_experiments(runner_path)\n",
    "            if ret == 0:\n",
    "                print(\"Running experiments in the backend.\")\n",
    "                return 0\n",
    "            \n",
    "        return -1\n",
    "    \n",
    "    def clean(self):\n",
    "        \"\"\"remove arguments folder\"\"\"\n",
    "        if os.path.exists(self.args_dir):\n",
    "            shutil.rmtree(self.args_dir)\n",
    "        else:\n",
    "            return -1\n",
    "            \n",
    "            "
   ]
  },
  {
   "cell_type": "code",
   "execution_count": 143,
   "id": "d24f40d1",
   "metadata": {},
   "outputs": [],
   "source": [
    "class DataCollector:\n",
    "    def __init__(self,local_data_dir, backend_data_dir=None, backend=None):\n",
    "        self.local_data_dir = local_data_dir\n",
    "        self.backend = backend\n",
    "        self.backend_data_dir = backend_data_dir\n",
    "        \n",
    "    \n",
    "    def read_log(self, log_path):\n",
    "        if os.path.exists(log_path):\n",
    "            df = pd.read_csv(log_path,sep=';')\n",
    "            return df\n",
    "        return -1\n",
    "    \n",
    "    def get_table(self, table_name):\n",
    "        table_path = os.path.join(self.local_data_dir,table_name)\n",
    "        if os.path.exists(table_path):\n",
    "            return self.read_log(table_path)\n",
    "        elif self.backend_data_dir:\n",
    "            backend_path = os.path.join(self.backend_data_dir, table_name)\n",
    "            self.backend.copy_from_backend(backend_path, self.local_data_dir)\n",
    "            if os.path.exists(table_path):\n",
    "                return self.read_log(table_path)\n",
    "            \n",
    "        return -1\n",
    "    \n",
    "    def get_case_table(self):\n",
    "        return self.get_table(\"case_table.csv\")      \n",
    "                    \n",
    "    def get_event_meta_table(self):\n",
    "        \"\"\"get event table without actual execution times.\"\"\"\n",
    "        return self.get_table(\"event_meta_table.csv\")\n",
    "    \n",
    "    def get_all_runtimes_table(self):    \n",
    "        \"\"\"get event table with actual execution times.\"\"\"\n",
    "        return self.get_table(\"run_times.csv\")\n",
    "    \n",
    "    def get_runtimes_competing_table(self, run_id):\n",
    "        return self.get_table(\"run_times_competing_{}.csv\".format(run_id))\n",
    "      "
   ]
  },
  {
   "cell_type": "code",
   "execution_count": 167,
   "id": "f57c387a",
   "metadata": {},
   "outputs": [],
   "source": [
    "class RunnerCompeting:\n",
    "    def __init__(self,competing_variants, args_dir, threads=4, backend=None):\n",
    "        self.competing_variants = competing_variants\n",
    "        self.args_dir = args_dir\n",
    "        self.threads = threads\n",
    "        self.backend = backend\n",
    "        \n",
    "        \n",
    "    def measure_competing_variants(self, run_id, reps):\n",
    "        cmd_args = \"--algs {algs} --rep {rep} --threads {threads} --id {run_id}\".format(algs=\" \".join(self.competing_variants),\n",
    "                                                                                        rep=reps,\n",
    "                                                                                        threads=self.threads,\n",
    "                                                                                        run_id=run_id)\n",
    "        \n",
    "        runner_file = os.path.join(self.args_dir, \"runner_competing_{}.jl\".format(run_id))\n",
    "        generate_file = os.path.join(self.args_dir, \"generate-measurements-script.py\")\n",
    "        \n",
    "        if self.backend:\n",
    "            ret = self.backend.generate_measurements_script(cmd_args,self.args_dir)\n",
    "            if ret != 0:\n",
    "                return 3\n",
    "            \n",
    "            \n",
    "            ret = self.backend.run_experiments(runner_file)\n",
    "            if ret == 0:\n",
    "                print(\"Running experiments in the backend.\")\n",
    "                return 0\n",
    "            \n",
    "            return ret\n",
    "        else:\n",
    "            call = [\"python\", generate_file] + cmd_args.split()\n",
    "            completed_proccess = subprocess.run(call)\n",
    "            ret = completed_proccess.returncode\n",
    "            if ret == 0:\n",
    "                print(\"Running experiments locally.\")\n",
    "                call = [\"julia\", runner_file]\n",
    "                completed_proccess = subprocess.run(call)\n",
    "                ret = completed_proccess.returncode\n",
    "                if ret == 0:\n",
    "                    print(\"Experiments completed locally\")\n",
    "                \n",
    "            return ret\n",
    "                        \n",
    "        return -1\n",
    "                 "
   ]
  },
  {
   "cell_type": "code",
   "execution_count": 168,
   "id": "cae4afda",
   "metadata": {},
   "outputs": [],
   "source": [
    "args = [\"70\",\"70\",\"70\",\"70\",\"70\"]\n",
    "\n",
    "exp_dir_local = \"../Matrix-Chain-4/variants-linnea/\"\n",
    "local_threads = 4\n",
    "runner_local = Runner(\"MC\", exp_dir_local, args, threads=local_threads)\n",
    "dc_local = DataCollector(runner_local.args_dir)\n",
    "\n",
    "app = \"sbatch submit.sh\"\n",
    "bm = BackendManager(\"login18-1.hpc.itc.rwth-aachen.de\", \"as641651\", app)\n",
    "bm.connect()\n",
    "\n",
    "exp_dir_backend = \"~/PhD/performance-analyazer/Experiment2/Matrix-Chain-4/variants-linnea\"\n",
    "backend_threads = 8\n",
    "runner_backend = Runner(\"MC\", exp_dir_backend, args, threads=backend_threads, backend=bm)\n",
    "args_dir_name = runner_backend.args_dir.split('/')[-1]\n",
    "job_name = \"{}_T{}\".format(args_dir_name, backend_threads)\n",
    "\n",
    "local_data_dir = os.path.join(exp_dir_local, \"cluster-experiments\", \"{}\".format(args_dir_name))\n",
    "if not os.path.exists(local_data_dir):\n",
    "    os.makedirs(local_data_dir)\n",
    "   \n",
    "dc_backend = DataCollector(local_data_dir, runner_backend.args_dir, bm)\n"
   ]
  },
  {
   "cell_type": "code",
   "execution_count": 151,
   "id": "31becd88",
   "metadata": {},
   "outputs": [
    {
     "name": "stdout",
     "output_type": "stream",
     "text": [
      "source ~/.analyzer; cd ~/PhD/performance-analyazer/Experiment2/Matrix-Chain-4/variants-linnea/experiments/70_70_70_70_70; python generate-measurements-script.py --algs algorithm1 algorithm2 --rep 10 --threads 8 --id 0\n"
     ]
    },
    {
     "data": {
      "text/plain": [
       "0"
      ]
     },
     "execution_count": 151,
     "metadata": {},
     "output_type": "execute_result"
    }
   ],
   "source": [
    "competing_algs = ['algorithm1', 'algorithm2']\n",
    "threads=backend_threads\n",
    "reps=10\n",
    "run_id=0\n",
    "bm.generate_measurements_script(competing_algs,reps,run_id,threads,runner_backend.args_dir)"
   ]
  },
  {
   "cell_type": "markdown",
   "id": "6bd08579",
   "metadata": {},
   "source": [
    "### Run locally"
   ]
  },
  {
   "cell_type": "code",
   "execution_count": 154,
   "id": "bced53a0",
   "metadata": {},
   "outputs": [
    {
     "name": "stdout",
     "output_type": "stream",
     "text": [
      "New solution:.............2.06e+06\n",
      "No further generation steps possible.\n",
      "----------------------------------\n",
      "Number of nodes:                 8\n",
      "Solution nodes:                  1\n",
      "Data:                     2.45e+04\n",
      "Best solution:            2.06e+06\n",
      "Intensity:                      84\n",
      "Number of algorithms:            6\n",
      "Generated Variants.\n"
     ]
    },
    {
     "data": {
      "text/plain": [
       "0"
      ]
     },
     "execution_count": 154,
     "metadata": {},
     "output_type": "execute_result"
    }
   ],
   "source": [
    "ret = runner_local.generate_experiments()\n",
    "ret"
   ]
  },
  {
   "cell_type": "code",
   "execution_count": 155,
   "id": "4844f68c",
   "metadata": {},
   "outputs": [
    {
     "data": {
      "text/html": [
       "<div>\n",
       "<style scoped>\n",
       "    .dataframe tbody tr th:only-of-type {\n",
       "        vertical-align: middle;\n",
       "    }\n",
       "\n",
       "    .dataframe tbody tr th {\n",
       "        vertical-align: top;\n",
       "    }\n",
       "\n",
       "    .dataframe thead th {\n",
       "        text-align: right;\n",
       "    }\n",
       "</style>\n",
       "<table border=\"1\" class=\"dataframe\">\n",
       "  <thead>\n",
       "    <tr style=\"text-align: right;\">\n",
       "      <th></th>\n",
       "      <th>case:concept:name</th>\n",
       "      <th>case:flops</th>\n",
       "      <th>case:num_kernels</th>\n",
       "    </tr>\n",
       "  </thead>\n",
       "  <tbody>\n",
       "    <tr>\n",
       "      <th>0</th>\n",
       "      <td>algorithm1</td>\n",
       "      <td>2060000.0</td>\n",
       "      <td>3</td>\n",
       "    </tr>\n",
       "    <tr>\n",
       "      <th>1</th>\n",
       "      <td>algorithm5</td>\n",
       "      <td>2060000.0</td>\n",
       "      <td>3</td>\n",
       "    </tr>\n",
       "    <tr>\n",
       "      <th>2</th>\n",
       "      <td>algorithm4</td>\n",
       "      <td>2060000.0</td>\n",
       "      <td>3</td>\n",
       "    </tr>\n",
       "    <tr>\n",
       "      <th>3</th>\n",
       "      <td>algorithm0</td>\n",
       "      <td>2060000.0</td>\n",
       "      <td>3</td>\n",
       "    </tr>\n",
       "    <tr>\n",
       "      <th>4</th>\n",
       "      <td>algorithm3</td>\n",
       "      <td>2060000.0</td>\n",
       "      <td>3</td>\n",
       "    </tr>\n",
       "    <tr>\n",
       "      <th>5</th>\n",
       "      <td>algorithm2</td>\n",
       "      <td>2060000.0</td>\n",
       "      <td>3</td>\n",
       "    </tr>\n",
       "  </tbody>\n",
       "</table>\n",
       "</div>"
      ],
      "text/plain": [
       "  case:concept:name  case:flops  case:num_kernels\n",
       "0        algorithm1   2060000.0                 3\n",
       "1        algorithm5   2060000.0                 3\n",
       "2        algorithm4   2060000.0                 3\n",
       "3        algorithm0   2060000.0                 3\n",
       "4        algorithm3   2060000.0                 3\n",
       "5        algorithm2   2060000.0                 3"
      ]
     },
     "execution_count": 155,
     "metadata": {},
     "output_type": "execute_result"
    }
   ],
   "source": [
    "ct = dc_local.get_case_table()\n",
    "ct"
   ]
  },
  {
   "cell_type": "code",
   "execution_count": 156,
   "id": "315e73a8",
   "metadata": {},
   "outputs": [
    {
     "name": "stdout",
     "output_type": "stream",
     "text": [
      "Running Experiments locally\n",
      "Experiments completed locally\n"
     ]
    },
    {
     "data": {
      "text/plain": [
       "0"
      ]
     },
     "execution_count": 156,
     "metadata": {},
     "output_type": "execute_result"
    }
   ],
   "source": [
    "ret = runner_local.run_experiments()\n",
    "ret"
   ]
  },
  {
   "cell_type": "code",
   "execution_count": 157,
   "id": "af589327",
   "metadata": {},
   "outputs": [
    {
     "data": {
      "text/html": [
       "<div>\n",
       "<style scoped>\n",
       "    .dataframe tbody tr th:only-of-type {\n",
       "        vertical-align: middle;\n",
       "    }\n",
       "\n",
       "    .dataframe tbody tr th {\n",
       "        vertical-align: top;\n",
       "    }\n",
       "\n",
       "    .dataframe thead th {\n",
       "        text-align: right;\n",
       "    }\n",
       "</style>\n",
       "<table border=\"1\" class=\"dataframe\">\n",
       "  <thead>\n",
       "    <tr style=\"text-align: right;\">\n",
       "      <th></th>\n",
       "      <th>case:concept:name</th>\n",
       "      <th>concept:name</th>\n",
       "      <th>concept:flops</th>\n",
       "      <th>concept:operation</th>\n",
       "      <th>concept:kernel</th>\n",
       "      <th>timestamp:start</th>\n",
       "      <th>timestamp:end</th>\n",
       "    </tr>\n",
       "  </thead>\n",
       "  <tbody>\n",
       "    <tr>\n",
       "      <th>0</th>\n",
       "      <td>algorithm1</td>\n",
       "      <td>gemm_6.86e+05</td>\n",
       "      <td>686000.0</td>\n",
       "      <td>tmp1 = (A B)</td>\n",
       "      <td>gemm!('N', 'N', 1.0, ml0, ml1, 0.0, ml4)</td>\n",
       "      <td>1.655917e+09</td>\n",
       "      <td>1.655917e+09</td>\n",
       "    </tr>\n",
       "    <tr>\n",
       "      <th>1</th>\n",
       "      <td>algorithm1</td>\n",
       "      <td>gemm_6.86e+05</td>\n",
       "      <td>686000.0</td>\n",
       "      <td>tmp3 = (C D)</td>\n",
       "      <td>gemm!('N', 'N', 1.0, ml2, ml3, 0.0, ml5)</td>\n",
       "      <td>1.655917e+09</td>\n",
       "      <td>1.655917e+09</td>\n",
       "    </tr>\n",
       "    <tr>\n",
       "      <th>2</th>\n",
       "      <td>algorithm1</td>\n",
       "      <td>gemm_6.86e+05</td>\n",
       "      <td>686000.0</td>\n",
       "      <td>tmp6 = (tmp1 tmp3)</td>\n",
       "      <td>gemm!('N', 'N', 1.0, ml4, ml5, 0.0, ml6)</td>\n",
       "      <td>1.655917e+09</td>\n",
       "      <td>1.655917e+09</td>\n",
       "    </tr>\n",
       "    <tr>\n",
       "      <th>3</th>\n",
       "      <td>algorithm5</td>\n",
       "      <td>gemm_6.86e+05</td>\n",
       "      <td>686000.0</td>\n",
       "      <td>tmp1 = (A B)</td>\n",
       "      <td>gemm!('N', 'N', 1.0, ml0, ml1, 0.0, ml4)</td>\n",
       "      <td>1.655917e+09</td>\n",
       "      <td>1.655917e+09</td>\n",
       "    </tr>\n",
       "    <tr>\n",
       "      <th>4</th>\n",
       "      <td>algorithm5</td>\n",
       "      <td>gemm_6.86e+05</td>\n",
       "      <td>686000.0</td>\n",
       "      <td>tmp4 = (tmp1 C)</td>\n",
       "      <td>gemm!('N', 'N', 1.0, ml4, ml2, 0.0, ml5)</td>\n",
       "      <td>1.655917e+09</td>\n",
       "      <td>1.655917e+09</td>\n",
       "    </tr>\n",
       "  </tbody>\n",
       "</table>\n",
       "</div>"
      ],
      "text/plain": [
       "  case:concept:name   concept:name  concept:flops   concept:operation  \\\n",
       "0        algorithm1  gemm_6.86e+05       686000.0        tmp1 = (A B)   \n",
       "1        algorithm1  gemm_6.86e+05       686000.0        tmp3 = (C D)   \n",
       "2        algorithm1  gemm_6.86e+05       686000.0  tmp6 = (tmp1 tmp3)   \n",
       "3        algorithm5  gemm_6.86e+05       686000.0        tmp1 = (A B)   \n",
       "4        algorithm5  gemm_6.86e+05       686000.0     tmp4 = (tmp1 C)   \n",
       "\n",
       "                             concept:kernel  timestamp:start  timestamp:end  \n",
       "0  gemm!('N', 'N', 1.0, ml0, ml1, 0.0, ml4)     1.655917e+09   1.655917e+09  \n",
       "1  gemm!('N', 'N', 1.0, ml2, ml3, 0.0, ml5)     1.655917e+09   1.655917e+09  \n",
       "2  gemm!('N', 'N', 1.0, ml4, ml5, 0.0, ml6)     1.655917e+09   1.655917e+09  \n",
       "3  gemm!('N', 'N', 1.0, ml0, ml1, 0.0, ml4)     1.655917e+09   1.655917e+09  \n",
       "4  gemm!('N', 'N', 1.0, ml4, ml2, 0.0, ml5)     1.655917e+09   1.655917e+09  "
      ]
     },
     "execution_count": 157,
     "metadata": {},
     "output_type": "execute_result"
    }
   ],
   "source": [
    "et = dc_local.get_all_runtimes_table()\n",
    "et.head()"
   ]
  },
  {
   "cell_type": "markdown",
   "id": "d5434165",
   "metadata": {},
   "source": [
    "### Get run times competing locally"
   ]
  },
  {
   "cell_type": "code",
   "execution_count": 169,
   "id": "e2be15fe",
   "metadata": {},
   "outputs": [
    {
     "name": "stdout",
     "output_type": "stream",
     "text": [
      "Running experiments locally.\n",
      "Experiments completed locally\n"
     ]
    },
    {
     "data": {
      "text/plain": [
       "0"
      ]
     },
     "execution_count": 169,
     "metadata": {},
     "output_type": "execute_result"
    }
   ],
   "source": [
    "competing_algs = ['algorithm0', 'algorithm1']\n",
    "\n",
    "runner_competing_local = RunnerCompeting(competing_algs, runner_local.args_dir,\n",
    "                                          threads=local_threads)\n",
    "\n",
    "ret = runner_competing_local.measure_competing_variants(run_id=7, reps=3)\n",
    "ret"
   ]
  },
  {
   "cell_type": "code",
   "execution_count": 172,
   "id": "cd7b15c9",
   "metadata": {},
   "outputs": [
    {
     "data": {
      "text/html": [
       "<div>\n",
       "<style scoped>\n",
       "    .dataframe tbody tr th:only-of-type {\n",
       "        vertical-align: middle;\n",
       "    }\n",
       "\n",
       "    .dataframe tbody tr th {\n",
       "        vertical-align: top;\n",
       "    }\n",
       "\n",
       "    .dataframe thead th {\n",
       "        text-align: right;\n",
       "    }\n",
       "</style>\n",
       "<table border=\"1\" class=\"dataframe\">\n",
       "  <thead>\n",
       "    <tr style=\"text-align: right;\">\n",
       "      <th></th>\n",
       "      <th>case:concept:name</th>\n",
       "      <th>concept:name</th>\n",
       "      <th>concept:flops</th>\n",
       "      <th>concept:operation</th>\n",
       "      <th>concept:kernel</th>\n",
       "      <th>timestamp:start</th>\n",
       "      <th>timestamp:end</th>\n",
       "    </tr>\n",
       "  </thead>\n",
       "  <tbody>\n",
       "    <tr>\n",
       "      <th>0</th>\n",
       "      <td>algorithm1_1</td>\n",
       "      <td>gemm_6.86e+05</td>\n",
       "      <td>686000.0</td>\n",
       "      <td>tmp1 = (A B)</td>\n",
       "      <td>gemm!('N', 'N', 1.0, ml0, ml1, 0.0, ml4)</td>\n",
       "      <td>1.655917e+09</td>\n",
       "      <td>1.655917e+09</td>\n",
       "    </tr>\n",
       "    <tr>\n",
       "      <th>1</th>\n",
       "      <td>algorithm1_1</td>\n",
       "      <td>gemm_6.86e+05</td>\n",
       "      <td>686000.0</td>\n",
       "      <td>tmp3 = (C D)</td>\n",
       "      <td>gemm!('N', 'N', 1.0, ml2, ml3, 0.0, ml5)</td>\n",
       "      <td>1.655917e+09</td>\n",
       "      <td>1.655917e+09</td>\n",
       "    </tr>\n",
       "    <tr>\n",
       "      <th>2</th>\n",
       "      <td>algorithm1_1</td>\n",
       "      <td>gemm_6.86e+05</td>\n",
       "      <td>686000.0</td>\n",
       "      <td>tmp6 = (tmp1 tmp3)</td>\n",
       "      <td>gemm!('N', 'N', 1.0, ml4, ml5, 0.0, ml6)</td>\n",
       "      <td>1.655917e+09</td>\n",
       "      <td>1.655917e+09</td>\n",
       "    </tr>\n",
       "    <tr>\n",
       "      <th>3</th>\n",
       "      <td>algorithm0_0</td>\n",
       "      <td>gemm_6.86e+05</td>\n",
       "      <td>686000.0</td>\n",
       "      <td>tmp3 = (C D)</td>\n",
       "      <td>gemm!('N', 'N', 1.0, ml2, ml3, 0.0, ml4)</td>\n",
       "      <td>1.655917e+09</td>\n",
       "      <td>1.655917e+09</td>\n",
       "    </tr>\n",
       "    <tr>\n",
       "      <th>4</th>\n",
       "      <td>algorithm0_0</td>\n",
       "      <td>gemm_6.86e+05</td>\n",
       "      <td>686000.0</td>\n",
       "      <td>tmp5 = (B tmp3)</td>\n",
       "      <td>gemm!('N', 'N', 1.0, ml1, ml4, 0.0, ml5)</td>\n",
       "      <td>1.655917e+09</td>\n",
       "      <td>1.655917e+09</td>\n",
       "    </tr>\n",
       "  </tbody>\n",
       "</table>\n",
       "</div>"
      ],
      "text/plain": [
       "  case:concept:name   concept:name  concept:flops   concept:operation  \\\n",
       "0      algorithm1_1  gemm_6.86e+05       686000.0        tmp1 = (A B)   \n",
       "1      algorithm1_1  gemm_6.86e+05       686000.0        tmp3 = (C D)   \n",
       "2      algorithm1_1  gemm_6.86e+05       686000.0  tmp6 = (tmp1 tmp3)   \n",
       "3      algorithm0_0  gemm_6.86e+05       686000.0        tmp3 = (C D)   \n",
       "4      algorithm0_0  gemm_6.86e+05       686000.0     tmp5 = (B tmp3)   \n",
       "\n",
       "                             concept:kernel  timestamp:start  timestamp:end  \n",
       "0  gemm!('N', 'N', 1.0, ml0, ml1, 0.0, ml4)     1.655917e+09   1.655917e+09  \n",
       "1  gemm!('N', 'N', 1.0, ml2, ml3, 0.0, ml5)     1.655917e+09   1.655917e+09  \n",
       "2  gemm!('N', 'N', 1.0, ml4, ml5, 0.0, ml6)     1.655917e+09   1.655917e+09  \n",
       "3  gemm!('N', 'N', 1.0, ml2, ml3, 0.0, ml4)     1.655917e+09   1.655917e+09  \n",
       "4  gemm!('N', 'N', 1.0, ml1, ml4, 0.0, ml5)     1.655917e+09   1.655917e+09  "
      ]
     },
     "execution_count": 172,
     "metadata": {},
     "output_type": "execute_result"
    }
   ],
   "source": [
    "rt = dc_local.get_runtimes_competing_table(7) \n",
    "rt.head()"
   ]
  },
  {
   "cell_type": "markdown",
   "id": "a0d93fce",
   "metadata": {},
   "source": [
    "### Run on the cluster"
   ]
  },
  {
   "cell_type": "code",
   "execution_count": 133,
   "id": "547d18ff",
   "metadata": {},
   "outputs": [
    {
     "name": "stdout",
     "output_type": "stream",
     "text": [
      "source ~/.analyzer; cd ~/PhD/performance-analyazer/Experiment2/Matrix-Chain-4/variants-linnea; python generate-variants-linnea.py 70 70 70 70 70 --threads=8;\n",
      "['New solution:.............2.06e+06\\n', 'No further generation steps possible.\\n', '----------------------------------\\n', 'Number of nodes:                 8\\n', 'Solution nodes:                  1\\n', 'Data:                     2.45e+04\\n', 'Best solution:            2.06e+06\\n', 'Intensity:                      84\\n', 'Number of algorithms:            6\\n', 'Generated Variants.\\n']\n"
     ]
    },
    {
     "data": {
      "text/plain": [
       "0"
      ]
     },
     "execution_count": 133,
     "metadata": {},
     "output_type": "execute_result"
    }
   ],
   "source": [
    "ret = runner_backend.generate_experiments()\n",
    "ret"
   ]
  },
  {
   "cell_type": "code",
   "execution_count": 134,
   "id": "38ac9bfd",
   "metadata": {},
   "outputs": [],
   "source": [
    "ct_b = dc_backend.get_case_table()"
   ]
  },
  {
   "cell_type": "code",
   "execution_count": 135,
   "id": "9447cfc3",
   "metadata": {},
   "outputs": [
    {
     "data": {
      "text/html": [
       "<div>\n",
       "<style scoped>\n",
       "    .dataframe tbody tr th:only-of-type {\n",
       "        vertical-align: middle;\n",
       "    }\n",
       "\n",
       "    .dataframe tbody tr th {\n",
       "        vertical-align: top;\n",
       "    }\n",
       "\n",
       "    .dataframe thead th {\n",
       "        text-align: right;\n",
       "    }\n",
       "</style>\n",
       "<table border=\"1\" class=\"dataframe\">\n",
       "  <thead>\n",
       "    <tr style=\"text-align: right;\">\n",
       "      <th></th>\n",
       "      <th>case:concept:name</th>\n",
       "      <th>case:flops</th>\n",
       "      <th>case:num_kernels</th>\n",
       "    </tr>\n",
       "  </thead>\n",
       "  <tbody>\n",
       "    <tr>\n",
       "      <th>0</th>\n",
       "      <td>algorithm0</td>\n",
       "      <td>2060000.0</td>\n",
       "      <td>3</td>\n",
       "    </tr>\n",
       "    <tr>\n",
       "      <th>1</th>\n",
       "      <td>algorithm2</td>\n",
       "      <td>2060000.0</td>\n",
       "      <td>3</td>\n",
       "    </tr>\n",
       "    <tr>\n",
       "      <th>2</th>\n",
       "      <td>algorithm4</td>\n",
       "      <td>2060000.0</td>\n",
       "      <td>3</td>\n",
       "    </tr>\n",
       "    <tr>\n",
       "      <th>3</th>\n",
       "      <td>algorithm1</td>\n",
       "      <td>2060000.0</td>\n",
       "      <td>3</td>\n",
       "    </tr>\n",
       "    <tr>\n",
       "      <th>4</th>\n",
       "      <td>algorithm5</td>\n",
       "      <td>2060000.0</td>\n",
       "      <td>3</td>\n",
       "    </tr>\n",
       "    <tr>\n",
       "      <th>5</th>\n",
       "      <td>algorithm3</td>\n",
       "      <td>2060000.0</td>\n",
       "      <td>3</td>\n",
       "    </tr>\n",
       "  </tbody>\n",
       "</table>\n",
       "</div>"
      ],
      "text/plain": [
       "  case:concept:name  case:flops  case:num_kernels\n",
       "0        algorithm0   2060000.0                 3\n",
       "1        algorithm2   2060000.0                 3\n",
       "2        algorithm4   2060000.0                 3\n",
       "3        algorithm1   2060000.0                 3\n",
       "4        algorithm5   2060000.0                 3\n",
       "5        algorithm3   2060000.0                 3"
      ]
     },
     "execution_count": 135,
     "metadata": {},
     "output_type": "execute_result"
    }
   ],
   "source": [
    "ct_b"
   ]
  },
  {
   "cell_type": "code",
   "execution_count": 97,
   "id": "ba682f1a",
   "metadata": {},
   "outputs": [
    {
     "name": "stdout",
     "output_type": "stream",
     "text": [
      "source ~/.analyzer; cd ~/PhD/performance-analyazer/Experiment2/Matrix-Chain-4/variants-linnea/experiments/70_70_70_70_70; sbatch submit.sh runner.jl;\n",
      "Running experiments in the backend.\n"
     ]
    },
    {
     "data": {
      "text/plain": [
       "0"
      ]
     },
     "execution_count": 97,
     "metadata": {},
     "output_type": "execute_result"
    }
   ],
   "source": [
    "ret = runner_backend.run_experiments()\n",
    "ret"
   ]
  },
  {
   "cell_type": "code",
   "execution_count": 100,
   "id": "8d0d3459",
   "metadata": {},
   "outputs": [
    {
     "name": "stdout",
     "output_type": "stream",
     "text": [
      "['             JOBID PARTITION                           NAME     USER    STATE       TIME TIME_LIMI  NODES NODELIST(REASON)\\n']\n"
     ]
    },
    {
     "data": {
      "text/html": [
       "<div>\n",
       "<style scoped>\n",
       "    .dataframe tbody tr th:only-of-type {\n",
       "        vertical-align: middle;\n",
       "    }\n",
       "\n",
       "    .dataframe tbody tr th {\n",
       "        vertical-align: top;\n",
       "    }\n",
       "\n",
       "    .dataframe thead th {\n",
       "        text-align: right;\n",
       "    }\n",
       "</style>\n",
       "<table border=\"1\" class=\"dataframe\">\n",
       "  <thead>\n",
       "    <tr style=\"text-align: right;\">\n",
       "      <th></th>\n",
       "      <th>case:concept:name</th>\n",
       "      <th>concept:name</th>\n",
       "      <th>concept:flops</th>\n",
       "      <th>concept:operation</th>\n",
       "      <th>concept:kernel</th>\n",
       "      <th>timestamp:start</th>\n",
       "      <th>timestamp:end</th>\n",
       "    </tr>\n",
       "  </thead>\n",
       "  <tbody>\n",
       "    <tr>\n",
       "      <th>0</th>\n",
       "      <td>algorithm0</td>\n",
       "      <td>gemm_6.86e+05</td>\n",
       "      <td>686000.0</td>\n",
       "      <td>tmp3 = (C D)</td>\n",
       "      <td>gemm!('N', 'N', 1.0, ml2, ml3, 0.0, ml4)</td>\n",
       "      <td>1.655907e+09</td>\n",
       "      <td>1.655907e+09</td>\n",
       "    </tr>\n",
       "    <tr>\n",
       "      <th>1</th>\n",
       "      <td>algorithm0</td>\n",
       "      <td>gemm_6.86e+05</td>\n",
       "      <td>686000.0</td>\n",
       "      <td>tmp5 = (B tmp3)</td>\n",
       "      <td>gemm!('N', 'N', 1.0, ml1, ml4, 0.0, ml5)</td>\n",
       "      <td>1.655907e+09</td>\n",
       "      <td>1.655907e+09</td>\n",
       "    </tr>\n",
       "    <tr>\n",
       "      <th>2</th>\n",
       "      <td>algorithm0</td>\n",
       "      <td>gemm_6.86e+05</td>\n",
       "      <td>686000.0</td>\n",
       "      <td>tmp6 = (A tmp5)</td>\n",
       "      <td>gemm!('N', 'N', 1.0, ml0, ml5, 0.0, ml6)</td>\n",
       "      <td>1.655907e+09</td>\n",
       "      <td>1.655907e+09</td>\n",
       "    </tr>\n",
       "    <tr>\n",
       "      <th>3</th>\n",
       "      <td>algorithm2</td>\n",
       "      <td>gemm_6.86e+05</td>\n",
       "      <td>686000.0</td>\n",
       "      <td>tmp2 = (B C)</td>\n",
       "      <td>gemm!('N', 'N', 1.0, ml1, ml2, 0.0, ml4)</td>\n",
       "      <td>1.655907e+09</td>\n",
       "      <td>1.655907e+09</td>\n",
       "    </tr>\n",
       "    <tr>\n",
       "      <th>4</th>\n",
       "      <td>algorithm2</td>\n",
       "      <td>gemm_6.86e+05</td>\n",
       "      <td>686000.0</td>\n",
       "      <td>tmp4 = (A tmp2)</td>\n",
       "      <td>gemm!('N', 'N', 1.0, ml0, ml4, 0.0, ml5)</td>\n",
       "      <td>1.655907e+09</td>\n",
       "      <td>1.655907e+09</td>\n",
       "    </tr>\n",
       "  </tbody>\n",
       "</table>\n",
       "</div>"
      ],
      "text/plain": [
       "  case:concept:name   concept:name  concept:flops concept:operation  \\\n",
       "0        algorithm0  gemm_6.86e+05       686000.0      tmp3 = (C D)   \n",
       "1        algorithm0  gemm_6.86e+05       686000.0   tmp5 = (B tmp3)   \n",
       "2        algorithm0  gemm_6.86e+05       686000.0   tmp6 = (A tmp5)   \n",
       "3        algorithm2  gemm_6.86e+05       686000.0      tmp2 = (B C)   \n",
       "4        algorithm2  gemm_6.86e+05       686000.0   tmp4 = (A tmp2)   \n",
       "\n",
       "                             concept:kernel  timestamp:start  timestamp:end  \n",
       "0  gemm!('N', 'N', 1.0, ml2, ml3, 0.0, ml4)     1.655907e+09   1.655907e+09  \n",
       "1  gemm!('N', 'N', 1.0, ml1, ml4, 0.0, ml5)     1.655907e+09   1.655907e+09  \n",
       "2  gemm!('N', 'N', 1.0, ml0, ml5, 0.0, ml6)     1.655907e+09   1.655907e+09  \n",
       "3  gemm!('N', 'N', 1.0, ml1, ml2, 0.0, ml4)     1.655907e+09   1.655907e+09  \n",
       "4  gemm!('N', 'N', 1.0, ml0, ml4, 0.0, ml5)     1.655907e+09   1.655907e+09  "
      ]
     },
     "execution_count": 100,
     "metadata": {},
     "output_type": "execute_result"
    }
   ],
   "source": [
    "if bm.check_slrum_status(job_name) == 0:\n",
    "    et_b = dc_backend.get_all_runtimes_table()    \n",
    "et_b.head()"
   ]
  },
  {
   "cell_type": "markdown",
   "id": "2d524a2d",
   "metadata": {},
   "source": [
    "### Get run times competing on cluster"
   ]
  },
  {
   "cell_type": "code",
   "execution_count": 148,
   "id": "b186e837",
   "metadata": {},
   "outputs": [],
   "source": [
    "competing_algs = ['algorithm0', 'algorithm1']\n",
    "\n",
    "runner_competing_backend = RunnerCompeting(competing_algs, runner_backend.args_dir,\n",
    "                                          threads=backend_threads, backend=bm)"
   ]
  },
  {
   "cell_type": "code",
   "execution_count": 138,
   "id": "fa127c8b",
   "metadata": {},
   "outputs": [
    {
     "name": "stdout",
     "output_type": "stream",
     "text": [
      "source ~/.analyzer; cd ~/PhD/performance-analyazer/Experiment2/Matrix-Chain-4/variants-linnea/experiments/70_70_70_70_70; python generate-measurements-script.py --algs algorithm0 algorithm1 --rep 3 --threads 8 --id 0\n",
      "source ~/.analyzer; cd ~/PhD/performance-analyazer/Experiment2/Matrix-Chain-4/variants-linnea/experiments/70_70_70_70_70; sbatch submit.sh runner_competing_0.jl;\n",
      "Running experiments in the backend.\n"
     ]
    },
    {
     "data": {
      "text/plain": [
       "0"
      ]
     },
     "execution_count": 138,
     "metadata": {},
     "output_type": "execute_result"
    }
   ],
   "source": [
    "ret = runner_competing_backend.measure_competing_variants(run_id=0, reps=3)\n",
    "ret"
   ]
  },
  {
   "cell_type": "code",
   "execution_count": 142,
   "id": "1513b9ab",
   "metadata": {},
   "outputs": [
    {
     "name": "stdout",
     "output_type": "stream",
     "text": [
      "['             JOBID PARTITION                           NAME     USER    STATE       TIME TIME_LIMI  NODES NODELIST(REASON)\\n']\n"
     ]
    },
    {
     "data": {
      "text/plain": [
       "0"
      ]
     },
     "execution_count": 142,
     "metadata": {},
     "output_type": "execute_result"
    }
   ],
   "source": [
    "bm.check_slrum_status(job_name)"
   ]
  },
  {
   "cell_type": "code",
   "execution_count": 147,
   "id": "8f9f420a",
   "metadata": {},
   "outputs": [
    {
     "name": "stdout",
     "output_type": "stream",
     "text": [
      "['             JOBID PARTITION                           NAME     USER    STATE       TIME TIME_LIMI  NODES NODELIST(REASON)\\n']\n"
     ]
    },
    {
     "data": {
      "text/html": [
       "<div>\n",
       "<style scoped>\n",
       "    .dataframe tbody tr th:only-of-type {\n",
       "        vertical-align: middle;\n",
       "    }\n",
       "\n",
       "    .dataframe tbody tr th {\n",
       "        vertical-align: top;\n",
       "    }\n",
       "\n",
       "    .dataframe thead th {\n",
       "        text-align: right;\n",
       "    }\n",
       "</style>\n",
       "<table border=\"1\" class=\"dataframe\">\n",
       "  <thead>\n",
       "    <tr style=\"text-align: right;\">\n",
       "      <th></th>\n",
       "      <th>case:concept:name</th>\n",
       "      <th>concept:name</th>\n",
       "      <th>concept:flops</th>\n",
       "      <th>concept:operation</th>\n",
       "      <th>concept:kernel</th>\n",
       "      <th>timestamp:start</th>\n",
       "      <th>timestamp:end</th>\n",
       "    </tr>\n",
       "  </thead>\n",
       "  <tbody>\n",
       "    <tr>\n",
       "      <th>0</th>\n",
       "      <td>algorithm1_2</td>\n",
       "      <td>gemm_6.86e+05</td>\n",
       "      <td>686000.0</td>\n",
       "      <td>tmp1 = (A B)</td>\n",
       "      <td>gemm!('N', 'N', 1.0, ml0, ml1, 0.0, ml4)</td>\n",
       "      <td>1.655916e+09</td>\n",
       "      <td>1.655916e+09</td>\n",
       "    </tr>\n",
       "    <tr>\n",
       "      <th>1</th>\n",
       "      <td>algorithm1_2</td>\n",
       "      <td>gemm_6.86e+05</td>\n",
       "      <td>686000.0</td>\n",
       "      <td>tmp3 = (C D)</td>\n",
       "      <td>gemm!('N', 'N', 1.0, ml2, ml3, 0.0, ml5)</td>\n",
       "      <td>1.655916e+09</td>\n",
       "      <td>1.655916e+09</td>\n",
       "    </tr>\n",
       "    <tr>\n",
       "      <th>2</th>\n",
       "      <td>algorithm1_2</td>\n",
       "      <td>gemm_6.86e+05</td>\n",
       "      <td>686000.0</td>\n",
       "      <td>tmp6 = (tmp1 tmp3)</td>\n",
       "      <td>gemm!('N', 'N', 1.0, ml4, ml5, 0.0, ml6)</td>\n",
       "      <td>1.655916e+09</td>\n",
       "      <td>1.655916e+09</td>\n",
       "    </tr>\n",
       "    <tr>\n",
       "      <th>3</th>\n",
       "      <td>algorithm0_2</td>\n",
       "      <td>gemm_6.86e+05</td>\n",
       "      <td>686000.0</td>\n",
       "      <td>tmp3 = (C D)</td>\n",
       "      <td>gemm!('N', 'N', 1.0, ml2, ml3, 0.0, ml4)</td>\n",
       "      <td>1.655916e+09</td>\n",
       "      <td>1.655916e+09</td>\n",
       "    </tr>\n",
       "    <tr>\n",
       "      <th>4</th>\n",
       "      <td>algorithm0_2</td>\n",
       "      <td>gemm_6.86e+05</td>\n",
       "      <td>686000.0</td>\n",
       "      <td>tmp5 = (B tmp3)</td>\n",
       "      <td>gemm!('N', 'N', 1.0, ml1, ml4, 0.0, ml5)</td>\n",
       "      <td>1.655916e+09</td>\n",
       "      <td>1.655916e+09</td>\n",
       "    </tr>\n",
       "  </tbody>\n",
       "</table>\n",
       "</div>"
      ],
      "text/plain": [
       "  case:concept:name   concept:name  concept:flops   concept:operation  \\\n",
       "0      algorithm1_2  gemm_6.86e+05       686000.0        tmp1 = (A B)   \n",
       "1      algorithm1_2  gemm_6.86e+05       686000.0        tmp3 = (C D)   \n",
       "2      algorithm1_2  gemm_6.86e+05       686000.0  tmp6 = (tmp1 tmp3)   \n",
       "3      algorithm0_2  gemm_6.86e+05       686000.0        tmp3 = (C D)   \n",
       "4      algorithm0_2  gemm_6.86e+05       686000.0     tmp5 = (B tmp3)   \n",
       "\n",
       "                             concept:kernel  timestamp:start  timestamp:end  \n",
       "0  gemm!('N', 'N', 1.0, ml0, ml1, 0.0, ml4)     1.655916e+09   1.655916e+09  \n",
       "1  gemm!('N', 'N', 1.0, ml2, ml3, 0.0, ml5)     1.655916e+09   1.655916e+09  \n",
       "2  gemm!('N', 'N', 1.0, ml4, ml5, 0.0, ml6)     1.655916e+09   1.655916e+09  \n",
       "3  gemm!('N', 'N', 1.0, ml2, ml3, 0.0, ml4)     1.655916e+09   1.655916e+09  \n",
       "4  gemm!('N', 'N', 1.0, ml1, ml4, 0.0, ml5)     1.655916e+09   1.655916e+09  "
      ]
     },
     "execution_count": 147,
     "metadata": {},
     "output_type": "execute_result"
    }
   ],
   "source": [
    "if bm.check_slrum_status(job_name) == 0:\n",
    "    rt_b = dc_backend.get_runtimes_competing_table(0)   \n",
    "rt_b.head()"
   ]
  },
  {
   "cell_type": "code",
   "execution_count": null,
   "id": "13b592ee",
   "metadata": {},
   "outputs": [],
   "source": []
  },
  {
   "cell_type": "code",
   "execution_count": null,
   "id": "2d836fcf",
   "metadata": {},
   "outputs": [],
   "source": []
  }
 ],
 "metadata": {
  "kernelspec": {
   "display_name": "Python 3 (ipykernel)",
   "language": "python",
   "name": "python3"
  },
  "language_info": {
   "codemirror_mode": {
    "name": "ipython",
    "version": 3
   },
   "file_extension": ".py",
   "mimetype": "text/x-python",
   "name": "python",
   "nbconvert_exporter": "python",
   "pygments_lexer": "ipython3",
   "version": "3.9.7"
  }
 },
 "nbformat": 4,
 "nbformat_minor": 5
}
