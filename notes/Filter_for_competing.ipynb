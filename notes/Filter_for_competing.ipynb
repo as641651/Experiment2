{
 "cells": [
  {
   "cell_type": "code",
   "execution_count": 1,
   "id": "166acc3a",
   "metadata": {},
   "outputs": [],
   "source": [
    "import sys\n",
    "import pm4py\n",
    "from datetime import datetime\n",
    "import numpy as np"
   ]
  },
  {
   "cell_type": "code",
   "execution_count": 2,
   "id": "eaba1d22",
   "metadata": {},
   "outputs": [],
   "source": [
    "sys.path.append(\"../utils/\")\n",
    "from runner import Runner"
   ]
  },
  {
   "cell_type": "code",
   "execution_count": 3,
   "id": "136edfa1",
   "metadata": {},
   "outputs": [
    {
     "name": "stdout",
     "output_type": "stream",
     "text": [
      "Running Experiments\n",
      "Experiments completed\n"
     ]
    }
   ],
   "source": [
    "runner = Runner(\"Matrix-Chain\", \"../Matrix-Chain-4/variants-linnea/generate-variants-linnea.py\")\n",
    "args = [\"10\",\"110\",\"120\",\"130\",\"500\"]\n",
    "ret = runner.generate_run_experiments(args,bRun=True, bGenerate=False)\n",
    "ct,et,rt = runner.get_all_tables(runner.get_exp_dir(args), meta=True)"
   ]
  },
  {
   "cell_type": "code",
   "execution_count": 4,
   "id": "86edb697",
   "metadata": {},
   "outputs": [],
   "source": [
    "def get_trace_durations(event_table):\n",
    "    dfs= event_table.drop_duplicates('case:concept:name', keep='first')[['case:concept:name','timestamp:start']]\n",
    "    dfe= event_table.drop_duplicates('case:concept:name', keep='last')[['case:concept:name','timestamp:end']]\n",
    "    dfm = dfs.merge(dfe, on='case:concept:name')\n",
    "    dfm['case:duration'] = dfm.apply(lambda row: row['timestamp:end']-row['timestamp:start'], axis=1)\n",
    "    dfm = dfm.rename(columns={\n",
    "        'timestamp:start':'case:timestamp:start',\n",
    "        'timestamp:end':'case:timestamp:end',\n",
    "    })\n",
    "    return dfm"
   ]
  },
  {
   "cell_type": "code",
   "execution_count": 5,
   "id": "dadfd5c2",
   "metadata": {},
   "outputs": [],
   "source": [
    "case_durations = get_trace_durations(rt)"
   ]
  },
  {
   "cell_type": "code",
   "execution_count": 6,
   "id": "5b0bb8ee",
   "metadata": {},
   "outputs": [],
   "source": [
    "case_table = case_durations.merge(ct, on=\"case:concept:name\")"
   ]
  },
  {
   "cell_type": "code",
   "execution_count": 7,
   "id": "12e3bbe4",
   "metadata": {},
   "outputs": [
    {
     "data": {
      "text/html": [
       "<div>\n",
       "<style scoped>\n",
       "    .dataframe tbody tr th:only-of-type {\n",
       "        vertical-align: middle;\n",
       "    }\n",
       "\n",
       "    .dataframe tbody tr th {\n",
       "        vertical-align: top;\n",
       "    }\n",
       "\n",
       "    .dataframe thead th {\n",
       "        text-align: right;\n",
       "    }\n",
       "</style>\n",
       "<table border=\"1\" class=\"dataframe\">\n",
       "  <thead>\n",
       "    <tr style=\"text-align: right;\">\n",
       "      <th></th>\n",
       "      <th>case:concept:name</th>\n",
       "      <th>case:timestamp:start</th>\n",
       "      <th>case:timestamp:end</th>\n",
       "      <th>case:duration</th>\n",
       "      <th>case:flops</th>\n",
       "      <th>case:num_kernels</th>\n",
       "    </tr>\n",
       "  </thead>\n",
       "  <tbody>\n",
       "    <tr>\n",
       "      <th>0</th>\n",
       "      <td>algorithm1</td>\n",
       "      <td>1.654773e+09</td>\n",
       "      <td>1.654773e+09</td>\n",
       "      <td>0.004089</td>\n",
       "      <td>14900000.0</td>\n",
       "      <td>3</td>\n",
       "    </tr>\n",
       "    <tr>\n",
       "      <th>1</th>\n",
       "      <td>algorithm5</td>\n",
       "      <td>1.654773e+09</td>\n",
       "      <td>1.654773e+09</td>\n",
       "      <td>0.001164</td>\n",
       "      <td>29100000.0</td>\n",
       "      <td>3</td>\n",
       "    </tr>\n",
       "    <tr>\n",
       "      <th>2</th>\n",
       "      <td>algorithm4</td>\n",
       "      <td>1.654773e+09</td>\n",
       "      <td>1.654773e+09</td>\n",
       "      <td>0.000550</td>\n",
       "      <td>29100000.0</td>\n",
       "      <td>3</td>\n",
       "    </tr>\n",
       "    <tr>\n",
       "      <th>3</th>\n",
       "      <td>algorithm0</td>\n",
       "      <td>1.654773e+09</td>\n",
       "      <td>1.654773e+09</td>\n",
       "      <td>0.000480</td>\n",
       "      <td>2710000.0</td>\n",
       "      <td>3</td>\n",
       "    </tr>\n",
       "    <tr>\n",
       "      <th>4</th>\n",
       "      <td>algorithm3</td>\n",
       "      <td>1.654773e+09</td>\n",
       "      <td>1.654773e+09</td>\n",
       "      <td>0.000597</td>\n",
       "      <td>18000000.0</td>\n",
       "      <td>3</td>\n",
       "    </tr>\n",
       "    <tr>\n",
       "      <th>5</th>\n",
       "      <td>algorithm2</td>\n",
       "      <td>1.654773e+09</td>\n",
       "      <td>1.654773e+09</td>\n",
       "      <td>0.000910</td>\n",
       "      <td>17900000.0</td>\n",
       "      <td>3</td>\n",
       "    </tr>\n",
       "  </tbody>\n",
       "</table>\n",
       "</div>"
      ],
      "text/plain": [
       "  case:concept:name  case:timestamp:start  case:timestamp:end  case:duration  \\\n",
       "0        algorithm1          1.654773e+09        1.654773e+09       0.004089   \n",
       "1        algorithm5          1.654773e+09        1.654773e+09       0.001164   \n",
       "2        algorithm4          1.654773e+09        1.654773e+09       0.000550   \n",
       "3        algorithm0          1.654773e+09        1.654773e+09       0.000480   \n",
       "4        algorithm3          1.654773e+09        1.654773e+09       0.000597   \n",
       "5        algorithm2          1.654773e+09        1.654773e+09       0.000910   \n",
       "\n",
       "   case:flops  case:num_kernels  \n",
       "0  14900000.0                 3  \n",
       "1  29100000.0                 3  \n",
       "2  29100000.0                 3  \n",
       "3   2710000.0                 3  \n",
       "4  18000000.0                 3  \n",
       "5  17900000.0                 3  "
      ]
     },
     "execution_count": 7,
     "metadata": {},
     "output_type": "execute_result"
    }
   ],
   "source": [
    "case_table"
   ]
  },
  {
   "cell_type": "code",
   "execution_count": 8,
   "id": "776a7a75",
   "metadata": {},
   "outputs": [
    {
     "data": {
      "text/html": [
       "<div>\n",
       "<style scoped>\n",
       "    .dataframe tbody tr th:only-of-type {\n",
       "        vertical-align: middle;\n",
       "    }\n",
       "\n",
       "    .dataframe tbody tr th {\n",
       "        vertical-align: top;\n",
       "    }\n",
       "\n",
       "    .dataframe thead th {\n",
       "        text-align: right;\n",
       "    }\n",
       "</style>\n",
       "<table border=\"1\" class=\"dataframe\">\n",
       "  <thead>\n",
       "    <tr style=\"text-align: right;\">\n",
       "      <th></th>\n",
       "      <th>case:concept:name</th>\n",
       "      <th>case:timestamp:start</th>\n",
       "      <th>case:timestamp:end</th>\n",
       "      <th>case:duration</th>\n",
       "      <th>case:flops</th>\n",
       "      <th>case:num_kernels</th>\n",
       "    </tr>\n",
       "  </thead>\n",
       "  <tbody>\n",
       "    <tr>\n",
       "      <th>1</th>\n",
       "      <td>algorithm5</td>\n",
       "      <td>1.654773e+09</td>\n",
       "      <td>1.654773e+09</td>\n",
       "      <td>0.001164</td>\n",
       "      <td>29100000.0</td>\n",
       "      <td>3</td>\n",
       "    </tr>\n",
       "    <tr>\n",
       "      <th>2</th>\n",
       "      <td>algorithm4</td>\n",
       "      <td>1.654773e+09</td>\n",
       "      <td>1.654773e+09</td>\n",
       "      <td>0.000550</td>\n",
       "      <td>29100000.0</td>\n",
       "      <td>3</td>\n",
       "    </tr>\n",
       "  </tbody>\n",
       "</table>\n",
       "</div>"
      ],
      "text/plain": [
       "  case:concept:name  case:timestamp:start  case:timestamp:end  case:duration  \\\n",
       "1        algorithm5          1.654773e+09        1.654773e+09       0.001164   \n",
       "2        algorithm4          1.654773e+09        1.654773e+09       0.000550   \n",
       "\n",
       "   case:flops  case:num_kernels  \n",
       "1  29100000.0                 3  \n",
       "2  29100000.0                 3  "
      ]
     },
     "execution_count": 8,
     "metadata": {},
     "output_type": "execute_result"
    }
   ],
   "source": [
    "worst_flops = case_table[case_table['case:flops']==case_table['case:flops'].max()]\n",
    "worst_flops"
   ]
  },
  {
   "cell_type": "code",
   "execution_count": 9,
   "id": "6e350e9d",
   "metadata": {},
   "outputs": [
    {
     "data": {
      "text/html": [
       "<div>\n",
       "<style scoped>\n",
       "    .dataframe tbody tr th:only-of-type {\n",
       "        vertical-align: middle;\n",
       "    }\n",
       "\n",
       "    .dataframe tbody tr th {\n",
       "        vertical-align: top;\n",
       "    }\n",
       "\n",
       "    .dataframe thead th {\n",
       "        text-align: right;\n",
       "    }\n",
       "</style>\n",
       "<table border=\"1\" class=\"dataframe\">\n",
       "  <thead>\n",
       "    <tr style=\"text-align: right;\">\n",
       "      <th></th>\n",
       "      <th>case:concept:name</th>\n",
       "      <th>case:timestamp:start</th>\n",
       "      <th>case:timestamp:end</th>\n",
       "      <th>case:duration</th>\n",
       "      <th>case:flops</th>\n",
       "      <th>case:num_kernels</th>\n",
       "    </tr>\n",
       "  </thead>\n",
       "  <tbody>\n",
       "    <tr>\n",
       "      <th>3</th>\n",
       "      <td>algorithm0</td>\n",
       "      <td>1.654773e+09</td>\n",
       "      <td>1.654773e+09</td>\n",
       "      <td>0.00048</td>\n",
       "      <td>2710000.0</td>\n",
       "      <td>3</td>\n",
       "    </tr>\n",
       "  </tbody>\n",
       "</table>\n",
       "</div>"
      ],
      "text/plain": [
       "  case:concept:name  case:timestamp:start  case:timestamp:end  case:duration  \\\n",
       "3        algorithm0          1.654773e+09        1.654773e+09        0.00048   \n",
       "\n",
       "   case:flops  case:num_kernels  \n",
       "3   2710000.0                 3  "
      ]
     },
     "execution_count": 9,
     "metadata": {},
     "output_type": "execute_result"
    }
   ],
   "source": [
    "best_duration = case_table[case_table['case:duration']==case_table['case:duration'].min()]\n",
    "best_duration"
   ]
  },
  {
   "cell_type": "code",
   "execution_count": 10,
   "id": "9f4d6696",
   "metadata": {},
   "outputs": [
    {
     "data": {
      "text/plain": [
       "True"
      ]
     },
     "execution_count": 10,
     "metadata": {},
     "output_type": "execute_result"
    }
   ],
   "source": [
    "'algorithm4' in worst_flops['case:concept:name'].values"
   ]
  },
  {
   "cell_type": "code",
   "execution_count": 11,
   "id": "08828123",
   "metadata": {},
   "outputs": [],
   "source": [
    "filtered_df = rt.loc[rt['case:concept:name'].isin(worst_flops['case:concept:name'].values)]"
   ]
  },
  {
   "cell_type": "code",
   "execution_count": 12,
   "id": "1d7b09cc",
   "metadata": {},
   "outputs": [
    {
     "data": {
      "text/html": [
       "<div>\n",
       "<style scoped>\n",
       "    .dataframe tbody tr th:only-of-type {\n",
       "        vertical-align: middle;\n",
       "    }\n",
       "\n",
       "    .dataframe tbody tr th {\n",
       "        vertical-align: top;\n",
       "    }\n",
       "\n",
       "    .dataframe thead th {\n",
       "        text-align: right;\n",
       "    }\n",
       "</style>\n",
       "<table border=\"1\" class=\"dataframe\">\n",
       "  <thead>\n",
       "    <tr style=\"text-align: right;\">\n",
       "      <th></th>\n",
       "      <th>case:concept:name</th>\n",
       "      <th>concept:name</th>\n",
       "      <th>concept:kernel</th>\n",
       "      <th>timestamp:start</th>\n",
       "      <th>timestamp:end</th>\n",
       "    </tr>\n",
       "  </thead>\n",
       "  <tbody>\n",
       "    <tr>\n",
       "      <th>3</th>\n",
       "      <td>algorithm5</td>\n",
       "      <td>gemm_2.64e+05</td>\n",
       "      <td>gemm!('N', 'N', 1.0, ml0, ml1, 0.0, ml4)</td>\n",
       "      <td>1.654773e+09</td>\n",
       "      <td>1.654773e+09</td>\n",
       "    </tr>\n",
       "    <tr>\n",
       "      <th>4</th>\n",
       "      <td>algorithm5</td>\n",
       "      <td>gemm_1.56e+07</td>\n",
       "      <td>gemm!('N', 'N', 1.0, ml2, ml3, 0.0, ml5)</td>\n",
       "      <td>1.654773e+09</td>\n",
       "      <td>1.654773e+09</td>\n",
       "    </tr>\n",
       "    <tr>\n",
       "      <th>5</th>\n",
       "      <td>algorithm5</td>\n",
       "      <td>gemm_1.32e+07</td>\n",
       "      <td>gemm!('N', 'N', 1.0, ml4, ml5, 0.0, ml6)</td>\n",
       "      <td>1.654773e+09</td>\n",
       "      <td>1.654773e+09</td>\n",
       "    </tr>\n",
       "    <tr>\n",
       "      <th>6</th>\n",
       "      <td>algorithm4</td>\n",
       "      <td>gemm_1.56e+07</td>\n",
       "      <td>gemm!('N', 'N', 1.0, ml2, ml3, 0.0, ml4)</td>\n",
       "      <td>1.654773e+09</td>\n",
       "      <td>1.654773e+09</td>\n",
       "    </tr>\n",
       "    <tr>\n",
       "      <th>7</th>\n",
       "      <td>algorithm4</td>\n",
       "      <td>gemm_2.64e+05</td>\n",
       "      <td>gemm!('N', 'N', 1.0, ml0, ml1, 0.0, ml5)</td>\n",
       "      <td>1.654773e+09</td>\n",
       "      <td>1.654773e+09</td>\n",
       "    </tr>\n",
       "    <tr>\n",
       "      <th>8</th>\n",
       "      <td>algorithm4</td>\n",
       "      <td>gemm_1.32e+07</td>\n",
       "      <td>gemm!('N', 'N', 1.0, ml5, ml4, 0.0, ml6)</td>\n",
       "      <td>1.654773e+09</td>\n",
       "      <td>1.654773e+09</td>\n",
       "    </tr>\n",
       "  </tbody>\n",
       "</table>\n",
       "</div>"
      ],
      "text/plain": [
       "  case:concept:name   concept:name                            concept:kernel  \\\n",
       "3        algorithm5  gemm_2.64e+05  gemm!('N', 'N', 1.0, ml0, ml1, 0.0, ml4)   \n",
       "4        algorithm5  gemm_1.56e+07  gemm!('N', 'N', 1.0, ml2, ml3, 0.0, ml5)   \n",
       "5        algorithm5  gemm_1.32e+07  gemm!('N', 'N', 1.0, ml4, ml5, 0.0, ml6)   \n",
       "6        algorithm4  gemm_1.56e+07  gemm!('N', 'N', 1.0, ml2, ml3, 0.0, ml4)   \n",
       "7        algorithm4  gemm_2.64e+05  gemm!('N', 'N', 1.0, ml0, ml1, 0.0, ml5)   \n",
       "8        algorithm4  gemm_1.32e+07  gemm!('N', 'N', 1.0, ml5, ml4, 0.0, ml6)   \n",
       "\n",
       "   timestamp:start  timestamp:end  \n",
       "3     1.654773e+09   1.654773e+09  \n",
       "4     1.654773e+09   1.654773e+09  \n",
       "5     1.654773e+09   1.654773e+09  \n",
       "6     1.654773e+09   1.654773e+09  \n",
       "7     1.654773e+09   1.654773e+09  \n",
       "8     1.654773e+09   1.654773e+09  "
      ]
     },
     "execution_count": 12,
     "metadata": {},
     "output_type": "execute_result"
    }
   ],
   "source": [
    "filtered_df"
   ]
  },
  {
   "cell_type": "code",
   "execution_count": 13,
   "id": "b56f2f39",
   "metadata": {},
   "outputs": [],
   "source": [
    "filtered_df = rt.loc[rt['case:concept:name'].isin(best_duration['case:concept:name'].values)]"
   ]
  },
  {
   "cell_type": "code",
   "execution_count": 14,
   "id": "de540d3f",
   "metadata": {},
   "outputs": [
    {
     "data": {
      "text/html": [
       "<div>\n",
       "<style scoped>\n",
       "    .dataframe tbody tr th:only-of-type {\n",
       "        vertical-align: middle;\n",
       "    }\n",
       "\n",
       "    .dataframe tbody tr th {\n",
       "        vertical-align: top;\n",
       "    }\n",
       "\n",
       "    .dataframe thead th {\n",
       "        text-align: right;\n",
       "    }\n",
       "</style>\n",
       "<table border=\"1\" class=\"dataframe\">\n",
       "  <thead>\n",
       "    <tr style=\"text-align: right;\">\n",
       "      <th></th>\n",
       "      <th>case:concept:name</th>\n",
       "      <th>concept:name</th>\n",
       "      <th>concept:kernel</th>\n",
       "      <th>timestamp:start</th>\n",
       "      <th>timestamp:end</th>\n",
       "    </tr>\n",
       "  </thead>\n",
       "  <tbody>\n",
       "    <tr>\n",
       "      <th>9</th>\n",
       "      <td>algorithm0</td>\n",
       "      <td>gemm_3.12e+05</td>\n",
       "      <td>gemm!('N', 'N', 1.0, ml1, ml2, 0.0, ml4)</td>\n",
       "      <td>1.654773e+09</td>\n",
       "      <td>1.654773e+09</td>\n",
       "    </tr>\n",
       "    <tr>\n",
       "      <th>10</th>\n",
       "      <td>algorithm0</td>\n",
       "      <td>gemm_1.3e+06</td>\n",
       "      <td>gemm!('N', 'N', 1.0, ml4, ml3, 0.0, ml5)</td>\n",
       "      <td>1.654773e+09</td>\n",
       "      <td>1.654773e+09</td>\n",
       "    </tr>\n",
       "    <tr>\n",
       "      <th>11</th>\n",
       "      <td>algorithm0</td>\n",
       "      <td>gemm_1.1e+06</td>\n",
       "      <td>gemm!('N', 'N', 1.0, ml0, ml5, 0.0, ml6)</td>\n",
       "      <td>1.654773e+09</td>\n",
       "      <td>1.654773e+09</td>\n",
       "    </tr>\n",
       "  </tbody>\n",
       "</table>\n",
       "</div>"
      ],
      "text/plain": [
       "   case:concept:name   concept:name                            concept:kernel  \\\n",
       "9         algorithm0  gemm_3.12e+05  gemm!('N', 'N', 1.0, ml1, ml2, 0.0, ml4)   \n",
       "10        algorithm0   gemm_1.3e+06  gemm!('N', 'N', 1.0, ml4, ml3, 0.0, ml5)   \n",
       "11        algorithm0   gemm_1.1e+06  gemm!('N', 'N', 1.0, ml0, ml5, 0.0, ml6)   \n",
       "\n",
       "    timestamp:start  timestamp:end  \n",
       "9      1.654773e+09   1.654773e+09  \n",
       "10     1.654773e+09   1.654773e+09  \n",
       "11     1.654773e+09   1.654773e+09  "
      ]
     },
     "execution_count": 14,
     "metadata": {},
     "output_type": "execute_result"
    }
   ],
   "source": [
    "filtered_df"
   ]
  },
  {
   "cell_type": "code",
   "execution_count": null,
   "id": "f28dcf25",
   "metadata": {},
   "outputs": [],
   "source": []
  }
 ],
 "metadata": {
  "kernelspec": {
   "display_name": "Python 3 (ipykernel)",
   "language": "python",
   "name": "python3"
  },
  "language_info": {
   "codemirror_mode": {
    "name": "ipython",
    "version": 3
   },
   "file_extension": ".py",
   "mimetype": "text/x-python",
   "name": "python",
   "nbconvert_exporter": "python",
   "pygments_lexer": "ipython3",
   "version": "3.9.7"
  }
 },
 "nbformat": 4,
 "nbformat_minor": 5
}
