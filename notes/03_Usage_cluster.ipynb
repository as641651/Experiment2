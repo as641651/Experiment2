{
 "cells": [
  {
   "cell_type": "code",
   "execution_count": 1,
   "id": "b7ea4f2c",
   "metadata": {},
   "outputs": [],
   "source": [
    "import sys\n",
    "sys.path.append(\"../utils/\")"
   ]
  },
  {
   "cell_type": "code",
   "execution_count": 2,
   "id": "92c09476",
   "metadata": {},
   "outputs": [],
   "source": [
    "from backend_manager import BackendManager\n",
    "from runner import Runner\n",
    "from data_collector import DataCollector\n",
    "from filter_on_kpis import FilterOnKPIs\n",
    "from runner_competing import RunnerCompeting\n",
    "from case_duration_manager import CaseDurationsManager\n",
    "from rank_variants import RankVariants\n",
    "from measurements_visualizer import MeasurementsVisualizer\n",
    "from measure_and_rank import measure_and_rank"
   ]
  },
  {
   "cell_type": "code",
   "execution_count": 3,
   "id": "bc82fd11",
   "metadata": {},
   "outputs": [],
   "source": [
    "import os\n",
    "import time\n",
    "import shutil"
   ]
  },
  {
   "cell_type": "markdown",
   "id": "4fcd96c2",
   "metadata": {},
   "source": [
    "#### 01. Backend -NA"
   ]
  },
  {
   "cell_type": "code",
   "execution_count": 60,
   "id": "d9fda662",
   "metadata": {},
   "outputs": [],
   "source": [
    "submit_cmd = \"sbatch submit.sh\"\n",
    "#bm = BackendManager(\"login18-1.hpc.itc.rwth-aachen.de\", \"as641651\", submit_cmd)\n",
    "bm = BackendManager(\"login18-1.hpc.itc.rwth-aachen.de\", \"as641651\")\n",
    "bm.connect()\n",
    "#bm = None"
   ]
  },
  {
   "cell_type": "markdown",
   "id": "4398797d",
   "metadata": {},
   "source": [
    "#### 02. Runner"
   ]
  },
  {
   "cell_type": "code",
   "execution_count": 120,
   "id": "ccc73257",
   "metadata": {},
   "outputs": [],
   "source": [
    "args = [\"331\",\"279\",\"338\",\"854\",\"497\"]\n",
    "\n",
    "exp_dir = \"../Matrix-Chain-4/variants-linnea/\"\n",
    "if bm:\n",
    "    exp_dir = \"~/PhD/performance-analyazer/Experiment2/Matrix-Chain-4/variants-linnea\"\n",
    "threads = 10\n",
    "runner = Runner(\"MC\", exp_dir, args, threads=threads, backend=bm)"
   ]
  },
  {
   "cell_type": "markdown",
   "id": "ff5ad0dd",
   "metadata": {},
   "source": [
    "#### 03. Job name - NA"
   ]
  },
  {
   "cell_type": "code",
   "execution_count": 121,
   "id": "2cada5ed",
   "metadata": {},
   "outputs": [],
   "source": [
    "if bm:\n",
    "    args_dir_name = runner.args_dir.split('/')[-1]\n",
    "    job_name = \"{}_T{}\".format(args_dir_name, threads)\n",
    "    job_name"
   ]
  },
  {
   "cell_type": "markdown",
   "id": "ef327140",
   "metadata": {},
   "source": [
    "#### 04. DataCollector"
   ]
  },
  {
   "cell_type": "code",
   "execution_count": 122,
   "id": "feba2d75",
   "metadata": {},
   "outputs": [],
   "source": [
    "if bm:\n",
    "    exp_dir_local = \"../Matrix-Chain-4/variants-linnea/\"\n",
    "    local_data_dir = os.path.join(exp_dir_local, \"cluster-experiments\", \"{}\".format(args_dir_name))\n",
    "    if os.path.exists(local_data_dir):\n",
    "        shutil.rmtree(local_data_dir)\n",
    "    os.makedirs(local_data_dir)\n",
    "    dc = DataCollector(local_data_dir, runner.args_dir, bm)\n",
    "else:\n",
    "    dc = DataCollector(runner.args_dir)"
   ]
  },
  {
   "cell_type": "markdown",
   "id": "d9cd18fd",
   "metadata": {},
   "source": [
    "#### 05. Look for already available data"
   ]
  },
  {
   "cell_type": "code",
   "execution_count": 123,
   "id": "a5e676ee",
   "metadata": {},
   "outputs": [
    {
     "name": "stdout",
     "output_type": "stream",
     "text": [
      "scp as641651@login18-1.hpc.itc.rwth-aachen.de:~/PhD/performance-analyazer/Experiment2/Matrix-Chain-4/variants-linnea/experiments/331_279_338_854_497/case_table.csv ../Matrix-Chain-4/variants-linnea/cluster-experiments/331_279_338_854_497\n",
      "b''\n"
     ]
    },
    {
     "data": {
      "text/html": [
       "<div>\n",
       "<style scoped>\n",
       "    .dataframe tbody tr th:only-of-type {\n",
       "        vertical-align: middle;\n",
       "    }\n",
       "\n",
       "    .dataframe tbody tr th {\n",
       "        vertical-align: top;\n",
       "    }\n",
       "\n",
       "    .dataframe thead th {\n",
       "        text-align: right;\n",
       "    }\n",
       "</style>\n",
       "<table border=\"1\" class=\"dataframe\">\n",
       "  <thead>\n",
       "    <tr style=\"text-align: right;\">\n",
       "      <th></th>\n",
       "      <th>case:concept:name</th>\n",
       "      <th>case:flops</th>\n",
       "      <th>case:num_kernels</th>\n",
       "    </tr>\n",
       "  </thead>\n",
       "  <tbody>\n",
       "    <tr>\n",
       "      <th>0</th>\n",
       "      <td>algorithm0</td>\n",
       "      <td>443000000.0</td>\n",
       "      <td>3</td>\n",
       "    </tr>\n",
       "    <tr>\n",
       "      <th>1</th>\n",
       "      <td>algorithm2</td>\n",
       "      <td>460000000.0</td>\n",
       "      <td>3</td>\n",
       "    </tr>\n",
       "    <tr>\n",
       "      <th>2</th>\n",
       "      <td>algorithm4</td>\n",
       "      <td>564000000.0</td>\n",
       "      <td>3</td>\n",
       "    </tr>\n",
       "    <tr>\n",
       "      <th>3</th>\n",
       "      <td>algorithm1</td>\n",
       "      <td>443000000.0</td>\n",
       "      <td>3</td>\n",
       "    </tr>\n",
       "    <tr>\n",
       "      <th>4</th>\n",
       "      <td>algorithm5</td>\n",
       "      <td>586000000.0</td>\n",
       "      <td>3</td>\n",
       "    </tr>\n",
       "    <tr>\n",
       "      <th>5</th>\n",
       "      <td>algorithm3</td>\n",
       "      <td>490000000.0</td>\n",
       "      <td>3</td>\n",
       "    </tr>\n",
       "  </tbody>\n",
       "</table>\n",
       "</div>"
      ],
      "text/plain": [
       "  case:concept:name   case:flops  case:num_kernels\n",
       "0        algorithm0  443000000.0                 3\n",
       "1        algorithm2  460000000.0                 3\n",
       "2        algorithm4  564000000.0                 3\n",
       "3        algorithm1  443000000.0                 3\n",
       "4        algorithm5  586000000.0                 3\n",
       "5        algorithm3  490000000.0                 3"
      ]
     },
     "execution_count": 123,
     "metadata": {},
     "output_type": "execute_result"
    }
   ],
   "source": [
    "case_table = dc.get_case_table()\n",
    "case_table"
   ]
  },
  {
   "cell_type": "code",
   "execution_count": 124,
   "id": "5747c4c3",
   "metadata": {},
   "outputs": [
    {
     "name": "stdout",
     "output_type": "stream",
     "text": [
      "scp as641651@login18-1.hpc.itc.rwth-aachen.de:~/PhD/performance-analyazer/Experiment2/Matrix-Chain-4/variants-linnea/experiments/331_279_338_854_497/mean_ranks.csv ../Matrix-Chain-4/variants-linnea/cluster-experiments/331_279_338_854_497\n",
      "b''\n",
      "scp as641651@login18-1.hpc.itc.rwth-aachen.de:~/PhD/performance-analyazer/Experiment2/Matrix-Chain-4/variants-linnea/experiments/331_279_338_854_497/run_times_competing_0.csv ../Matrix-Chain-4/variants-linnea/cluster-experiments/331_279_338_854_497\n",
      "b''\n",
      "scp as641651@login18-1.hpc.itc.rwth-aachen.de:~/PhD/performance-analyazer/Experiment2/Matrix-Chain-4/variants-linnea/experiments/331_279_338_854_497/run_times_competing_1.csv ../Matrix-Chain-4/variants-linnea/cluster-experiments/331_279_338_854_497\n",
      "b''\n",
      "scp as641651@login18-1.hpc.itc.rwth-aachen.de:~/PhD/performance-analyazer/Experiment2/Matrix-Chain-4/variants-linnea/experiments/331_279_338_854_497/run_times_competing_2.csv ../Matrix-Chain-4/variants-linnea/cluster-experiments/331_279_338_854_497\n",
      "b''\n",
      "scp as641651@login18-1.hpc.itc.rwth-aachen.de:~/PhD/performance-analyazer/Experiment2/Matrix-Chain-4/variants-linnea/experiments/331_279_338_854_497/run_times_competing_3.csv ../Matrix-Chain-4/variants-linnea/cluster-experiments/331_279_338_854_497\n",
      "b''\n",
      "scp as641651@login18-1.hpc.itc.rwth-aachen.de:~/PhD/performance-analyazer/Experiment2/Matrix-Chain-4/variants-linnea/experiments/331_279_338_854_497/run_times_competing_4.csv ../Matrix-Chain-4/variants-linnea/cluster-experiments/331_279_338_854_497\n",
      "b''\n",
      "scp as641651@login18-1.hpc.itc.rwth-aachen.de:~/PhD/performance-analyazer/Experiment2/Matrix-Chain-4/variants-linnea/experiments/331_279_338_854_497/run_times_competing_5.csv ../Matrix-Chain-4/variants-linnea/cluster-experiments/331_279_338_854_497\n",
      "b''\n",
      "scp as641651@login18-1.hpc.itc.rwth-aachen.de:~/PhD/performance-analyazer/Experiment2/Matrix-Chain-4/variants-linnea/experiments/331_279_338_854_497/run_times_competing_6.csv ../Matrix-Chain-4/variants-linnea/cluster-experiments/331_279_338_854_497\n",
      "b''\n",
      "Collected data from 7 runs\n"
     ]
    }
   ],
   "source": [
    "cm = CaseDurationsManager()\n",
    "cm.collect_case_durations(dc)"
   ]
  },
  {
   "cell_type": "code",
   "execution_count": 98,
   "id": "1930fb22",
   "metadata": {},
   "outputs": [],
   "source": [
    "#cm.case_durations.head()"
   ]
  },
  {
   "cell_type": "markdown",
   "id": "319fddb2",
   "metadata": {},
   "source": [
    "#### 05. Generate Experiments"
   ]
  },
  {
   "cell_type": "code",
   "execution_count": 99,
   "id": "21d64260",
   "metadata": {},
   "outputs": [
    {
     "name": "stdout",
     "output_type": "stream",
     "text": [
      "source ~/.analyzer; cd ~/PhD/performance-analyazer/Experiment2/Matrix-Chain-4/variants-linnea; python generate-variants-linnea.py 331 279 338 854 500 --threads=10;\n",
      "['New solution:.............4.45e+08\\n', 'No further generation steps possible.\\n', '----------------------------------\\n', 'Number of nodes:                 8\\n', 'Solution nodes:                  1\\n', 'Data:                     1.06e+06\\n', 'Best solution:            4.45e+08\\n', 'Intensity:                     420\\n', 'Number of algorithms:            6\\n', 'Generated Variants.\\n']\n"
     ]
    },
    {
     "data": {
      "text/plain": [
       "0"
      ]
     },
     "execution_count": 99,
     "metadata": {},
     "output_type": "execute_result"
    }
   ],
   "source": [
    "ret = runner.generate_experiments()\n",
    "ret"
   ]
  },
  {
   "cell_type": "markdown",
   "id": "92d8b8f8",
   "metadata": {},
   "source": [
    "#### 06. Single-run Experiment"
   ]
  },
  {
   "cell_type": "code",
   "execution_count": 100,
   "id": "c6b97309",
   "metadata": {},
   "outputs": [
    {
     "name": "stdout",
     "output_type": "stream",
     "text": [
      "source ~/.analyzer; cd ~/PhD/performance-analyazer/Experiment2/Matrix-Chain-4/variants-linnea/experiments/331_279_338_854_500; julia runner.jl;\n",
      "Running experiments in the backend.\n"
     ]
    },
    {
     "data": {
      "text/plain": [
       "0"
      ]
     },
     "execution_count": 100,
     "metadata": {},
     "output_type": "execute_result"
    }
   ],
   "source": [
    "ret = runner.run_experiments()\n",
    "ret"
   ]
  },
  {
   "cell_type": "code",
   "execution_count": 101,
   "id": "db9d6d1e",
   "metadata": {},
   "outputs": [
    {
     "name": "stdout",
     "output_type": "stream",
     "text": [
      "['             JOBID PARTITION                           NAME     USER    STATE       TIME TIME_LIMI  NODES NODELIST(REASON)\\n']\n"
     ]
    }
   ],
   "source": [
    "if bm:\n",
    "    while bm.check_slrum_status(job_name) != 0:\n",
    "        print(\"Waiting for Job to complete.\")\n",
    "        time.sleep(5)"
   ]
  },
  {
   "cell_type": "code",
   "execution_count": 102,
   "id": "d9205e31",
   "metadata": {},
   "outputs": [
    {
     "name": "stdout",
     "output_type": "stream",
     "text": [
      "scp as641651@login18-1.hpc.itc.rwth-aachen.de:~/PhD/performance-analyazer/Experiment2/Matrix-Chain-4/variants-linnea/experiments/331_279_338_854_500/case_table.csv ../Matrix-Chain-4/variants-linnea/cluster-experiments/331_279_338_854_500\n",
      "b''\n",
      "scp as641651@login18-1.hpc.itc.rwth-aachen.de:~/PhD/performance-analyazer/Experiment2/Matrix-Chain-4/variants-linnea/experiments/331_279_338_854_500/run_times.csv ../Matrix-Chain-4/variants-linnea/cluster-experiments/331_279_338_854_500\n",
      "b''\n"
     ]
    }
   ],
   "source": [
    "case_table = dc.get_case_table()\n",
    "measurements = dc.get_all_runtimes_table()"
   ]
  },
  {
   "cell_type": "code",
   "execution_count": 103,
   "id": "a79e5216",
   "metadata": {},
   "outputs": [
    {
     "data": {
      "text/html": [
       "<div>\n",
       "<style scoped>\n",
       "    .dataframe tbody tr th:only-of-type {\n",
       "        vertical-align: middle;\n",
       "    }\n",
       "\n",
       "    .dataframe tbody tr th {\n",
       "        vertical-align: top;\n",
       "    }\n",
       "\n",
       "    .dataframe thead th {\n",
       "        text-align: right;\n",
       "    }\n",
       "</style>\n",
       "<table border=\"1\" class=\"dataframe\">\n",
       "  <thead>\n",
       "    <tr style=\"text-align: right;\">\n",
       "      <th></th>\n",
       "      <th>case:concept:name</th>\n",
       "      <th>case:flops</th>\n",
       "      <th>case:num_kernels</th>\n",
       "    </tr>\n",
       "  </thead>\n",
       "  <tbody>\n",
       "    <tr>\n",
       "      <th>0</th>\n",
       "      <td>algorithm0</td>\n",
       "      <td>445000000.0</td>\n",
       "      <td>3</td>\n",
       "    </tr>\n",
       "    <tr>\n",
       "      <th>1</th>\n",
       "      <td>algorithm2</td>\n",
       "      <td>462000000.0</td>\n",
       "      <td>3</td>\n",
       "    </tr>\n",
       "    <tr>\n",
       "      <th>2</th>\n",
       "      <td>algorithm4</td>\n",
       "      <td>566000000.0</td>\n",
       "      <td>3</td>\n",
       "    </tr>\n",
       "    <tr>\n",
       "      <th>3</th>\n",
       "      <td>algorithm1</td>\n",
       "      <td>445000000.0</td>\n",
       "      <td>3</td>\n",
       "    </tr>\n",
       "    <tr>\n",
       "      <th>4</th>\n",
       "      <td>algorithm5</td>\n",
       "      <td>587000000.0</td>\n",
       "      <td>3</td>\n",
       "    </tr>\n",
       "    <tr>\n",
       "      <th>5</th>\n",
       "      <td>algorithm3</td>\n",
       "      <td>493000000.0</td>\n",
       "      <td>3</td>\n",
       "    </tr>\n",
       "  </tbody>\n",
       "</table>\n",
       "</div>"
      ],
      "text/plain": [
       "  case:concept:name   case:flops  case:num_kernels\n",
       "0        algorithm0  445000000.0                 3\n",
       "1        algorithm2  462000000.0                 3\n",
       "2        algorithm4  566000000.0                 3\n",
       "3        algorithm1  445000000.0                 3\n",
       "4        algorithm5  587000000.0                 3\n",
       "5        algorithm3  493000000.0                 3"
      ]
     },
     "execution_count": 103,
     "metadata": {},
     "output_type": "execute_result"
    }
   ],
   "source": [
    "case_table"
   ]
  },
  {
   "cell_type": "code",
   "execution_count": 104,
   "id": "4dc91d20",
   "metadata": {},
   "outputs": [
    {
     "data": {
      "text/html": [
       "<div>\n",
       "<style scoped>\n",
       "    .dataframe tbody tr th:only-of-type {\n",
       "        vertical-align: middle;\n",
       "    }\n",
       "\n",
       "    .dataframe tbody tr th {\n",
       "        vertical-align: top;\n",
       "    }\n",
       "\n",
       "    .dataframe thead th {\n",
       "        text-align: right;\n",
       "    }\n",
       "</style>\n",
       "<table border=\"1\" class=\"dataframe\">\n",
       "  <thead>\n",
       "    <tr style=\"text-align: right;\">\n",
       "      <th></th>\n",
       "      <th>case:concept:name</th>\n",
       "      <th>concept:name</th>\n",
       "      <th>concept:flops</th>\n",
       "      <th>concept:operation</th>\n",
       "      <th>concept:kernel</th>\n",
       "      <th>timestamp:start</th>\n",
       "      <th>timestamp:end</th>\n",
       "    </tr>\n",
       "  </thead>\n",
       "  <tbody>\n",
       "    <tr>\n",
       "      <th>0</th>\n",
       "      <td>algorithm0</td>\n",
       "      <td>gemm_2.89e+08</td>\n",
       "      <td>289000000.0</td>\n",
       "      <td>tmp3 = (C D)</td>\n",
       "      <td>gemm!('N', 'N', 1.0, ml2, ml3, 0.0, ml4)</td>\n",
       "      <td>1.656953e+09</td>\n",
       "      <td>1.656953e+09</td>\n",
       "    </tr>\n",
       "    <tr>\n",
       "      <th>1</th>\n",
       "      <td>algorithm0</td>\n",
       "      <td>gemm_6.24e+07</td>\n",
       "      <td>62400000.0</td>\n",
       "      <td>tmp1 = (A B)</td>\n",
       "      <td>gemm!('N', 'N', 1.0, ml0, ml1, 0.0, ml5)</td>\n",
       "      <td>1.656953e+09</td>\n",
       "      <td>1.656953e+09</td>\n",
       "    </tr>\n",
       "    <tr>\n",
       "      <th>2</th>\n",
       "      <td>algorithm0</td>\n",
       "      <td>gemm_9.43e+07</td>\n",
       "      <td>94300000.0</td>\n",
       "      <td>tmp6 = (tmp1 tmp3)</td>\n",
       "      <td>gemm!('N', 'N', 1.0, ml5, ml4, 0.0, ml6)</td>\n",
       "      <td>1.656953e+09</td>\n",
       "      <td>1.656953e+09</td>\n",
       "    </tr>\n",
       "    <tr>\n",
       "      <th>3</th>\n",
       "      <td>algorithm2</td>\n",
       "      <td>gemm_6.24e+07</td>\n",
       "      <td>62400000.0</td>\n",
       "      <td>tmp1 = (A B)</td>\n",
       "      <td>gemm!('N', 'N', 1.0, ml0, ml1, 0.0, ml4)</td>\n",
       "      <td>1.656953e+09</td>\n",
       "      <td>1.656953e+09</td>\n",
       "    </tr>\n",
       "    <tr>\n",
       "      <th>4</th>\n",
       "      <td>algorithm2</td>\n",
       "      <td>gemm_1.61e+08</td>\n",
       "      <td>161000000.0</td>\n",
       "      <td>tmp4 = (tmp1 C)</td>\n",
       "      <td>gemm!('N', 'N', 1.0, ml4, ml2, 0.0, ml5)</td>\n",
       "      <td>1.656953e+09</td>\n",
       "      <td>1.656953e+09</td>\n",
       "    </tr>\n",
       "  </tbody>\n",
       "</table>\n",
       "</div>"
      ],
      "text/plain": [
       "  case:concept:name   concept:name  concept:flops   concept:operation  \\\n",
       "0        algorithm0  gemm_2.89e+08    289000000.0        tmp3 = (C D)   \n",
       "1        algorithm0  gemm_6.24e+07     62400000.0        tmp1 = (A B)   \n",
       "2        algorithm0  gemm_9.43e+07     94300000.0  tmp6 = (tmp1 tmp3)   \n",
       "3        algorithm2  gemm_6.24e+07     62400000.0        tmp1 = (A B)   \n",
       "4        algorithm2  gemm_1.61e+08    161000000.0     tmp4 = (tmp1 C)   \n",
       "\n",
       "                             concept:kernel  timestamp:start  timestamp:end  \n",
       "0  gemm!('N', 'N', 1.0, ml2, ml3, 0.0, ml4)     1.656953e+09   1.656953e+09  \n",
       "1  gemm!('N', 'N', 1.0, ml0, ml1, 0.0, ml5)     1.656953e+09   1.656953e+09  \n",
       "2  gemm!('N', 'N', 1.0, ml5, ml4, 0.0, ml6)     1.656953e+09   1.656953e+09  \n",
       "3  gemm!('N', 'N', 1.0, ml0, ml1, 0.0, ml4)     1.656953e+09   1.656953e+09  \n",
       "4  gemm!('N', 'N', 1.0, ml4, ml2, 0.0, ml5)     1.656953e+09   1.656953e+09  "
      ]
     },
     "execution_count": 104,
     "metadata": {},
     "output_type": "execute_result"
    }
   ],
   "source": [
    "measurements.head()"
   ]
  },
  {
   "cell_type": "markdown",
   "id": "9bc0506e",
   "metadata": {},
   "source": [
    "#### 07. KPI filter"
   ]
  },
  {
   "cell_type": "code",
   "execution_count": 125,
   "id": "cbf8a141",
   "metadata": {},
   "outputs": [
    {
     "data": {
      "text/html": [
       "<div>\n",
       "<style scoped>\n",
       "    .dataframe tbody tr th:only-of-type {\n",
       "        vertical-align: middle;\n",
       "    }\n",
       "\n",
       "    .dataframe tbody tr th {\n",
       "        vertical-align: top;\n",
       "    }\n",
       "\n",
       "    .dataframe thead th {\n",
       "        text-align: right;\n",
       "    }\n",
       "</style>\n",
       "<table border=\"1\" class=\"dataframe\">\n",
       "  <thead>\n",
       "    <tr style=\"text-align: right;\">\n",
       "      <th></th>\n",
       "      <th>case:concept:name</th>\n",
       "      <th>case:timestamp:start</th>\n",
       "      <th>case:timestamp:end</th>\n",
       "      <th>case:duration</th>\n",
       "      <th>case:flops</th>\n",
       "      <th>case:num_kernels</th>\n",
       "      <th>case:rel-flops</th>\n",
       "      <th>case:rel-duration</th>\n",
       "    </tr>\n",
       "  </thead>\n",
       "  <tbody>\n",
       "    <tr>\n",
       "      <th>0</th>\n",
       "      <td>algorithm0</td>\n",
       "      <td>1.656953e+09</td>\n",
       "      <td>1.656953e+09</td>\n",
       "      <td>0.004374</td>\n",
       "      <td>443000000.0</td>\n",
       "      <td>3</td>\n",
       "      <td>0.000000</td>\n",
       "      <td>1.460239</td>\n",
       "    </tr>\n",
       "    <tr>\n",
       "      <th>1</th>\n",
       "      <td>algorithm2</td>\n",
       "      <td>1.656953e+09</td>\n",
       "      <td>1.656953e+09</td>\n",
       "      <td>0.003298</td>\n",
       "      <td>460000000.0</td>\n",
       "      <td>3</td>\n",
       "      <td>0.038375</td>\n",
       "      <td>0.855036</td>\n",
       "    </tr>\n",
       "    <tr>\n",
       "      <th>2</th>\n",
       "      <td>algorithm4</td>\n",
       "      <td>1.656953e+09</td>\n",
       "      <td>1.656953e+09</td>\n",
       "      <td>0.003303</td>\n",
       "      <td>564000000.0</td>\n",
       "      <td>3</td>\n",
       "      <td>0.273138</td>\n",
       "      <td>0.857852</td>\n",
       "    </tr>\n",
       "    <tr>\n",
       "      <th>3</th>\n",
       "      <td>algorithm1</td>\n",
       "      <td>1.656953e+09</td>\n",
       "      <td>1.656953e+09</td>\n",
       "      <td>0.003575</td>\n",
       "      <td>443000000.0</td>\n",
       "      <td>3</td>\n",
       "      <td>0.000000</td>\n",
       "      <td>1.010862</td>\n",
       "    </tr>\n",
       "    <tr>\n",
       "      <th>4</th>\n",
       "      <td>algorithm5</td>\n",
       "      <td>1.656953e+09</td>\n",
       "      <td>1.656953e+09</td>\n",
       "      <td>0.004098</td>\n",
       "      <td>586000000.0</td>\n",
       "      <td>3</td>\n",
       "      <td>0.322799</td>\n",
       "      <td>1.304948</td>\n",
       "    </tr>\n",
       "    <tr>\n",
       "      <th>5</th>\n",
       "      <td>algorithm3</td>\n",
       "      <td>1.656953e+09</td>\n",
       "      <td>1.656953e+09</td>\n",
       "      <td>0.001778</td>\n",
       "      <td>490000000.0</td>\n",
       "      <td>3</td>\n",
       "      <td>0.106095</td>\n",
       "      <td>0.000000</td>\n",
       "    </tr>\n",
       "  </tbody>\n",
       "</table>\n",
       "</div>"
      ],
      "text/plain": [
       "  case:concept:name  case:timestamp:start  case:timestamp:end  case:duration  \\\n",
       "0        algorithm0          1.656953e+09        1.656953e+09       0.004374   \n",
       "1        algorithm2          1.656953e+09        1.656953e+09       0.003298   \n",
       "2        algorithm4          1.656953e+09        1.656953e+09       0.003303   \n",
       "3        algorithm1          1.656953e+09        1.656953e+09       0.003575   \n",
       "4        algorithm5          1.656953e+09        1.656953e+09       0.004098   \n",
       "5        algorithm3          1.656953e+09        1.656953e+09       0.001778   \n",
       "\n",
       "    case:flops  case:num_kernels  case:rel-flops  case:rel-duration  \n",
       "0  443000000.0                 3        0.000000           1.460239  \n",
       "1  460000000.0                 3        0.038375           0.855036  \n",
       "2  564000000.0                 3        0.273138           0.857852  \n",
       "3  443000000.0                 3        0.000000           1.010862  \n",
       "4  586000000.0                 3        0.322799           1.304948  \n",
       "5  490000000.0                 3        0.106095           0.000000  "
      ]
     },
     "execution_count": 125,
     "metadata": {},
     "output_type": "execute_result"
    }
   ],
   "source": [
    "kpi_filter = FilterOnKPIs(case_table, measurements)\n",
    "kpi_filter.case_table"
   ]
  },
  {
   "cell_type": "code",
   "execution_count": 126,
   "id": "6422054e",
   "metadata": {},
   "outputs": [
    {
     "data": {
      "text/html": [
       "<div>\n",
       "<style scoped>\n",
       "    .dataframe tbody tr th:only-of-type {\n",
       "        vertical-align: middle;\n",
       "    }\n",
       "\n",
       "    .dataframe tbody tr th {\n",
       "        vertical-align: top;\n",
       "    }\n",
       "\n",
       "    .dataframe thead th {\n",
       "        text-align: right;\n",
       "    }\n",
       "</style>\n",
       "<table border=\"1\" class=\"dataframe\">\n",
       "  <thead>\n",
       "    <tr style=\"text-align: right;\">\n",
       "      <th></th>\n",
       "      <th>case:concept:name</th>\n",
       "      <th>case:timestamp:start</th>\n",
       "      <th>case:timestamp:end</th>\n",
       "      <th>case:duration</th>\n",
       "      <th>case:flops</th>\n",
       "      <th>case:num_kernels</th>\n",
       "      <th>case:rel-flops</th>\n",
       "      <th>case:rel-duration</th>\n",
       "    </tr>\n",
       "  </thead>\n",
       "  <tbody>\n",
       "    <tr>\n",
       "      <th>0</th>\n",
       "      <td>algorithm0</td>\n",
       "      <td>1.656953e+09</td>\n",
       "      <td>1.656953e+09</td>\n",
       "      <td>0.004374</td>\n",
       "      <td>443000000.0</td>\n",
       "      <td>3</td>\n",
       "      <td>0.000000</td>\n",
       "      <td>1.460239</td>\n",
       "    </tr>\n",
       "    <tr>\n",
       "      <th>1</th>\n",
       "      <td>algorithm2</td>\n",
       "      <td>1.656953e+09</td>\n",
       "      <td>1.656953e+09</td>\n",
       "      <td>0.003298</td>\n",
       "      <td>460000000.0</td>\n",
       "      <td>3</td>\n",
       "      <td>0.038375</td>\n",
       "      <td>0.855036</td>\n",
       "    </tr>\n",
       "    <tr>\n",
       "      <th>2</th>\n",
       "      <td>algorithm4</td>\n",
       "      <td>1.656953e+09</td>\n",
       "      <td>1.656953e+09</td>\n",
       "      <td>0.003303</td>\n",
       "      <td>564000000.0</td>\n",
       "      <td>3</td>\n",
       "      <td>0.273138</td>\n",
       "      <td>0.857852</td>\n",
       "    </tr>\n",
       "    <tr>\n",
       "      <th>3</th>\n",
       "      <td>algorithm1</td>\n",
       "      <td>1.656953e+09</td>\n",
       "      <td>1.656953e+09</td>\n",
       "      <td>0.003575</td>\n",
       "      <td>443000000.0</td>\n",
       "      <td>3</td>\n",
       "      <td>0.000000</td>\n",
       "      <td>1.010862</td>\n",
       "    </tr>\n",
       "    <tr>\n",
       "      <th>4</th>\n",
       "      <td>algorithm5</td>\n",
       "      <td>1.656953e+09</td>\n",
       "      <td>1.656953e+09</td>\n",
       "      <td>0.004098</td>\n",
       "      <td>586000000.0</td>\n",
       "      <td>3</td>\n",
       "      <td>0.322799</td>\n",
       "      <td>1.304948</td>\n",
       "    </tr>\n",
       "    <tr>\n",
       "      <th>5</th>\n",
       "      <td>algorithm3</td>\n",
       "      <td>1.656953e+09</td>\n",
       "      <td>1.656953e+09</td>\n",
       "      <td>0.001778</td>\n",
       "      <td>490000000.0</td>\n",
       "      <td>3</td>\n",
       "      <td>0.106095</td>\n",
       "      <td>0.000000</td>\n",
       "    </tr>\n",
       "  </tbody>\n",
       "</table>\n",
       "</div>"
      ],
      "text/plain": [
       "  case:concept:name  case:timestamp:start  case:timestamp:end  case:duration  \\\n",
       "0        algorithm0          1.656953e+09        1.656953e+09       0.004374   \n",
       "1        algorithm2          1.656953e+09        1.656953e+09       0.003298   \n",
       "2        algorithm4          1.656953e+09        1.656953e+09       0.003303   \n",
       "3        algorithm1          1.656953e+09        1.656953e+09       0.003575   \n",
       "4        algorithm5          1.656953e+09        1.656953e+09       0.004098   \n",
       "5        algorithm3          1.656953e+09        1.656953e+09       0.001778   \n",
       "\n",
       "    case:flops  case:num_kernels  case:rel-flops  case:rel-duration  \n",
       "0  443000000.0                 3        0.000000           1.460239  \n",
       "1  460000000.0                 3        0.038375           0.855036  \n",
       "2  564000000.0                 3        0.273138           0.857852  \n",
       "3  443000000.0                 3        0.000000           1.010862  \n",
       "4  586000000.0                 3        0.322799           1.304948  \n",
       "5  490000000.0                 3        0.106095           0.000000  "
      ]
     },
     "execution_count": 126,
     "metadata": {},
     "output_type": "execute_result"
    }
   ],
   "source": [
    "competing_cases = kpi_filter.filter_on_flops_and_rel_duration(2.4)\n",
    "competing_cases"
   ]
  },
  {
   "cell_type": "code",
   "execution_count": 127,
   "id": "53be3e62",
   "metadata": {},
   "outputs": [
    {
     "data": {
      "text/plain": [
       "['algorithm3',\n",
       " 'algorithm2',\n",
       " 'algorithm4',\n",
       " 'algorithm1',\n",
       " 'algorithm5',\n",
       " 'algorithm0']"
      ]
     },
     "execution_count": 127,
     "metadata": {},
     "output_type": "execute_result"
    }
   ],
   "source": [
    "alg_seq_h0 = kpi_filter.get_alg_seq_sorted_on_duration(competing_cases)\n",
    "alg_seq_h0"
   ]
  },
  {
   "cell_type": "markdown",
   "id": "65759ffb",
   "metadata": {},
   "source": [
    "#### 08. Runner Competing and compute ranks"
   ]
  },
  {
   "cell_type": "code",
   "execution_count": 108,
   "id": "6294bd7b",
   "metadata": {},
   "outputs": [],
   "source": [
    "runner_competing = RunnerCompeting(alg_seq_h0, runner.args_dir,\n",
    "                                          threads=threads, backend=bm)"
   ]
  },
  {
   "cell_type": "code",
   "execution_count": 109,
   "id": "9fc38cb3",
   "metadata": {},
   "outputs": [
    {
     "name": "stdout",
     "output_type": "stream",
     "text": [
      "rm -rf ~/PhD/performance-analyazer/Experiment2/Matrix-Chain-4/variants-linnea/experiments/331_279_338_854_500/*_competing_*\n",
      "Error:  1\n",
      "rm -rf ~/PhD/performance-analyazer/Experiment2/Matrix-Chain-4/variants-linnea/experiments/331_279_338_854_500/*ranks.csv\n",
      "Error:  1\n",
      "source ~/.analyzer; cd ~/PhD/performance-analyazer/Experiment2/Matrix-Chain-4/variants-linnea/experiments/331_279_338_854_500; python compute-ranks.py --rep_steps 3 --eps 0.001 --threads 10 --algs algorithm3 algorithm2 algorithm4 algorithm1 algorithm5 algorithm0\n",
      "Submitted experiment to backend.\n"
     ]
    },
    {
     "data": {
      "text/plain": [
       "0"
      ]
     },
     "execution_count": 109,
     "metadata": {},
     "output_type": "execute_result"
    }
   ],
   "source": [
    "# Clear previous measurements if available before re-running\n",
    "dc.delete_competing_measurements()\n",
    "dc.delete_ranks()\n",
    "\n",
    "rep_steps = 3\n",
    "eps=0.001\n",
    "ret = runner_competing.compute_ranks(rep_steps=rep_steps, eps=eps)\n",
    "ret"
   ]
  },
  {
   "cell_type": "code",
   "execution_count": 110,
   "id": "d372f10f",
   "metadata": {},
   "outputs": [
    {
     "name": "stdout",
     "output_type": "stream",
     "text": [
      "['             JOBID PARTITION                           NAME     USER    STATE       TIME TIME_LIMI  NODES NODELIST(REASON)\\n']\n"
     ]
    }
   ],
   "source": [
    "if bm:\n",
    "    while bm.check_slrum_status(job_name) != 0:\n",
    "        print(\"Waiting for Job to complete.\")\n",
    "        time.sleep(5)"
   ]
  },
  {
   "cell_type": "markdown",
   "id": "ad953183",
   "metadata": {},
   "source": [
    "#### 09. View Ranks"
   ]
  },
  {
   "cell_type": "code",
   "execution_count": 128,
   "id": "064a7fdf",
   "metadata": {},
   "outputs": [
    {
     "name": "stdout",
     "output_type": "stream",
     "text": [
      "scp as641651@login18-1.hpc.itc.rwth-aachen.de:~/PhD/performance-analyazer/Experiment2/Matrix-Chain-4/variants-linnea/experiments/331_279_338_854_497/ranks.csv ../Matrix-Chain-4/variants-linnea/cluster-experiments/331_279_338_854_497\n",
      "b''\n"
     ]
    },
    {
     "data": {
      "text/html": [
       "<div>\n",
       "<style scoped>\n",
       "    .dataframe tbody tr th:only-of-type {\n",
       "        vertical-align: middle;\n",
       "    }\n",
       "\n",
       "    .dataframe tbody tr th {\n",
       "        vertical-align: top;\n",
       "    }\n",
       "\n",
       "    .dataframe thead th {\n",
       "        text-align: right;\n",
       "    }\n",
       "</style>\n",
       "<table border=\"1\" class=\"dataframe\">\n",
       "  <thead>\n",
       "    <tr style=\"text-align: right;\">\n",
       "      <th></th>\n",
       "      <th>case:concept:name</th>\n",
       "      <th>case:rank:q95-q5</th>\n",
       "      <th>case:rank:q90-q10</th>\n",
       "      <th>case:rank:q85-q15</th>\n",
       "      <th>case:rank:q80-q20</th>\n",
       "      <th>case:rank:q75-q25</th>\n",
       "      <th>case:rank:q70-q30</th>\n",
       "      <th>case:rank:q65-q35</th>\n",
       "    </tr>\n",
       "  </thead>\n",
       "  <tbody>\n",
       "    <tr>\n",
       "      <th>0</th>\n",
       "      <td>algorithm2</td>\n",
       "      <td>0</td>\n",
       "      <td>0</td>\n",
       "      <td>0</td>\n",
       "      <td>0</td>\n",
       "      <td>0</td>\n",
       "      <td>0</td>\n",
       "      <td>0</td>\n",
       "    </tr>\n",
       "    <tr>\n",
       "      <th>1</th>\n",
       "      <td>algorithm4</td>\n",
       "      <td>0</td>\n",
       "      <td>0</td>\n",
       "      <td>0</td>\n",
       "      <td>0</td>\n",
       "      <td>0</td>\n",
       "      <td>0</td>\n",
       "      <td>0</td>\n",
       "    </tr>\n",
       "    <tr>\n",
       "      <th>2</th>\n",
       "      <td>algorithm3</td>\n",
       "      <td>0</td>\n",
       "      <td>0</td>\n",
       "      <td>0</td>\n",
       "      <td>0</td>\n",
       "      <td>0</td>\n",
       "      <td>0</td>\n",
       "      <td>0</td>\n",
       "    </tr>\n",
       "    <tr>\n",
       "      <th>3</th>\n",
       "      <td>algorithm1</td>\n",
       "      <td>0</td>\n",
       "      <td>0</td>\n",
       "      <td>0</td>\n",
       "      <td>0</td>\n",
       "      <td>0</td>\n",
       "      <td>0</td>\n",
       "      <td>0</td>\n",
       "    </tr>\n",
       "    <tr>\n",
       "      <th>4</th>\n",
       "      <td>algorithm0</td>\n",
       "      <td>0</td>\n",
       "      <td>0</td>\n",
       "      <td>0</td>\n",
       "      <td>0</td>\n",
       "      <td>0</td>\n",
       "      <td>0</td>\n",
       "      <td>0</td>\n",
       "    </tr>\n",
       "    <tr>\n",
       "      <th>5</th>\n",
       "      <td>algorithm5</td>\n",
       "      <td>0</td>\n",
       "      <td>0</td>\n",
       "      <td>0</td>\n",
       "      <td>0</td>\n",
       "      <td>0</td>\n",
       "      <td>0</td>\n",
       "      <td>0</td>\n",
       "    </tr>\n",
       "  </tbody>\n",
       "</table>\n",
       "</div>"
      ],
      "text/plain": [
       "  case:concept:name  case:rank:q95-q5  case:rank:q90-q10  case:rank:q85-q15  \\\n",
       "0        algorithm2                 0                  0                  0   \n",
       "1        algorithm4                 0                  0                  0   \n",
       "2        algorithm3                 0                  0                  0   \n",
       "3        algorithm1                 0                  0                  0   \n",
       "4        algorithm0                 0                  0                  0   \n",
       "5        algorithm5                 0                  0                  0   \n",
       "\n",
       "   case:rank:q80-q20  case:rank:q75-q25  case:rank:q70-q30  case:rank:q65-q35  \n",
       "0                  0                  0                  0                  0  \n",
       "1                  0                  0                  0                  0  \n",
       "2                  0                  0                  0                  0  \n",
       "3                  0                  0                  0                  0  \n",
       "4                  0                  0                  0                  0  \n",
       "5                  0                  0                  0                  0  "
      ]
     },
     "execution_count": 128,
     "metadata": {},
     "output_type": "execute_result"
    }
   ],
   "source": [
    "ranks = dc.get_ranks()\n",
    "ranks"
   ]
  },
  {
   "cell_type": "code",
   "execution_count": 129,
   "id": "dedc2101",
   "metadata": {},
   "outputs": [
    {
     "data": {
      "text/html": [
       "<div>\n",
       "<style scoped>\n",
       "    .dataframe tbody tr th:only-of-type {\n",
       "        vertical-align: middle;\n",
       "    }\n",
       "\n",
       "    .dataframe tbody tr th {\n",
       "        vertical-align: top;\n",
       "    }\n",
       "\n",
       "    .dataframe thead th {\n",
       "        text-align: right;\n",
       "    }\n",
       "</style>\n",
       "<table border=\"1\" class=\"dataframe\">\n",
       "  <thead>\n",
       "    <tr style=\"text-align: right;\">\n",
       "      <th></th>\n",
       "      <th>case:concept:name</th>\n",
       "      <th>case:mean-rank</th>\n",
       "      <th>case:mean-rank.1</th>\n",
       "      <th>case:mean-rank.2</th>\n",
       "      <th>case:mean-rank.3</th>\n",
       "      <th>case:mean-rank.4</th>\n",
       "      <th>case:mean-rank.5</th>\n",
       "      <th>case:mean-rank.6</th>\n",
       "      <th>case:mean-rank.7</th>\n",
       "    </tr>\n",
       "  </thead>\n",
       "  <tbody>\n",
       "    <tr>\n",
       "      <th>0</th>\n",
       "      <td>algorithm3</td>\n",
       "      <td>0</td>\n",
       "      <td>0.714286</td>\n",
       "      <td>0.571429</td>\n",
       "      <td>0.142857</td>\n",
       "      <td>0.142857</td>\n",
       "      <td>0.285714</td>\n",
       "      <td>0.0</td>\n",
       "      <td>0.0</td>\n",
       "    </tr>\n",
       "    <tr>\n",
       "      <th>1</th>\n",
       "      <td>algorithm4</td>\n",
       "      <td>1</td>\n",
       "      <td>0.000000</td>\n",
       "      <td>0.000000</td>\n",
       "      <td>0.000000</td>\n",
       "      <td>0.142857</td>\n",
       "      <td>0.142857</td>\n",
       "      <td>0.0</td>\n",
       "      <td>0.0</td>\n",
       "    </tr>\n",
       "    <tr>\n",
       "      <th>2</th>\n",
       "      <td>algorithm1</td>\n",
       "      <td>2</td>\n",
       "      <td>0.714286</td>\n",
       "      <td>0.857143</td>\n",
       "      <td>0.142857</td>\n",
       "      <td>0.142857</td>\n",
       "      <td>0.285714</td>\n",
       "      <td>0.0</td>\n",
       "      <td>0.0</td>\n",
       "    </tr>\n",
       "    <tr>\n",
       "      <th>3</th>\n",
       "      <td>algorithm2</td>\n",
       "      <td>3</td>\n",
       "      <td>0.714286</td>\n",
       "      <td>0.428571</td>\n",
       "      <td>0.000000</td>\n",
       "      <td>0.000000</td>\n",
       "      <td>0.000000</td>\n",
       "      <td>0.0</td>\n",
       "      <td>0.0</td>\n",
       "    </tr>\n",
       "    <tr>\n",
       "      <th>4</th>\n",
       "      <td>algorithm0</td>\n",
       "      <td>4</td>\n",
       "      <td>0.714286</td>\n",
       "      <td>0.857143</td>\n",
       "      <td>0.142857</td>\n",
       "      <td>0.142857</td>\n",
       "      <td>0.285714</td>\n",
       "      <td>0.0</td>\n",
       "      <td>0.0</td>\n",
       "    </tr>\n",
       "    <tr>\n",
       "      <th>5</th>\n",
       "      <td>algorithm5</td>\n",
       "      <td>5</td>\n",
       "      <td>0.714286</td>\n",
       "      <td>0.857143</td>\n",
       "      <td>0.142857</td>\n",
       "      <td>0.142857</td>\n",
       "      <td>0.285714</td>\n",
       "      <td>0.0</td>\n",
       "      <td>0.0</td>\n",
       "    </tr>\n",
       "  </tbody>\n",
       "</table>\n",
       "</div>"
      ],
      "text/plain": [
       "  case:concept:name  case:mean-rank  case:mean-rank.1  case:mean-rank.2  \\\n",
       "0        algorithm3               0          0.714286          0.571429   \n",
       "1        algorithm4               1          0.000000          0.000000   \n",
       "2        algorithm1               2          0.714286          0.857143   \n",
       "3        algorithm2               3          0.714286          0.428571   \n",
       "4        algorithm0               4          0.714286          0.857143   \n",
       "5        algorithm5               5          0.714286          0.857143   \n",
       "\n",
       "   case:mean-rank.3  case:mean-rank.4  case:mean-rank.5  case:mean-rank.6  \\\n",
       "0          0.142857          0.142857          0.285714               0.0   \n",
       "1          0.000000          0.142857          0.142857               0.0   \n",
       "2          0.142857          0.142857          0.285714               0.0   \n",
       "3          0.000000          0.000000          0.000000               0.0   \n",
       "4          0.142857          0.142857          0.285714               0.0   \n",
       "5          0.142857          0.142857          0.285714               0.0   \n",
       "\n",
       "   case:mean-rank.7  \n",
       "0               0.0  \n",
       "1               0.0  \n",
       "2               0.0  \n",
       "3               0.0  \n",
       "4               0.0  \n",
       "5               0.0  "
      ]
     },
     "execution_count": 129,
     "metadata": {},
     "output_type": "execute_result"
    }
   ],
   "source": [
    "mean_ranks = dc.get_mean_ranks()\n",
    "mean_ranks"
   ]
  },
  {
   "cell_type": "markdown",
   "id": "39de7a96",
   "metadata": {},
   "source": [
    "#### 10. Get Measurements"
   ]
  },
  {
   "cell_type": "code",
   "execution_count": 130,
   "id": "737a3cb3",
   "metadata": {},
   "outputs": [
    {
     "name": "stdout",
     "output_type": "stream",
     "text": [
      "Number of measurements per alg:  21\n"
     ]
    }
   ],
   "source": [
    "num_runs = mean_ranks.shape[1]-2\n",
    "num_measurements = num_runs*rep_steps\n",
    "print(\"Number of measurements per alg: \", num_measurements)"
   ]
  },
  {
   "cell_type": "code",
   "execution_count": 131,
   "id": "ac469053",
   "metadata": {},
   "outputs": [
    {
     "name": "stdout",
     "output_type": "stream",
     "text": [
      "Collected data from 7 runs\n"
     ]
    }
   ],
   "source": [
    "cm.collect_case_durations(dc)"
   ]
  },
  {
   "cell_type": "code",
   "execution_count": 132,
   "id": "296f36a2",
   "metadata": {},
   "outputs": [],
   "source": [
    "alg_measurements = cm.get_alg_measurements()"
   ]
  },
  {
   "cell_type": "markdown",
   "id": "ac5c4dec",
   "metadata": {},
   "source": [
    "#### 11. Visualize Measurements"
   ]
  },
  {
   "cell_type": "code",
   "execution_count": 133,
   "id": "64859971",
   "metadata": {},
   "outputs": [],
   "source": [
    "#mv = MeasurementsVisualizer(alg_measurements, alg_seq_h0)\n",
    "mv = MeasurementsVisualizer(alg_measurements, list(ranks['case:concept:name']))"
   ]
  },
  {
   "cell_type": "code",
   "execution_count": 134,
   "id": "5bf8cae4",
   "metadata": {},
   "outputs": [
    {
     "data": {
      "image/png": "[encoded data removed]",
      "text/plain": [
       "<Figure size 720x648 with 1 Axes>"
      ]
     },
     "metadata": {
      "needs_background": "light"
     },
     "output_type": "display_data"
    }
   ],
   "source": [
    "mv.show_measurements_boxplots(outliers=False)"
   ]
  },
  {
   "cell_type": "code",
   "execution_count": 135,
   "id": "9d670084",
   "metadata": {},
   "outputs": [
    {
     "name": "stdout",
     "output_type": "stream",
     "text": [
      "Initial Sequence:  ['algorithm3', 'algorithm2', 'algorithm4', 'algorithm1', 'algorithm5', 'algorithm0']\n"
     ]
    },
    {
     "data": {
      "text/html": [
       "<div>\n",
       "<style scoped>\n",
       "    .dataframe tbody tr th:only-of-type {\n",
       "        vertical-align: middle;\n",
       "    }\n",
       "\n",
       "    .dataframe tbody tr th {\n",
       "        vertical-align: top;\n",
       "    }\n",
       "\n",
       "    .dataframe thead th {\n",
       "        text-align: right;\n",
       "    }\n",
       "</style>\n",
       "<table border=\"1\" class=\"dataframe\">\n",
       "  <thead>\n",
       "    <tr style=\"text-align: right;\">\n",
       "      <th></th>\n",
       "      <th>case:concept:name</th>\n",
       "      <th>case:rank:q95-q5</th>\n",
       "      <th>case:rank:q90-q10</th>\n",
       "      <th>case:rank:q85-q15</th>\n",
       "      <th>case:rank:q80-q20</th>\n",
       "      <th>case:rank:q75-q25</th>\n",
       "      <th>case:rank:q70-q30</th>\n",
       "      <th>case:rank:q65-q35</th>\n",
       "      <th>case:mean-rank.7</th>\n",
       "    </tr>\n",
       "  </thead>\n",
       "  <tbody>\n",
       "    <tr>\n",
       "      <th>0</th>\n",
       "      <td>algorithm2</td>\n",
       "      <td>0</td>\n",
       "      <td>0</td>\n",
       "      <td>0</td>\n",
       "      <td>0</td>\n",
       "      <td>0</td>\n",
       "      <td>0</td>\n",
       "      <td>0</td>\n",
       "      <td>0.0</td>\n",
       "    </tr>\n",
       "    <tr>\n",
       "      <th>1</th>\n",
       "      <td>algorithm4</td>\n",
       "      <td>0</td>\n",
       "      <td>0</td>\n",
       "      <td>0</td>\n",
       "      <td>0</td>\n",
       "      <td>0</td>\n",
       "      <td>0</td>\n",
       "      <td>0</td>\n",
       "      <td>0.0</td>\n",
       "    </tr>\n",
       "    <tr>\n",
       "      <th>2</th>\n",
       "      <td>algorithm3</td>\n",
       "      <td>0</td>\n",
       "      <td>0</td>\n",
       "      <td>0</td>\n",
       "      <td>0</td>\n",
       "      <td>0</td>\n",
       "      <td>0</td>\n",
       "      <td>0</td>\n",
       "      <td>0.0</td>\n",
       "    </tr>\n",
       "    <tr>\n",
       "      <th>3</th>\n",
       "      <td>algorithm1</td>\n",
       "      <td>0</td>\n",
       "      <td>0</td>\n",
       "      <td>0</td>\n",
       "      <td>0</td>\n",
       "      <td>0</td>\n",
       "      <td>0</td>\n",
       "      <td>0</td>\n",
       "      <td>0.0</td>\n",
       "    </tr>\n",
       "    <tr>\n",
       "      <th>4</th>\n",
       "      <td>algorithm0</td>\n",
       "      <td>0</td>\n",
       "      <td>0</td>\n",
       "      <td>0</td>\n",
       "      <td>0</td>\n",
       "      <td>0</td>\n",
       "      <td>0</td>\n",
       "      <td>0</td>\n",
       "      <td>0.0</td>\n",
       "    </tr>\n",
       "    <tr>\n",
       "      <th>5</th>\n",
       "      <td>algorithm5</td>\n",
       "      <td>0</td>\n",
       "      <td>0</td>\n",
       "      <td>0</td>\n",
       "      <td>0</td>\n",
       "      <td>0</td>\n",
       "      <td>0</td>\n",
       "      <td>0</td>\n",
       "      <td>0.0</td>\n",
       "    </tr>\n",
       "  </tbody>\n",
       "</table>\n",
       "</div>"
      ],
      "text/plain": [
       "  case:concept:name  case:rank:q95-q5  case:rank:q90-q10  case:rank:q85-q15  \\\n",
       "0        algorithm2                 0                  0                  0   \n",
       "1        algorithm4                 0                  0                  0   \n",
       "2        algorithm3                 0                  0                  0   \n",
       "3        algorithm1                 0                  0                  0   \n",
       "4        algorithm0                 0                  0                  0   \n",
       "5        algorithm5                 0                  0                  0   \n",
       "\n",
       "   case:rank:q80-q20  case:rank:q75-q25  case:rank:q70-q30  case:rank:q65-q35  \\\n",
       "0                  0                  0                  0                  0   \n",
       "1                  0                  0                  0                  0   \n",
       "2                  0                  0                  0                  0   \n",
       "3                  0                  0                  0                  0   \n",
       "4                  0                  0                  0                  0   \n",
       "5                  0                  0                  0                  0   \n",
       "\n",
       "   case:mean-rank.7  \n",
       "0               0.0  \n",
       "1               0.0  \n",
       "2               0.0  \n",
       "3               0.0  \n",
       "4               0.0  \n",
       "5               0.0  "
      ]
     },
     "execution_count": 135,
     "metadata": {},
     "output_type": "execute_result"
    }
   ],
   "source": [
    "print(\"Initial Sequence: \", alg_seq_h0)\n",
    "ranks.merge(mean_ranks.iloc[:,[0,-1]], on='case:concept:name')"
   ]
  },
  {
   "cell_type": "code",
   "execution_count": 136,
   "id": "116b4c77",
   "metadata": {},
   "outputs": [
    {
     "data": {
      "text/html": [
       "<div>\n",
       "<style scoped>\n",
       "    .dataframe tbody tr th:only-of-type {\n",
       "        vertical-align: middle;\n",
       "    }\n",
       "\n",
       "    .dataframe tbody tr th {\n",
       "        vertical-align: top;\n",
       "    }\n",
       "\n",
       "    .dataframe thead th {\n",
       "        text-align: right;\n",
       "    }\n",
       "</style>\n",
       "<table border=\"1\" class=\"dataframe\">\n",
       "  <thead>\n",
       "    <tr style=\"text-align: right;\">\n",
       "      <th></th>\n",
       "      <th>case:concept:name</th>\n",
       "      <th>case:timestamp:start</th>\n",
       "      <th>case:timestamp:end</th>\n",
       "      <th>case:duration</th>\n",
       "      <th>case:flops</th>\n",
       "      <th>case:num_kernels</th>\n",
       "      <th>case:rel-flops</th>\n",
       "      <th>case:rel-duration</th>\n",
       "    </tr>\n",
       "  </thead>\n",
       "  <tbody>\n",
       "    <tr>\n",
       "      <th>0</th>\n",
       "      <td>algorithm0</td>\n",
       "      <td>1.656953e+09</td>\n",
       "      <td>1.656953e+09</td>\n",
       "      <td>0.004374</td>\n",
       "      <td>443000000.0</td>\n",
       "      <td>3</td>\n",
       "      <td>0.000000</td>\n",
       "      <td>1.460239</td>\n",
       "    </tr>\n",
       "    <tr>\n",
       "      <th>1</th>\n",
       "      <td>algorithm2</td>\n",
       "      <td>1.656953e+09</td>\n",
       "      <td>1.656953e+09</td>\n",
       "      <td>0.003298</td>\n",
       "      <td>460000000.0</td>\n",
       "      <td>3</td>\n",
       "      <td>0.038375</td>\n",
       "      <td>0.855036</td>\n",
       "    </tr>\n",
       "    <tr>\n",
       "      <th>2</th>\n",
       "      <td>algorithm4</td>\n",
       "      <td>1.656953e+09</td>\n",
       "      <td>1.656953e+09</td>\n",
       "      <td>0.003303</td>\n",
       "      <td>564000000.0</td>\n",
       "      <td>3</td>\n",
       "      <td>0.273138</td>\n",
       "      <td>0.857852</td>\n",
       "    </tr>\n",
       "    <tr>\n",
       "      <th>3</th>\n",
       "      <td>algorithm1</td>\n",
       "      <td>1.656953e+09</td>\n",
       "      <td>1.656953e+09</td>\n",
       "      <td>0.003575</td>\n",
       "      <td>443000000.0</td>\n",
       "      <td>3</td>\n",
       "      <td>0.000000</td>\n",
       "      <td>1.010862</td>\n",
       "    </tr>\n",
       "    <tr>\n",
       "      <th>4</th>\n",
       "      <td>algorithm5</td>\n",
       "      <td>1.656953e+09</td>\n",
       "      <td>1.656953e+09</td>\n",
       "      <td>0.004098</td>\n",
       "      <td>586000000.0</td>\n",
       "      <td>3</td>\n",
       "      <td>0.322799</td>\n",
       "      <td>1.304948</td>\n",
       "    </tr>\n",
       "    <tr>\n",
       "      <th>5</th>\n",
       "      <td>algorithm3</td>\n",
       "      <td>1.656953e+09</td>\n",
       "      <td>1.656953e+09</td>\n",
       "      <td>0.001778</td>\n",
       "      <td>490000000.0</td>\n",
       "      <td>3</td>\n",
       "      <td>0.106095</td>\n",
       "      <td>0.000000</td>\n",
       "    </tr>\n",
       "  </tbody>\n",
       "</table>\n",
       "</div>"
      ],
      "text/plain": [
       "  case:concept:name  case:timestamp:start  case:timestamp:end  case:duration  \\\n",
       "0        algorithm0          1.656953e+09        1.656953e+09       0.004374   \n",
       "1        algorithm2          1.656953e+09        1.656953e+09       0.003298   \n",
       "2        algorithm4          1.656953e+09        1.656953e+09       0.003303   \n",
       "3        algorithm1          1.656953e+09        1.656953e+09       0.003575   \n",
       "4        algorithm5          1.656953e+09        1.656953e+09       0.004098   \n",
       "5        algorithm3          1.656953e+09        1.656953e+09       0.001778   \n",
       "\n",
       "    case:flops  case:num_kernels  case:rel-flops  case:rel-duration  \n",
       "0  443000000.0                 3        0.000000           1.460239  \n",
       "1  460000000.0                 3        0.038375           0.855036  \n",
       "2  564000000.0                 3        0.273138           0.857852  \n",
       "3  443000000.0                 3        0.000000           1.010862  \n",
       "4  586000000.0                 3        0.322799           1.304948  \n",
       "5  490000000.0                 3        0.106095           0.000000  "
      ]
     },
     "execution_count": 136,
     "metadata": {},
     "output_type": "execute_result"
    }
   ],
   "source": [
    "competing_cases"
   ]
  },
  {
   "cell_type": "code",
   "execution_count": null,
   "id": "0ff0ab4f",
   "metadata": {},
   "outputs": [],
   "source": []
  },
  {
   "cell_type": "code",
   "execution_count": null,
   "id": "fe4ac31c",
   "metadata": {},
   "outputs": [],
   "source": []
  }
 ],
 "metadata": {
  "kernelspec": {
   "display_name": "Python 3 (ipykernel)",
   "language": "python",
   "name": "python3"
  },
  "language_info": {
   "codemirror_mode": {
    "name": "ipython",
    "version": 3
   },
   "file_extension": ".py",
   "mimetype": "text/x-python",
   "name": "python",
   "nbconvert_exporter": "python",
   "pygments_lexer": "ipython3",
   "version": "3.9.7"
  }
 },
 "nbformat": 4,
 "nbformat_minor": 5
}
