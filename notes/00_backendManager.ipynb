{
 "cells": [
  {
   "cell_type": "code",
   "execution_count": 8,
   "id": "b728eee0",
   "metadata": {},
   "outputs": [],
   "source": [
    "from paramiko import SSHClient, AutoAddPolicy\n",
    "import os\n",
    "import subprocess"
   ]
  },
  {
   "cell_type": "code",
   "execution_count": 9,
   "id": "91d6392f",
   "metadata": {},
   "outputs": [],
   "source": [
    "class BackendManager:\n",
    "    def __init__(self, server, uname, app):\n",
    "        self.server = server\n",
    "        self.uname = uname\n",
    "        self.app = app\n",
    "        self.client = SSHClient()\n",
    "        self.client.set_missing_host_key_policy(AutoAddPolicy())\n",
    "        self.connected = False\n",
    "        \n",
    "        \n",
    "    def connect(self):\n",
    "        self.client.connect(self.server, username=self.uname)\n",
    "        self.connected = True\n",
    "        \n",
    "    def close(self):\n",
    "        self.client.close()\n",
    "        self.connected = False\n",
    "        \n",
    "    def generate_experiments(self, expression_dir, args):\n",
    "        if self.connected:\n",
    "            cmd = \"source ~/.analyzer; \"\n",
    "            cmd += \"cd {}; \".format(expression_dir)\n",
    "            cmd += \"python generate-variants-linnea.py {};\".format(\" \".join(args))\n",
    "            \n",
    "            _, stdout, _ = self.client.exec_command(cmd)\n",
    "            \n",
    "            ret = stdout.readlines()\n",
    "            if \"Generated Variants\" in ret[-1]:\n",
    "                return \"Generated Variants on Cluster.\"\n",
    "            else:\n",
    "                return \"Cound not generate variants.\"\n",
    "        else:\n",
    "            return -1\n",
    "        \n",
    "        \n",
    "    def check_if_file_exists(self, file_path):\n",
    "        if self.connected:\n",
    "            cmd = \"test -f {};\".format(file_path)\n",
    "            _, stdout, _ = self.client.exec_command(cmd)\n",
    "            ret = stdout.channel.recv_exit_status()\n",
    "            if stdout.channel.recv_exit_status() == 0:\n",
    "                return True\n",
    "            return False\n",
    "        return -1\n",
    "        \n",
    "    def run_experiments(self, runner_file):\n",
    "        if self.connected:\n",
    "            args_dir, script = os.path.split(runner_file)\n",
    "            \n",
    "            cmd = \"source ~/.analyzer; \"\n",
    "            cmd += \"cd {}; \".format(args_dir)\n",
    "            cmd += \"{} {};\".format(self.app, script)\n",
    "            \n",
    "            _, stdout, _ = self.client.exec_command(cmd)\n",
    "            #call =  'ssh -l as641651 login18-1.hpc.itc.rwth-aachen.de'.split()\n",
    "            #ret = subprocess.check_output(call + [cmd,])\n",
    "           # ret = stdout.readlines()\n",
    "           # print(ret)\n",
    "            if stdout.channel.recv_exit_status() == 0:\n",
    "                return True\n",
    "            print(stdout.channel.recv_exit_status())\n",
    "            return False\n",
    "        return -1\n",
    "    \n",
    "    def check_slrum_status(self):\n",
    "        if self.connected:\n",
    "            cmd = \"squeue -u {}\".format(self.uname)\n",
    "            _, stdout, _ = self.client.exec_command(cmd)\n",
    "            return stdout.readlines()\n",
    "        \n",
    "    def copy_file_from_backend(self,src_path, target_path):\n",
    "        pass\n",
    "            \n",
    "         "
   ]
  },
  {
   "cell_type": "code",
   "execution_count": 10,
   "id": "cf439dd0",
   "metadata": {},
   "outputs": [],
   "source": [
    "app = \"/home/as641651/Linnea/src/julia-e5-2650-intel19/julia\"\n",
    "bm = BackendManager(\"login18-1.hpc.itc.rwth-aachen.de\", \"as641651\", app)"
   ]
  },
  {
   "cell_type": "code",
   "execution_count": 11,
   "id": "ef045217",
   "metadata": {},
   "outputs": [],
   "source": [
    "bm.connect()"
   ]
  },
  {
   "cell_type": "code",
   "execution_count": 12,
   "id": "1ee44f26",
   "metadata": {},
   "outputs": [
    {
     "data": {
      "text/plain": [
       "['             JOBID PARTITION     NAME     USER ST       TIME  NODES NODELIST(REASON)\\n']"
      ]
     },
     "execution_count": 12,
     "metadata": {},
     "output_type": "execute_result"
    }
   ],
   "source": [
    "bm.check_slrum_status()"
   ]
  },
  {
   "cell_type": "code",
   "execution_count": 13,
   "id": "681ccc0a",
   "metadata": {},
   "outputs": [],
   "source": [
    "expression_dir = \"~/PhD/performance-analyazer/Experiment2/Random1/variants-linnea/\""
   ]
  },
  {
   "cell_type": "code",
   "execution_count": 176,
   "id": "ce143670",
   "metadata": {},
   "outputs": [
    {
     "data": {
      "text/plain": [
       "'Generated Variants on Cluster.'"
      ]
     },
     "execution_count": 176,
     "metadata": {},
     "output_type": "execute_result"
    }
   ],
   "source": [
    "bm.generate_experiments(expression_dir, ['100', '100', '112'])"
   ]
  },
  {
   "cell_type": "code",
   "execution_count": 7,
   "id": "b57ca23f",
   "metadata": {},
   "outputs": [
    {
     "data": {
      "text/plain": [
       "True"
      ]
     },
     "execution_count": 7,
     "metadata": {},
     "output_type": "execute_result"
    }
   ],
   "source": [
    "file_path = os.path.join(expression_dir,\n",
    "                        \"experiments\",\n",
    "                        \"100_100_112\",\n",
    "                        \"runner.jl\")\n",
    "\n",
    "bm.check_if_file_exists(file_path)"
   ]
  },
  {
   "cell_type": "code",
   "execution_count": 211,
   "id": "f40279bc",
   "metadata": {},
   "outputs": [
    {
     "data": {
      "text/plain": [
       "True"
      ]
     },
     "execution_count": 211,
     "metadata": {},
     "output_type": "execute_result"
    }
   ],
   "source": [
    "bm.run_experiments(file_path)"
   ]
  },
  {
   "cell_type": "code",
   "execution_count": 212,
   "id": "cbf20232",
   "metadata": {},
   "outputs": [
    {
     "data": {
      "text/plain": [
       "True"
      ]
     },
     "execution_count": 212,
     "metadata": {},
     "output_type": "execute_result"
    }
   ],
   "source": [
    "run_times_path = os.path.join(expression_dir,\n",
    "                        \"experiments\",\n",
    "                        \"100_100_112\",\n",
    "                        \"run_times.txt\")\n",
    "\n",
    "bm.check_if_file_exists(run_times_path)"
   ]
  },
  {
   "cell_type": "code",
   "execution_count": 213,
   "id": "73c276b6",
   "metadata": {},
   "outputs": [],
   "source": [
    "bm.close()"
   ]
  },
  {
   "cell_type": "code",
   "execution_count": null,
   "id": "e4755e40",
   "metadata": {},
   "outputs": [],
   "source": []
  }
 ],
 "metadata": {
  "kernelspec": {
   "display_name": "Python 3 (ipykernel)",
   "language": "python",
   "name": "python3"
  },
  "language_info": {
   "codemirror_mode": {
    "name": "ipython",
    "version": 3
   },
   "file_extension": ".py",
   "mimetype": "text/x-python",
   "name": "python",
   "nbconvert_exporter": "python",
   "pygments_lexer": "ipython3",
   "version": "3.9.7"
  }
 },
 "nbformat": 4,
 "nbformat_minor": 5
}
