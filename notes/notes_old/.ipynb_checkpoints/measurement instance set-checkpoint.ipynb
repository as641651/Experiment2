{
 "cells": [
  {
   "cell_type": "code",
   "execution_count": 10,
   "id": "dda06301",
   "metadata": {},
   "outputs": [],
   "source": [
    "def variant1():\n",
    "    return 1\n",
    "\n",
    "def variant2():\n",
    "    return 2\n",
    "\n",
    "def variant3():\n",
    "    return 3\n",
    "\n",
    "def variant4():\n",
    "    return 4\n",
    "\n",
    "def variant5():\n",
    "    return 5"
   ]
  },
  {
   "cell_type": "code",
   "execution_count": 5,
   "id": "7eabd84f",
   "metadata": {},
   "outputs": [],
   "source": [
    "R = 10"
   ]
  },
  {
   "cell_type": "code",
   "execution_count": 13,
   "id": "d2195117",
   "metadata": {},
   "outputs": [],
   "source": [
    "v1_instance_set = [variant1]*R"
   ]
  },
  {
   "cell_type": "code",
   "execution_count": 14,
   "id": "2cd73440",
   "metadata": {},
   "outputs": [
    {
     "data": {
      "text/plain": [
       "[<function __main__.variant1()>,\n",
       " <function __main__.variant1()>,\n",
       " <function __main__.variant1()>,\n",
       " <function __main__.variant1()>,\n",
       " <function __main__.variant1()>,\n",
       " <function __main__.variant1()>,\n",
       " <function __main__.variant1()>,\n",
       " <function __main__.variant1()>,\n",
       " <function __main__.variant1()>,\n",
       " <function __main__.variant1()>]"
      ]
     },
     "execution_count": 14,
     "metadata": {},
     "output_type": "execute_result"
    }
   ],
   "source": [
    "v1_instance_set"
   ]
  },
  {
   "cell_type": "code",
   "execution_count": 15,
   "id": "6cbc9476",
   "metadata": {},
   "outputs": [
    {
     "data": {
      "text/plain": [
       "1"
      ]
     },
     "execution_count": 15,
     "metadata": {},
     "output_type": "execute_result"
    }
   ],
   "source": [
    "v1_instance_set[0]()"
   ]
  },
  {
   "cell_type": "code",
   "execution_count": null,
   "id": "f6b1d1a7",
   "metadata": {},
   "outputs": [],
   "source": []
  }
 ],
 "metadata": {
  "kernelspec": {
   "display_name": "Python 3 (ipykernel)",
   "language": "python",
   "name": "python3"
  },
  "language_info": {
   "codemirror_mode": {
    "name": "ipython",
    "version": 3
   },
   "file_extension": ".py",
   "mimetype": "text/x-python",
   "name": "python",
   "nbconvert_exporter": "python",
   "pygments_lexer": "ipython3",
   "version": "3.9.7"
  }
 },
 "nbformat": 4,
 "nbformat_minor": 5
}
