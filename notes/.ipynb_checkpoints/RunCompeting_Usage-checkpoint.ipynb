{
 "cells": [
  {
   "cell_type": "code",
   "execution_count": 1,
   "id": "e3da385d",
   "metadata": {},
   "outputs": [],
   "source": [
    "import sys\n",
    "sys.path.append(\"../utils/\")"
   ]
  },
  {
   "cell_type": "code",
   "execution_count": 2,
   "id": "78dd8ef6",
   "metadata": {},
   "outputs": [],
   "source": [
    "from runner import Runner\n",
    "from run_competing import RunCompeting"
   ]
  },
  {
   "cell_type": "code",
   "execution_count": 3,
   "id": "b8df0afe",
   "metadata": {},
   "outputs": [],
   "source": [
    "exp_name = \"Matrix-Chain\"\n",
    "script_path = \"../Matrix-Chain-4/variants-linnea/generate-variants-linnea.py\"\n",
    "args = [\"200\",\"200\",\"10\",\"200\",\"200\"]\n",
    "runner = Runner(\"Matrix-Chain\", script_path , args)"
   ]
  },
  {
   "cell_type": "code",
   "execution_count": 4,
   "id": "7ad88735",
   "metadata": {},
   "outputs": [],
   "source": [
    "run_competing = RunCompeting(runner)"
   ]
  },
  {
   "cell_type": "code",
   "execution_count": 5,
   "id": "680e95ed",
   "metadata": {},
   "outputs": [
    {
     "name": "stdout",
     "output_type": "stream",
     "text": [
      "New solution:..............2.4e+06\n",
      "No further generation steps possible.\n",
      "----------------------------------\n",
      "Number of nodes:                 8\n",
      "Solution nodes:                  1\n",
      "Data:                     1.24e+05\n",
      "Best solution:             2.4e+06\n",
      "Intensity:                    19.4\n",
      "Number of algorithms:            6\n",
      "Generated Variants.\n",
      "Running Experiments\n",
      "Experiments completed\n"
     ]
    },
    {
     "data": {
      "text/plain": [
       "1"
      ]
     },
     "execution_count": 5,
     "metadata": {},
     "output_type": "execute_result"
    }
   ],
   "source": [
    "run_competing.generate_run()"
   ]
  },
  {
   "cell_type": "code",
   "execution_count": 6,
   "id": "25cb6b96",
   "metadata": {},
   "outputs": [
    {
     "name": "stdout",
     "output_type": "stream",
     "text": [
      "Running Experiments\n",
      "Experiments completed\n"
     ]
    },
    {
     "data": {
      "text/plain": [
       "1"
      ]
     },
     "execution_count": 6,
     "metadata": {},
     "output_type": "execute_result"
    }
   ],
   "source": [
    "ct = run_competing.set_best_flop_duration_as_competing()\n",
    "run_competing.measure_competing_variants(reps=5)"
   ]
  },
  {
   "cell_type": "code",
   "execution_count": 7,
   "id": "20a8f35f",
   "metadata": {},
   "outputs": [
    {
     "data": {
      "text/plain": [
       "1"
      ]
     },
     "execution_count": 7,
     "metadata": {},
     "output_type": "execute_result"
    }
   ],
   "source": [
    "run_competing.prepare_event_data()"
   ]
  },
  {
   "cell_type": "code",
   "execution_count": 8,
   "id": "81c44640",
   "metadata": {},
   "outputs": [
    {
     "data": {
      "text/html": [
       "<div>\n",
       "<style scoped>\n",
       "    .dataframe tbody tr th:only-of-type {\n",
       "        vertical-align: middle;\n",
       "    }\n",
       "\n",
       "    .dataframe tbody tr th {\n",
       "        vertical-align: top;\n",
       "    }\n",
       "\n",
       "    .dataframe thead th {\n",
       "        text-align: right;\n",
       "    }\n",
       "</style>\n",
       "<table border=\"1\" class=\"dataframe\">\n",
       "  <thead>\n",
       "    <tr style=\"text-align: right;\">\n",
       "      <th></th>\n",
       "      <th>case:concept:name</th>\n",
       "      <th>case:timestamp:start</th>\n",
       "      <th>case:timestamp:end</th>\n",
       "      <th>case:duration</th>\n",
       "    </tr>\n",
       "  </thead>\n",
       "  <tbody>\n",
       "    <tr>\n",
       "      <th>0</th>\n",
       "      <td>algorithm1_2</td>\n",
       "      <td>1.655217e+09</td>\n",
       "      <td>1.655217e+09</td>\n",
       "      <td>0.000519</td>\n",
       "    </tr>\n",
       "    <tr>\n",
       "      <th>1</th>\n",
       "      <td>algorithm1_0</td>\n",
       "      <td>1.655217e+09</td>\n",
       "      <td>1.655217e+09</td>\n",
       "      <td>0.000334</td>\n",
       "    </tr>\n",
       "    <tr>\n",
       "      <th>2</th>\n",
       "      <td>algorithm0_2</td>\n",
       "      <td>1.655217e+09</td>\n",
       "      <td>1.655217e+09</td>\n",
       "      <td>0.000324</td>\n",
       "    </tr>\n",
       "    <tr>\n",
       "      <th>3</th>\n",
       "      <td>algorithm0_0</td>\n",
       "      <td>1.655217e+09</td>\n",
       "      <td>1.655217e+09</td>\n",
       "      <td>0.000418</td>\n",
       "    </tr>\n",
       "    <tr>\n",
       "      <th>4</th>\n",
       "      <td>algorithm1_4</td>\n",
       "      <td>1.655217e+09</td>\n",
       "      <td>1.655217e+09</td>\n",
       "      <td>0.000329</td>\n",
       "    </tr>\n",
       "    <tr>\n",
       "      <th>5</th>\n",
       "      <td>algorithm0_4</td>\n",
       "      <td>1.655217e+09</td>\n",
       "      <td>1.655217e+09</td>\n",
       "      <td>0.000108</td>\n",
       "    </tr>\n",
       "    <tr>\n",
       "      <th>6</th>\n",
       "      <td>algorithm1_3</td>\n",
       "      <td>1.655217e+09</td>\n",
       "      <td>1.655217e+09</td>\n",
       "      <td>0.000114</td>\n",
       "    </tr>\n",
       "    <tr>\n",
       "      <th>7</th>\n",
       "      <td>algorithm0_3</td>\n",
       "      <td>1.655217e+09</td>\n",
       "      <td>1.655217e+09</td>\n",
       "      <td>0.000136</td>\n",
       "    </tr>\n",
       "    <tr>\n",
       "      <th>8</th>\n",
       "      <td>algorithm1_1</td>\n",
       "      <td>1.655217e+09</td>\n",
       "      <td>1.655217e+09</td>\n",
       "      <td>0.000152</td>\n",
       "    </tr>\n",
       "    <tr>\n",
       "      <th>9</th>\n",
       "      <td>algorithm0_1</td>\n",
       "      <td>1.655217e+09</td>\n",
       "      <td>1.655217e+09</td>\n",
       "      <td>0.000385</td>\n",
       "    </tr>\n",
       "  </tbody>\n",
       "</table>\n",
       "</div>"
      ],
      "text/plain": [
       "  case:concept:name  case:timestamp:start  case:timestamp:end  case:duration\n",
       "0      algorithm1_2          1.655217e+09        1.655217e+09       0.000519\n",
       "1      algorithm1_0          1.655217e+09        1.655217e+09       0.000334\n",
       "2      algorithm0_2          1.655217e+09        1.655217e+09       0.000324\n",
       "3      algorithm0_0          1.655217e+09        1.655217e+09       0.000418\n",
       "4      algorithm1_4          1.655217e+09        1.655217e+09       0.000329\n",
       "5      algorithm0_4          1.655217e+09        1.655217e+09       0.000108\n",
       "6      algorithm1_3          1.655217e+09        1.655217e+09       0.000114\n",
       "7      algorithm0_3          1.655217e+09        1.655217e+09       0.000136\n",
       "8      algorithm1_1          1.655217e+09        1.655217e+09       0.000152\n",
       "9      algorithm0_1          1.655217e+09        1.655217e+09       0.000385"
      ]
     },
     "execution_count": 8,
     "metadata": {},
     "output_type": "execute_result"
    }
   ],
   "source": [
    "run_competing.duration_competing"
   ]
  },
  {
   "cell_type": "code",
   "execution_count": 9,
   "id": "ffe8a8a1",
   "metadata": {},
   "outputs": [
    {
     "data": {
      "text/html": [
       "<div>\n",
       "<style scoped>\n",
       "    .dataframe tbody tr th:only-of-type {\n",
       "        vertical-align: middle;\n",
       "    }\n",
       "\n",
       "    .dataframe tbody tr th {\n",
       "        vertical-align: top;\n",
       "    }\n",
       "\n",
       "    .dataframe thead th {\n",
       "        text-align: right;\n",
       "    }\n",
       "</style>\n",
       "<table border=\"1\" class=\"dataframe\">\n",
       "  <thead>\n",
       "    <tr style=\"text-align: right;\">\n",
       "      <th></th>\n",
       "      <th>case:concept:name</th>\n",
       "      <th>case:timestamp:start</th>\n",
       "      <th>case:timestamp:end</th>\n",
       "      <th>case:duration</th>\n",
       "    </tr>\n",
       "  </thead>\n",
       "  <tbody>\n",
       "    <tr>\n",
       "      <th>0</th>\n",
       "      <td>algorithm1_2</td>\n",
       "      <td>1.655217e+09</td>\n",
       "      <td>1.655217e+09</td>\n",
       "      <td>0.000519</td>\n",
       "    </tr>\n",
       "    <tr>\n",
       "      <th>1</th>\n",
       "      <td>algorithm1_0</td>\n",
       "      <td>1.655217e+09</td>\n",
       "      <td>1.655217e+09</td>\n",
       "      <td>0.000334</td>\n",
       "    </tr>\n",
       "    <tr>\n",
       "      <th>4</th>\n",
       "      <td>algorithm1_4</td>\n",
       "      <td>1.655217e+09</td>\n",
       "      <td>1.655217e+09</td>\n",
       "      <td>0.000329</td>\n",
       "    </tr>\n",
       "    <tr>\n",
       "      <th>6</th>\n",
       "      <td>algorithm1_3</td>\n",
       "      <td>1.655217e+09</td>\n",
       "      <td>1.655217e+09</td>\n",
       "      <td>0.000114</td>\n",
       "    </tr>\n",
       "    <tr>\n",
       "      <th>8</th>\n",
       "      <td>algorithm1_1</td>\n",
       "      <td>1.655217e+09</td>\n",
       "      <td>1.655217e+09</td>\n",
       "      <td>0.000152</td>\n",
       "    </tr>\n",
       "  </tbody>\n",
       "</table>\n",
       "</div>"
      ],
      "text/plain": [
       "  case:concept:name  case:timestamp:start  case:timestamp:end  case:duration\n",
       "0      algorithm1_2          1.655217e+09        1.655217e+09       0.000519\n",
       "1      algorithm1_0          1.655217e+09        1.655217e+09       0.000334\n",
       "4      algorithm1_4          1.655217e+09        1.655217e+09       0.000329\n",
       "6      algorithm1_3          1.655217e+09        1.655217e+09       0.000114\n",
       "8      algorithm1_1          1.655217e+09        1.655217e+09       0.000152"
      ]
     },
     "execution_count": 9,
     "metadata": {},
     "output_type": "execute_result"
    }
   ],
   "source": [
    "run_competing.get_variant_duration(run_competing.competing_variants[0])"
   ]
  },
  {
   "cell_type": "code",
   "execution_count": null,
   "id": "15c26edc",
   "metadata": {},
   "outputs": [],
   "source": []
  }
 ],
 "metadata": {
  "kernelspec": {
   "display_name": "Python 3 (ipykernel)",
   "language": "python",
   "name": "python3"
  },
  "language_info": {
   "codemirror_mode": {
    "name": "ipython",
    "version": 3
   },
   "file_extension": ".py",
   "mimetype": "text/x-python",
   "name": "python",
   "nbconvert_exporter": "python",
   "pygments_lexer": "ipython3",
   "version": "3.9.7"
  }
 },
 "nbformat": 4,
 "nbformat_minor": 5
}
