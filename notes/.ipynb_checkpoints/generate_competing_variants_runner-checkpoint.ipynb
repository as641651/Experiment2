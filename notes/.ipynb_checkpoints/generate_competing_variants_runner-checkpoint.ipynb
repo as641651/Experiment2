{
 "cells": [
  {
   "cell_type": "code",
   "execution_count": 23,
   "id": "aa4369a1",
   "metadata": {},
   "outputs": [],
   "source": [
    "import os\n",
    "import random\n",
    "import pkg_resources"
   ]
  },
  {
   "cell_type": "code",
   "execution_count": 2,
   "id": "65ba5c39",
   "metadata": {},
   "outputs": [],
   "source": [
    "expression_dir = \"../Matrix-Chain-4/variants-linnea/experiments/100_100_10_100_100/\""
   ]
  },
  {
   "cell_type": "code",
   "execution_count": 4,
   "id": "f04997a7",
   "metadata": {},
   "outputs": [],
   "source": [
    "runner_file = os.path.join(expression_dir,\"runner.jl\")"
   ]
  },
  {
   "cell_type": "code",
   "execution_count": 6,
   "id": "69d21b77",
   "metadata": {},
   "outputs": [],
   "source": [
    "competing_algs = ['algorithm1', 'algorithm0']"
   ]
  },
  {
   "cell_type": "code",
   "execution_count": 7,
   "id": "78fa70fc",
   "metadata": {},
   "outputs": [],
   "source": [
    "variants_path = [os.path.join(expression_dir, \"experiments\", \"{}.jl\".format(alg)) for alg in competing_algs]"
   ]
  },
  {
   "cell_type": "code",
   "execution_count": 8,
   "id": "5c4ab4b9",
   "metadata": {},
   "outputs": [
    {
     "data": {
      "text/plain": [
       "['../Matrix-Chain-4/variants-linnea/experiments/100_100_10_100_100/experiments/algorithm1.jl',\n",
       " '../Matrix-Chain-4/variants-linnea/experiments/100_100_10_100_100/experiments/algorithm0.jl']"
      ]
     },
     "execution_count": 8,
     "metadata": {},
     "output_type": "execute_result"
    }
   ],
   "source": [
    "variants_path"
   ]
  },
  {
   "cell_type": "code",
   "execution_count": 9,
   "id": "e630bb86",
   "metadata": {},
   "outputs": [
    {
     "name": "stdout",
     "output_type": "stream",
     "text": [
      "True\n",
      "True\n"
     ]
    }
   ],
   "source": [
    "for var in variants_path:\n",
    "    print(os.path.exists(var))"
   ]
  },
  {
   "cell_type": "code",
   "execution_count": 10,
   "id": "415445b7",
   "metadata": {},
   "outputs": [],
   "source": [
    "offset = '   '"
   ]
  },
  {
   "cell_type": "code",
   "execution_count": 17,
   "id": "e2be16a6",
   "metadata": {},
   "outputs": [],
   "source": [
    "runner_template = offset+'ret,times = {alg}(map(MatrixGenerator.unwrap, map(copy, matrices))...)\\n'\n",
    "runner_template += offset+'write_{alg}_to_eventlog(io, \"{alg}_{rep}\", times)\\n\\n'"
   ]
  },
  {
   "cell_type": "code",
   "execution_count": 12,
   "id": "71846cf8",
   "metadata": {},
   "outputs": [],
   "source": [
    "R = 3\n",
    "measurements_instance_set = []\n",
    "for variant in competing_algs:\n",
    "    measurements_instance_set = measurements_instance_set + [(i,variant) for i in range(R)]"
   ]
  },
  {
   "cell_type": "code",
   "execution_count": 13,
   "id": "0365bb0c",
   "metadata": {},
   "outputs": [
    {
     "data": {
      "text/plain": [
       "[(0, 'algorithm1'),\n",
       " (1, 'algorithm1'),\n",
       " (2, 'algorithm1'),\n",
       " (0, 'algorithm0'),\n",
       " (1, 'algorithm0'),\n",
       " (2, 'algorithm0')]"
      ]
     },
     "execution_count": 13,
     "metadata": {},
     "output_type": "execute_result"
    }
   ],
   "source": [
    "measurements_instance_set"
   ]
  },
  {
   "cell_type": "code",
   "execution_count": 15,
   "id": "457c5d30",
   "metadata": {},
   "outputs": [],
   "source": [
    "random.shuffle(measurements_instance_set)"
   ]
  },
  {
   "cell_type": "code",
   "execution_count": 16,
   "id": "5bcb81eb",
   "metadata": {},
   "outputs": [
    {
     "data": {
      "text/plain": [
       "[(0, 'algorithm0'),\n",
       " (0, 'algorithm1'),\n",
       " (2, 'algorithm0'),\n",
       " (2, 'algorithm1'),\n",
       " (1, 'algorithm0'),\n",
       " (1, 'algorithm1')]"
      ]
     },
     "execution_count": 16,
     "metadata": {},
     "output_type": "execute_result"
    }
   ],
   "source": [
    "measurements_instance_set"
   ]
  },
  {
   "cell_type": "code",
   "execution_count": 18,
   "id": "d000ae0c",
   "metadata": {},
   "outputs": [],
   "source": [
    "runner_code = \"\"\n",
    "for measurement in measurements_instance_set:\n",
    "    runner_code += runner_template.format(alg=measurement[1], rep=measurement[0])\n",
    "    "
   ]
  },
  {
   "cell_type": "code",
   "execution_count": 20,
   "id": "d10c91e3",
   "metadata": {},
   "outputs": [
    {
     "name": "stdout",
     "output_type": "stream",
     "text": [
      "   ret,times = algorithm0(map(MatrixGenerator.unwrap, map(copy, matrices))...)\n",
      "   write_algorithm0_to_eventlog(io, \"algorithm0_0\", times)\n",
      "\n",
      "   ret,times = algorithm1(map(MatrixGenerator.unwrap, map(copy, matrices))...)\n",
      "   write_algorithm1_to_eventlog(io, \"algorithm1_0\", times)\n",
      "\n",
      "   ret,times = algorithm0(map(MatrixGenerator.unwrap, map(copy, matrices))...)\n",
      "   write_algorithm0_to_eventlog(io, \"algorithm0_2\", times)\n",
      "\n",
      "   ret,times = algorithm1(map(MatrixGenerator.unwrap, map(copy, matrices))...)\n",
      "   write_algorithm1_to_eventlog(io, \"algorithm1_2\", times)\n",
      "\n",
      "   ret,times = algorithm0(map(MatrixGenerator.unwrap, map(copy, matrices))...)\n",
      "   write_algorithm0_to_eventlog(io, \"algorithm0_1\", times)\n",
      "\n",
      "   ret,times = algorithm1(map(MatrixGenerator.unwrap, map(copy, matrices))...)\n",
      "   write_algorithm1_to_eventlog(io, \"algorithm1_1\", times)\n",
      "\n",
      "\n"
     ]
    }
   ],
   "source": [
    "print(runner_code)"
   ]
  },
  {
   "cell_type": "code",
   "execution_count": 39,
   "id": "cac28204",
   "metadata": {},
   "outputs": [],
   "source": [
    "def generate_runner_competing_code(competing_vars, reps, expression_dir=\"\"):\n",
    "    \n",
    "    variants_path = [os.path.join(expression_dir, \n",
    "                                  \"experiments\", \"{}.jl\".format(alg)) for alg in competing_vars]\n",
    "    for var_path in variants_path:\n",
    "        if not os.path.exists(var_path):\n",
    "            return -1\n",
    "    \n",
    "    variants_includes = \"\"\n",
    "    measurements_instance_set = []\n",
    "    for var in competing_vars:\n",
    "        variants_includes += 'include(\"experiments/{}.jl\")\\n'.format(var)\n",
    "        measurements_instance_set = measurements_instance_set + [(i,var) for i in range(reps)]\n",
    "    random.shuffle(measurements_instance_set)\n",
    "    \n",
    "    \n",
    "    runner_template = offset+'ret,times = {alg}(map(MatrixGenerator.unwrap, map(copy, matrices))...)\\n'\n",
    "    runner_template += offset+'write_{alg}_to_eventlog(io, \"{alg}_{rep}\", times)\\n\\n'\n",
    "    runner_code = \"\"\n",
    "    for measurement in measurements_instance_set:\n",
    "        runner_code += runner_template.format(alg=measurement[1], rep=measurement[0])\n",
    "        \n",
    "    runner_path = os.path.join(expression_dir,\"run_times_competing.txt\")\n",
    "    inject = {\n",
    "        'variants_includes': variants_includes,\n",
    "        'runner_code': runner_code,\n",
    "        'runner_path':runner_path\n",
    "    }\n",
    "    \n",
    "    \n",
    "    #template_str = pkg_resources.resource_string(__name__, \"templates/runner.jl\").decode(\"UTF-8\")\n",
    "    template_str = open(\"../utils/templates/runner.jl\", \"r\").read()\n",
    "    print(template_str.format(**inject))\n",
    "    \n",
    "#     runner_file = os.path.join(expression_dir,\"runner_competing.jl\")\n",
    "#     with open(runner_file, \"wt\", encoding='utf-8') as output_file:\n",
    "#         output_file.write(template_str.format(**inject))\n",
    "    \n",
    "\n",
    "    "
   ]
  },
  {
   "cell_type": "code",
   "execution_count": 40,
   "id": "b25b9ac3",
   "metadata": {},
   "outputs": [
    {
     "name": "stdout",
     "output_type": "stream",
     "text": [
      "using MatrixGenerator\n",
      "\n",
      "include(\"experiments/algorithm1.jl\")\n",
      "include(\"experiments/algorithm0.jl\")\n",
      "\n",
      "include(\"operand_generator.jl\")\n",
      "\n",
      "function main()\n",
      "\n",
      "    matrices = operand_generator()\n",
      "\n",
      "    io = open(\"../Matrix-Chain-4/variants-linnea/experiments/100_100_10_100_100/run_times_competing.txt\",\"w\")\n",
      "    write(io, \"case:concept:name;concept:name;concept:flops;concept:operation;concept:kernel;timestamp:start;timestamp:end\\n\")\n",
      "\n",
      "   ret,times = algorithm0(map(MatrixGenerator.unwrap, map(copy, matrices))...)\n",
      "   write_algorithm0_to_eventlog(io, \"algorithm0_0\", times)\n",
      "\n",
      "   ret,times = algorithm1(map(MatrixGenerator.unwrap, map(copy, matrices))...)\n",
      "   write_algorithm1_to_eventlog(io, \"algorithm1_1\", times)\n",
      "\n",
      "   ret,times = algorithm0(map(MatrixGenerator.unwrap, map(copy, matrices))...)\n",
      "   write_algorithm0_to_eventlog(io, \"algorithm0_1\", times)\n",
      "\n",
      "   ret,times = algorithm1(map(MatrixGenerator.unwrap, map(copy, matrices))...)\n",
      "   write_algorithm1_to_eventlog(io, \"algorithm1_0\", times)\n",
      "\n",
      "   ret,times = algorithm0(map(MatrixGenerator.unwrap, map(copy, matrices))...)\n",
      "   write_algorithm0_to_eventlog(io, \"algorithm0_2\", times)\n",
      "\n",
      "   ret,times = algorithm1(map(MatrixGenerator.unwrap, map(copy, matrices))...)\n",
      "   write_algorithm1_to_eventlog(io, \"algorithm1_2\", times)\n",
      "\n",
      "\n",
      "\n",
      "\n",
      "end\n",
      "\n",
      "main()\n"
     ]
    }
   ],
   "source": [
    "generate_runner_competing_code(competing_algs,3,expression_dir)"
   ]
  },
  {
   "cell_type": "code",
   "execution_count": 41,
   "id": "f5e59703",
   "metadata": {},
   "outputs": [],
   "source": [
    "data = open(\"../utils/templates/runner.jl\", \"r\").read()"
   ]
  },
  {
   "cell_type": "code",
   "execution_count": 32,
   "id": "1091a03e",
   "metadata": {},
   "outputs": [
    {
     "name": "stdout",
     "output_type": "stream",
     "text": [
      "using MatrixGenerator\n",
      "\n",
      "{variants_includes}\n",
      "include(\"operand_generator.jl\")\n",
      "\n",
      "function main()\n",
      "\n",
      "    matrices = operand_generator()\n",
      "\n",
      "    io = open(\"{runner_path}\",\"w\")\n",
      "    write(io, \"case:concept:name;concept:name;concept:flops;concept:operation;concept:kernel;timestamp:start;timestamp:end\\n\")\n",
      "\n",
      "{runner_code}\n",
      "\n",
      "\n",
      "end\n",
      "\n",
      "main()\n"
     ]
    }
   ],
   "source": [
    "print(data)"
   ]
  },
  {
   "cell_type": "code",
   "execution_count": null,
   "id": "d23a0dac",
   "metadata": {},
   "outputs": [],
   "source": [
    "\n"
   ]
  }
 ],
 "metadata": {
  "kernelspec": {
   "display_name": "Python 3 (ipykernel)",
   "language": "python",
   "name": "python3"
  },
  "language_info": {
   "codemirror_mode": {
    "name": "ipython",
    "version": 3
   },
   "file_extension": ".py",
   "mimetype": "text/x-python",
   "name": "python",
   "nbconvert_exporter": "python",
   "pygments_lexer": "ipython3",
   "version": "3.9.7"
  }
 },
 "nbformat": 4,
 "nbformat_minor": 5
}
