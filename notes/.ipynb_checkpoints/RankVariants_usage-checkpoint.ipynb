{
 "cells": [
  {
   "cell_type": "code",
   "execution_count": 1,
   "id": "d3494290",
   "metadata": {},
   "outputs": [],
   "source": [
    "import sys\n",
    "sys.path.append(\"../utils/\")"
   ]
  },
  {
   "cell_type": "code",
   "execution_count": 2,
   "id": "465bff43",
   "metadata": {},
   "outputs": [],
   "source": [
    "from runner import Runner\n",
    "from run_competing import RunCompeting\n",
    "from rank_variants import RankVariants\n",
    "from discover_pn import DiscoverPN\n",
    "import pm4py"
   ]
  },
  {
   "cell_type": "code",
   "execution_count": 3,
   "id": "e505dd6c",
   "metadata": {},
   "outputs": [],
   "source": [
    "exp_name = \"Matrix-Chain\"\n",
    "script_path = \"../Matrix-Chain-4/variants-linnea/generate-variants-linnea.py\"\n",
    "args = [\"1000\",\"1000\",\"20\",\"1000\",\"1000\"]\n",
    "runner = Runner(\"Matrix-Chain\", script_path , args)"
   ]
  },
  {
   "cell_type": "code",
   "execution_count": 4,
   "id": "aa6a291d",
   "metadata": {},
   "outputs": [
    {
     "name": "stdout",
     "output_type": "stream",
     "text": [
      "New solution:..............1.2e+08\n",
      "No further generation steps possible.\n",
      "----------------------------------\n",
      "Number of nodes:                 8\n",
      "Solution nodes:                  1\n",
      "Data:                     3.04e+06\n",
      "Best solution:             1.2e+08\n",
      "Intensity:                    39.5\n",
      "Number of algorithms:            6\n",
      "Generated Variants.\n",
      "Running Experiments\n",
      "Experiments completed\n"
     ]
    }
   ],
   "source": [
    "run_competing = RunCompeting(runner)\n",
    "run_competing.generate_run(bRun=True,bGenerate=True)\n",
    "ct = run_competing.set_best_flop_duration_as_competing()"
   ]
  },
  {
   "cell_type": "code",
   "execution_count": 5,
   "id": "2917945c",
   "metadata": {},
   "outputs": [
    {
     "name": "stdout",
     "output_type": "stream",
     "text": [
      "Running Experiments\n",
      "Experiments completed\n"
     ]
    },
    {
     "data": {
      "text/html": [
       "<div>\n",
       "<style scoped>\n",
       "    .dataframe tbody tr th:only-of-type {\n",
       "        vertical-align: middle;\n",
       "    }\n",
       "\n",
       "    .dataframe tbody tr th {\n",
       "        vertical-align: top;\n",
       "    }\n",
       "\n",
       "    .dataframe thead th {\n",
       "        text-align: right;\n",
       "    }\n",
       "</style>\n",
       "<table border=\"1\" class=\"dataframe\">\n",
       "  <thead>\n",
       "    <tr style=\"text-align: right;\">\n",
       "      <th></th>\n",
       "      <th>case:concept:name</th>\n",
       "      <th>case:timestamp:start</th>\n",
       "      <th>case:timestamp:end</th>\n",
       "      <th>case:duration</th>\n",
       "    </tr>\n",
       "  </thead>\n",
       "  <tbody>\n",
       "    <tr>\n",
       "      <th>0</th>\n",
       "      <td>algorithm1_9</td>\n",
       "      <td>1.655395e+09</td>\n",
       "      <td>1.655395e+09</td>\n",
       "      <td>0.004202</td>\n",
       "    </tr>\n",
       "    <tr>\n",
       "      <th>1</th>\n",
       "      <td>algorithm0_2</td>\n",
       "      <td>1.655395e+09</td>\n",
       "      <td>1.655395e+09</td>\n",
       "      <td>0.007126</td>\n",
       "    </tr>\n",
       "    <tr>\n",
       "      <th>2</th>\n",
       "      <td>algorithm1_1</td>\n",
       "      <td>1.655395e+09</td>\n",
       "      <td>1.655395e+09</td>\n",
       "      <td>0.003926</td>\n",
       "    </tr>\n",
       "    <tr>\n",
       "      <th>3</th>\n",
       "      <td>algorithm0_7</td>\n",
       "      <td>1.655395e+09</td>\n",
       "      <td>1.655395e+09</td>\n",
       "      <td>0.007137</td>\n",
       "    </tr>\n",
       "    <tr>\n",
       "      <th>4</th>\n",
       "      <td>algorithm0_5</td>\n",
       "      <td>1.655395e+09</td>\n",
       "      <td>1.655395e+09</td>\n",
       "      <td>0.006995</td>\n",
       "    </tr>\n",
       "  </tbody>\n",
       "</table>\n",
       "</div>"
      ],
      "text/plain": [
       "  case:concept:name  case:timestamp:start  case:timestamp:end  case:duration\n",
       "0      algorithm1_9          1.655395e+09        1.655395e+09       0.004202\n",
       "1      algorithm0_2          1.655395e+09        1.655395e+09       0.007126\n",
       "2      algorithm1_1          1.655395e+09        1.655395e+09       0.003926\n",
       "3      algorithm0_7          1.655395e+09        1.655395e+09       0.007137\n",
       "4      algorithm0_5          1.655395e+09        1.655395e+09       0.006995"
      ]
     },
     "execution_count": 5,
     "metadata": {},
     "output_type": "execute_result"
    }
   ],
   "source": [
    "run_competing.measure_competing_variants(reps=10)\n",
    "run_competing.prepare_event_data()\n",
    "measurements = run_competing.duration_competing\n",
    "measurements.head()"
   ]
  },
  {
   "cell_type": "code",
   "execution_count": 6,
   "id": "d3e3d426",
   "metadata": {},
   "outputs": [
    {
     "data": {
      "text/html": [
       "<div>\n",
       "<style scoped>\n",
       "    .dataframe tbody tr th:only-of-type {\n",
       "        vertical-align: middle;\n",
       "    }\n",
       "\n",
       "    .dataframe tbody tr th {\n",
       "        vertical-align: top;\n",
       "    }\n",
       "\n",
       "    .dataframe thead th {\n",
       "        text-align: right;\n",
       "    }\n",
       "</style>\n",
       "<table border=\"1\" class=\"dataframe\">\n",
       "  <thead>\n",
       "    <tr style=\"text-align: right;\">\n",
       "      <th></th>\n",
       "      <th>case:concept:name</th>\n",
       "      <th>case:timestamp:start</th>\n",
       "      <th>case:timestamp:end</th>\n",
       "      <th>case:duration</th>\n",
       "      <th>case:flops</th>\n",
       "      <th>case:num_kernels</th>\n",
       "      <th>case:rel-flops</th>\n",
       "      <th>case:rel-duration</th>\n",
       "    </tr>\n",
       "  </thead>\n",
       "  <tbody>\n",
       "    <tr>\n",
       "      <th>0</th>\n",
       "      <td>algorithm1</td>\n",
       "      <td>1.655395e+09</td>\n",
       "      <td>1.655395e+09</td>\n",
       "      <td>0.004515</td>\n",
       "      <td>120000000.0</td>\n",
       "      <td>3</td>\n",
       "      <td>0.0</td>\n",
       "      <td>0.000000</td>\n",
       "    </tr>\n",
       "    <tr>\n",
       "      <th>3</th>\n",
       "      <td>algorithm0</td>\n",
       "      <td>1.655395e+09</td>\n",
       "      <td>1.655395e+09</td>\n",
       "      <td>0.007068</td>\n",
       "      <td>120000000.0</td>\n",
       "      <td>3</td>\n",
       "      <td>0.0</td>\n",
       "      <td>0.002553</td>\n",
       "    </tr>\n",
       "  </tbody>\n",
       "</table>\n",
       "</div>"
      ],
      "text/plain": [
       "  case:concept:name  case:timestamp:start  case:timestamp:end  case:duration  \\\n",
       "0        algorithm1          1.655395e+09        1.655395e+09       0.004515   \n",
       "3        algorithm0          1.655395e+09        1.655395e+09       0.007068   \n",
       "\n",
       "    case:flops  case:num_kernels  case:rel-flops  case:rel-duration  \n",
       "0  120000000.0                 3             0.0           0.000000  \n",
       "3  120000000.0                 3             0.0           0.002553  "
      ]
     },
     "execution_count": 6,
     "metadata": {},
     "output_type": "execute_result"
    }
   ],
   "source": [
    "ct"
   ]
  },
  {
   "cell_type": "markdown",
   "id": "65c7638f",
   "metadata": {},
   "source": [
    "## Initial Hypothesis: Sort algorithms by single-run execution time"
   ]
  },
  {
   "cell_type": "code",
   "execution_count": 8,
   "id": "c696f5af",
   "metadata": {},
   "outputs": [
    {
     "data": {
      "text/plain": [
       "['algorithm1', 'algorithm0']"
      ]
     },
     "execution_count": 8,
     "metadata": {},
     "output_type": "execute_result"
    }
   ],
   "source": [
    "alg_list = list(ct.sort_values(by=['case:duration'])['case:concept:name'])\n",
    "alg_list"
   ]
  },
  {
   "cell_type": "code",
   "execution_count": 10,
   "id": "2a25d439",
   "metadata": {},
   "outputs": [],
   "source": [
    "rank_variants = RankVariants(measurements,alg_list)\n",
    "ranks = rank_variants.sortAlgs(75,25)\n",
    "all_ranks, mean_ranks = rank_variants.calculate_mean_rank()"
   ]
  },
  {
   "cell_type": "code",
   "execution_count": 11,
   "id": "dd2ab574",
   "metadata": {},
   "outputs": [
    {
     "data": {
      "text/html": [
       "<div>\n",
       "<style scoped>\n",
       "    .dataframe tbody tr th:only-of-type {\n",
       "        vertical-align: middle;\n",
       "    }\n",
       "\n",
       "    .dataframe tbody tr th {\n",
       "        vertical-align: top;\n",
       "    }\n",
       "\n",
       "    .dataframe thead th {\n",
       "        text-align: right;\n",
       "    }\n",
       "</style>\n",
       "<table border=\"1\" class=\"dataframe\">\n",
       "  <thead>\n",
       "    <tr style=\"text-align: right;\">\n",
       "      <th></th>\n",
       "      <th>case:concept:name</th>\n",
       "      <th>case:rank</th>\n",
       "    </tr>\n",
       "  </thead>\n",
       "  <tbody>\n",
       "    <tr>\n",
       "      <th>0</th>\n",
       "      <td>algorithm1</td>\n",
       "      <td>0</td>\n",
       "    </tr>\n",
       "    <tr>\n",
       "      <th>1</th>\n",
       "      <td>algorithm0</td>\n",
       "      <td>0</td>\n",
       "    </tr>\n",
       "  </tbody>\n",
       "</table>\n",
       "</div>"
      ],
      "text/plain": [
       "  case:concept:name  case:rank\n",
       "0        algorithm1          0\n",
       "1        algorithm0          0"
      ]
     },
     "execution_count": 11,
     "metadata": {},
     "output_type": "execute_result"
    }
   ],
   "source": [
    "ranks"
   ]
  },
  {
   "cell_type": "code",
   "execution_count": 12,
   "id": "03a7fd04",
   "metadata": {},
   "outputs": [
    {
     "data": {
      "text/html": [
       "<div>\n",
       "<style scoped>\n",
       "    .dataframe tbody tr th:only-of-type {\n",
       "        vertical-align: middle;\n",
       "    }\n",
       "\n",
       "    .dataframe tbody tr th {\n",
       "        vertical-align: top;\n",
       "    }\n",
       "\n",
       "    .dataframe thead th {\n",
       "        text-align: right;\n",
       "    }\n",
       "</style>\n",
       "<table border=\"1\" class=\"dataframe\">\n",
       "  <thead>\n",
       "    <tr style=\"text-align: right;\">\n",
       "      <th></th>\n",
       "      <th>case:rank</th>\n",
       "      <th>case:rank</th>\n",
       "      <th>case:rank</th>\n",
       "      <th>case:rank</th>\n",
       "      <th>case:rank</th>\n",
       "      <th>case:rank</th>\n",
       "      <th>case:rank</th>\n",
       "    </tr>\n",
       "    <tr>\n",
       "      <th>case:concept:name</th>\n",
       "      <th></th>\n",
       "      <th></th>\n",
       "      <th></th>\n",
       "      <th></th>\n",
       "      <th></th>\n",
       "      <th></th>\n",
       "      <th></th>\n",
       "    </tr>\n",
       "  </thead>\n",
       "  <tbody>\n",
       "    <tr>\n",
       "      <th>algorithm1</th>\n",
       "      <td>0</td>\n",
       "      <td>0</td>\n",
       "      <td>0</td>\n",
       "      <td>0</td>\n",
       "      <td>0</td>\n",
       "      <td>0</td>\n",
       "      <td>0</td>\n",
       "    </tr>\n",
       "    <tr>\n",
       "      <th>algorithm0</th>\n",
       "      <td>0</td>\n",
       "      <td>0</td>\n",
       "      <td>0</td>\n",
       "      <td>0</td>\n",
       "      <td>0</td>\n",
       "      <td>1</td>\n",
       "      <td>1</td>\n",
       "    </tr>\n",
       "  </tbody>\n",
       "</table>\n",
       "</div>"
      ],
      "text/plain": [
       "                   case:rank  case:rank  case:rank  case:rank  case:rank  \\\n",
       "case:concept:name                                                          \n",
       "algorithm1                 0          0          0          0          0   \n",
       "algorithm0                 0          0          0          0          0   \n",
       "\n",
       "                   case:rank  case:rank  \n",
       "case:concept:name                        \n",
       "algorithm1                 0          0  \n",
       "algorithm0                 1          1  "
      ]
     },
     "execution_count": 12,
     "metadata": {},
     "output_type": "execute_result"
    }
   ],
   "source": [
    "all_ranks"
   ]
  },
  {
   "cell_type": "code",
   "execution_count": 14,
   "id": "e9535f24",
   "metadata": {},
   "outputs": [
    {
     "data": {
      "text/html": [
       "<div>\n",
       "<style scoped>\n",
       "    .dataframe tbody tr th:only-of-type {\n",
       "        vertical-align: middle;\n",
       "    }\n",
       "\n",
       "    .dataframe tbody tr th {\n",
       "        vertical-align: top;\n",
       "    }\n",
       "\n",
       "    .dataframe thead th {\n",
       "        text-align: right;\n",
       "    }\n",
       "</style>\n",
       "<table border=\"1\" class=\"dataframe\">\n",
       "  <thead>\n",
       "    <tr style=\"text-align: right;\">\n",
       "      <th></th>\n",
       "      <th>case:concept:name</th>\n",
       "      <th>case:mean-rank</th>\n",
       "    </tr>\n",
       "  </thead>\n",
       "  <tbody>\n",
       "    <tr>\n",
       "      <th>0</th>\n",
       "      <td>algorithm1</td>\n",
       "      <td>0.000000</td>\n",
       "    </tr>\n",
       "    <tr>\n",
       "      <th>1</th>\n",
       "      <td>algorithm0</td>\n",
       "      <td>0.285714</td>\n",
       "    </tr>\n",
       "  </tbody>\n",
       "</table>\n",
       "</div>"
      ],
      "text/plain": [
       "  case:concept:name  case:mean-rank\n",
       "0        algorithm1        0.000000\n",
       "1        algorithm0        0.285714"
      ]
     },
     "execution_count": 14,
     "metadata": {},
     "output_type": "execute_result"
    }
   ],
   "source": [
    "mean_ranks"
   ]
  },
  {
   "cell_type": "code",
   "execution_count": 15,
   "id": "8f9f1f1d",
   "metadata": {},
   "outputs": [
    {
     "data": {
      "image/png": "[encoded data removed]",
      "text/plain": [
       "<Figure size 720x504 with 1 Axes>"
      ]
     },
     "metadata": {
      "needs_background": "light"
     },
     "output_type": "display_data"
    }
   ],
   "source": [
    "rank_variants.show_measurements_boxplots()"
   ]
  },
  {
   "cell_type": "markdown",
   "id": "736e6e1b",
   "metadata": {},
   "source": [
    "## Insights"
   ]
  },
  {
   "cell_type": "code",
   "execution_count": 16,
   "id": "196166a3",
   "metadata": {},
   "outputs": [
    {
     "data": {
      "text/html": [
       "<div>\n",
       "<style scoped>\n",
       "    .dataframe tbody tr th:only-of-type {\n",
       "        vertical-align: middle;\n",
       "    }\n",
       "\n",
       "    .dataframe tbody tr th {\n",
       "        vertical-align: top;\n",
       "    }\n",
       "\n",
       "    .dataframe thead th {\n",
       "        text-align: right;\n",
       "    }\n",
       "</style>\n",
       "<table border=\"1\" class=\"dataframe\">\n",
       "  <thead>\n",
       "    <tr style=\"text-align: right;\">\n",
       "      <th></th>\n",
       "      <th>case:concept:name</th>\n",
       "      <th>concept:name</th>\n",
       "      <th>concept:flops</th>\n",
       "      <th>concept:operation</th>\n",
       "      <th>concept:kernel</th>\n",
       "      <th>timestamp:start</th>\n",
       "      <th>timestamp:end</th>\n",
       "    </tr>\n",
       "  </thead>\n",
       "  <tbody>\n",
       "    <tr>\n",
       "      <th>0</th>\n",
       "      <td>algorithm1_9</td>\n",
       "      <td>gemm_4e+07</td>\n",
       "      <td>40000000.0</td>\n",
       "      <td>tmp1 = (A B)</td>\n",
       "      <td>gemm!('N', 'N', 1.0, ml0, ml1, 0.0, ml4)</td>\n",
       "      <td>1.655395e+09</td>\n",
       "      <td>1.655395e+09</td>\n",
       "    </tr>\n",
       "    <tr>\n",
       "      <th>1</th>\n",
       "      <td>algorithm1_9</td>\n",
       "      <td>gemm_4e+07</td>\n",
       "      <td>40000000.0</td>\n",
       "      <td>tmp3 = (C D)</td>\n",
       "      <td>gemm!('N', 'N', 1.0, ml2, ml3, 0.0, ml5)</td>\n",
       "      <td>1.655395e+09</td>\n",
       "      <td>1.655395e+09</td>\n",
       "    </tr>\n",
       "    <tr>\n",
       "      <th>2</th>\n",
       "      <td>algorithm1_9</td>\n",
       "      <td>gemm_4e+07</td>\n",
       "      <td>40000000.0</td>\n",
       "      <td>tmp6 = (tmp1 tmp3)</td>\n",
       "      <td>gemm!('N', 'N', 1.0, ml4, ml5, 0.0, ml6)</td>\n",
       "      <td>1.655395e+09</td>\n",
       "      <td>1.655395e+09</td>\n",
       "    </tr>\n",
       "    <tr>\n",
       "      <th>3</th>\n",
       "      <td>algorithm0_2</td>\n",
       "      <td>gemm_4e+07</td>\n",
       "      <td>40000000.0</td>\n",
       "      <td>tmp3 = (C D)</td>\n",
       "      <td>gemm!('N', 'N', 1.0, ml2, ml3, 0.0, ml4)</td>\n",
       "      <td>1.655395e+09</td>\n",
       "      <td>1.655395e+09</td>\n",
       "    </tr>\n",
       "    <tr>\n",
       "      <th>4</th>\n",
       "      <td>algorithm0_2</td>\n",
       "      <td>gemm_4e+07</td>\n",
       "      <td>40000000.0</td>\n",
       "      <td>tmp1 = (A B)</td>\n",
       "      <td>gemm!('N', 'N', 1.0, ml0, ml1, 0.0, ml5)</td>\n",
       "      <td>1.655395e+09</td>\n",
       "      <td>1.655395e+09</td>\n",
       "    </tr>\n",
       "  </tbody>\n",
       "</table>\n",
       "</div>"
      ],
      "text/plain": [
       "  case:concept:name concept:name  concept:flops   concept:operation  \\\n",
       "0      algorithm1_9   gemm_4e+07     40000000.0        tmp1 = (A B)   \n",
       "1      algorithm1_9   gemm_4e+07     40000000.0        tmp3 = (C D)   \n",
       "2      algorithm1_9   gemm_4e+07     40000000.0  tmp6 = (tmp1 tmp3)   \n",
       "3      algorithm0_2   gemm_4e+07     40000000.0        tmp3 = (C D)   \n",
       "4      algorithm0_2   gemm_4e+07     40000000.0        tmp1 = (A B)   \n",
       "\n",
       "                             concept:kernel  timestamp:start  timestamp:end  \n",
       "0  gemm!('N', 'N', 1.0, ml0, ml1, 0.0, ml4)     1.655395e+09   1.655395e+09  \n",
       "1  gemm!('N', 'N', 1.0, ml2, ml3, 0.0, ml5)     1.655395e+09   1.655395e+09  \n",
       "2  gemm!('N', 'N', 1.0, ml4, ml5, 0.0, ml6)     1.655395e+09   1.655395e+09  \n",
       "3  gemm!('N', 'N', 1.0, ml2, ml3, 0.0, ml4)     1.655395e+09   1.655395e+09  \n",
       "4  gemm!('N', 'N', 1.0, ml0, ml1, 0.0, ml5)     1.655395e+09   1.655395e+09  "
      ]
     },
     "execution_count": 16,
     "metadata": {},
     "output_type": "execute_result"
    }
   ],
   "source": [
    "et = run_competing.event_table_competing\n",
    "et.head()"
   ]
  },
  {
   "cell_type": "code",
   "execution_count": 18,
   "id": "3ead424a",
   "metadata": {},
   "outputs": [],
   "source": [
    "pn = DiscoverPN(et)\n",
    "for trace in pn.event_log:\n",
    "    alg = trace.attributes['concept:name'].split('_')[0]\n",
    "    alg_rank = ranks[ranks['case:concept:name'] == alg]['case:rank'].values[0]\n",
    "    alg_mean_rank = mean_ranks[mean_ranks['case:concept:name'] == alg]['case:mean-rank'].values[0]\n",
    "    trace.attributes['case:algorithm'] = alg\n",
    "    trace.attributes['case:rank'] = alg_rank\n",
    "    trace.attributes['case:mean-rank'] = alg_mean_rank"
   ]
  },
  {
   "cell_type": "code",
   "execution_count": 20,
   "id": "5c730455",
   "metadata": {},
   "outputs": [],
   "source": [
    "#for trace in pn.event_log:\n",
    "#    print(trace.attributes)"
   ]
  },
  {
   "cell_type": "code",
   "execution_count": 24,
   "id": "f88f428d",
   "metadata": {},
   "outputs": [],
   "source": [
    "def filtered_log_by_rank(log,rank):\n",
    "    filtered_log = pm4py.filter_log(lambda x: x.attributes['case:rank'] == rank, log)\n",
    "    return filtered_log\n",
    "\n",
    "def filtered_log_by_alg_list(log,alg_list):\n",
    "    filtered_log = pm4py.filter_log(lambda x: x.attributes['case:algorithm'] in alg_list, log)\n",
    "    return filtered_log"
   ]
  },
  {
   "cell_type": "markdown",
   "id": "6438f796",
   "metadata": {},
   "source": [
    "### Algorithm 1"
   ]
  },
  {
   "cell_type": "code",
   "execution_count": 25,
   "id": "bdd48ed1",
   "metadata": {},
   "outputs": [
    {
     "data": {
      "image/png": "[encoded data removed]",
      "text/plain": [
       "<IPython.core.display.Image object>"
      ]
     },
     "metadata": {},
     "output_type": "display_data"
    }
   ],
   "source": [
    "filtered_log_by_alg = filtered_log_by_alg_list(pn.event_log, ['algorithm1'])\n",
    "net, im, fm = pn.inductive_miner(activity='concept:operation',filtered_log=filtered_log_by_alg)\n",
    "pn.visualize_pn(net, im, fm)"
   ]
  },
  {
   "cell_type": "markdown",
   "id": "98bfb158",
   "metadata": {},
   "source": [
    "### Algorithm 0"
   ]
  },
  {
   "cell_type": "code",
   "execution_count": 26,
   "id": "caaeb82b",
   "metadata": {},
   "outputs": [
    {
     "data": {
      "image/png": "[encoded data removed]",
      "text/plain": [
       "<IPython.core.display.Image object>"
      ]
     },
     "metadata": {},
     "output_type": "display_data"
    }
   ],
   "source": [
    "filtered_log_by_alg = filtered_log_by_alg_list(pn.event_log, ['algorithm0'])\n",
    "net, im, fm = pn.inductive_miner(activity='concept:operation',filtered_log=filtered_log_by_alg)\n",
    "pn.visualize_pn(net, im, fm)"
   ]
  },
  {
   "cell_type": "markdown",
   "id": "5e5b5213",
   "metadata": {},
   "source": [
    "## Work flow: Rank 0 algorithms"
   ]
  },
  {
   "cell_type": "markdown",
   "id": "57731ff3",
   "metadata": {},
   "source": [
    "### Knernels Used"
   ]
  },
  {
   "cell_type": "code",
   "execution_count": 33,
   "id": "762811df",
   "metadata": {},
   "outputs": [
    {
     "data": {
      "image/png": "[encoded data removed]",
      "text/plain": [
       "<IPython.core.display.Image object>"
      ]
     },
     "metadata": {},
     "output_type": "display_data"
    }
   ],
   "source": [
    "filtered_log=filtered_log_by_rank(pn.event_log,0)\n",
    "net, im, fm = pn.inductive_miner(filtered_log=filtered_log)\n",
    "pn.visualize_pn(net, im, fm)"
   ]
  },
  {
   "cell_type": "code",
   "execution_count": 32,
   "id": "143bf19a",
   "metadata": {},
   "outputs": [
    {
     "data": {
      "image/png": "[encoded data removed]",
      "text/plain": [
       "<IPython.core.display.Image object>"
      ]
     },
     "metadata": {},
     "output_type": "display_data"
    }
   ],
   "source": [
    "net, im, fm = pn.inductive_miner(activity='concept:operation',filtered_log=filtered_log)\n",
    "pn.visualize_pn(net, im, fm)"
   ]
  },
  {
   "cell_type": "code",
   "execution_count": null,
   "id": "ff736d06",
   "metadata": {},
   "outputs": [],
   "source": []
  },
  {
   "cell_type": "code",
   "execution_count": null,
   "id": "d599a3f7",
   "metadata": {},
   "outputs": [],
   "source": []
  }
 ],
 "metadata": {
  "kernelspec": {
   "display_name": "Python 3 (ipykernel)",
   "language": "python",
   "name": "python3"
  },
  "language_info": {
   "codemirror_mode": {
    "name": "ipython",
    "version": 3
   },
   "file_extension": ".py",
   "mimetype": "text/x-python",
   "name": "python",
   "nbconvert_exporter": "python",
   "pygments_lexer": "ipython3",
   "version": "3.9.7"
  }
 },
 "nbformat": 4,
 "nbformat_minor": 5
}
