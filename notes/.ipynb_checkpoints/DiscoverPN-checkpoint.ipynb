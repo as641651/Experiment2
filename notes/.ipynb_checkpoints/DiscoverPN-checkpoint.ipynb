{
 "cells": [
  {
   "cell_type": "code",
   "execution_count": 146,
   "id": "c82df7c6",
   "metadata": {},
   "outputs": [],
   "source": [
    "import sys\n",
    "sys.path.append(\"../utils/\")\n",
    "from runner import Runner\n",
    "from filter_variants import FilterVariants"
   ]
  },
  {
   "cell_type": "code",
   "execution_count": 147,
   "id": "2d721d33",
   "metadata": {},
   "outputs": [],
   "source": [
    "import pandas as pd\n",
    "from datetime import datetime\n",
    "from pm4py.objects.log.util import dataframe_utils\n",
    "from pm4py.objects.conversion.log import converter as log_converter\n",
    "from pm4py.algo.discovery.inductive import algorithm as inductive_miner\n",
    "from pm4py.visualization.petri_net import visualizer as pn_visualizer"
   ]
  },
  {
   "cell_type": "code",
   "execution_count": 154,
   "id": "2b1c52d6",
   "metadata": {},
   "outputs": [
    {
     "name": "stdout",
     "output_type": "stream",
     "text": [
      "New solution:.............2.71e+06\n",
      "No further generation steps possible.\n",
      "----------------------------------\n",
      "Number of nodes:                 8\n",
      "Solution nodes:                  1\n",
      "Data:                     1.38e+05\n",
      "Best solution:            2.71e+06\n",
      "Intensity:                    19.7\n",
      "Number of algorithms:            6\n",
      "Generated Variants.\n",
      "Running Experiments\n",
      "Experiments completed\n"
     ]
    }
   ],
   "source": [
    "runner = Runner(\"Matrix-Chain\", \"../Matrix-Chain-4/variants-linnea/generate-variants-linnea.py\",5)\n",
    "args = [\"10\",\"110\",\"120\",\"130\",\"500\"]\n",
    "ret = runner.generate_run_experiments(args,bRun=True, bGenerate=True)\n",
    "case_table,_,event_table = runner.get_all_tables(runner.get_exp_dir(args), meta=False)"
   ]
  },
  {
   "cell_type": "code",
   "execution_count": 155,
   "id": "22cac7f4",
   "metadata": {},
   "outputs": [],
   "source": [
    "filter_variants = FilterVariants(case_table,event_table)"
   ]
  },
  {
   "cell_type": "code",
   "execution_count": 156,
   "id": "06ca8ed1",
   "metadata": {},
   "outputs": [],
   "source": [
    "competing_ct, competing_et = filter_variants.filter_best_flops_duration()"
   ]
  },
  {
   "cell_type": "code",
   "execution_count": 157,
   "id": "f91db243",
   "metadata": {},
   "outputs": [
    {
     "data": {
      "text/html": [
       "<div>\n",
       "<style scoped>\n",
       "    .dataframe tbody tr th:only-of-type {\n",
       "        vertical-align: middle;\n",
       "    }\n",
       "\n",
       "    .dataframe tbody tr th {\n",
       "        vertical-align: top;\n",
       "    }\n",
       "\n",
       "    .dataframe thead th {\n",
       "        text-align: right;\n",
       "    }\n",
       "</style>\n",
       "<table border=\"1\" class=\"dataframe\">\n",
       "  <thead>\n",
       "    <tr style=\"text-align: right;\">\n",
       "      <th></th>\n",
       "      <th>case:concept:name</th>\n",
       "      <th>case:timestamp:start</th>\n",
       "      <th>case:timestamp:end</th>\n",
       "      <th>case:duration</th>\n",
       "      <th>case:flops</th>\n",
       "      <th>case:num_kernels</th>\n",
       "      <th>case:rel-flops</th>\n",
       "      <th>case:rel-duration</th>\n",
       "    </tr>\n",
       "  </thead>\n",
       "  <tbody>\n",
       "    <tr>\n",
       "      <th>3</th>\n",
       "      <td>algorithm0</td>\n",
       "      <td>1.654788e+09</td>\n",
       "      <td>1.654788e+09</td>\n",
       "      <td>0.000439</td>\n",
       "      <td>2710000.0</td>\n",
       "      <td>3</td>\n",
       "      <td>0.0</td>\n",
       "      <td>0.0</td>\n",
       "    </tr>\n",
       "  </tbody>\n",
       "</table>\n",
       "</div>"
      ],
      "text/plain": [
       "  case:concept:name  case:timestamp:start  case:timestamp:end  case:duration  \\\n",
       "3        algorithm0          1.654788e+09        1.654788e+09       0.000439   \n",
       "\n",
       "   case:flops  case:num_kernels  case:rel-flops  case:rel-duration  \n",
       "3   2710000.0                 3             0.0                0.0  "
      ]
     },
     "execution_count": 157,
     "metadata": {},
     "output_type": "execute_result"
    }
   ],
   "source": [
    "competing_ct"
   ]
  },
  {
   "cell_type": "code",
   "execution_count": 158,
   "id": "dcfac5b4",
   "metadata": {},
   "outputs": [
    {
     "data": {
      "text/html": [
       "<div>\n",
       "<style scoped>\n",
       "    .dataframe tbody tr th:only-of-type {\n",
       "        vertical-align: middle;\n",
       "    }\n",
       "\n",
       "    .dataframe tbody tr th {\n",
       "        vertical-align: top;\n",
       "    }\n",
       "\n",
       "    .dataframe thead th {\n",
       "        text-align: right;\n",
       "    }\n",
       "</style>\n",
       "<table border=\"1\" class=\"dataframe\">\n",
       "  <thead>\n",
       "    <tr style=\"text-align: right;\">\n",
       "      <th></th>\n",
       "      <th>case:concept:name</th>\n",
       "      <th>concept:name</th>\n",
       "      <th>concept:flops</th>\n",
       "      <th>concept:operation</th>\n",
       "      <th>concept:kernel</th>\n",
       "      <th>timestamp:start</th>\n",
       "      <th>timestamp:end</th>\n",
       "    </tr>\n",
       "  </thead>\n",
       "  <tbody>\n",
       "    <tr>\n",
       "      <th>9</th>\n",
       "      <td>algorithm0</td>\n",
       "      <td>gemm_3.12e+05</td>\n",
       "      <td>312000.0</td>\n",
       "      <td>tmp2 = (B C)</td>\n",
       "      <td>gemm!('N', 'N', 1.0, ml1, ml2, 0.0, ml4)</td>\n",
       "      <td>1.654788e+09</td>\n",
       "      <td>1.654788e+09</td>\n",
       "    </tr>\n",
       "    <tr>\n",
       "      <th>10</th>\n",
       "      <td>algorithm0</td>\n",
       "      <td>gemm_1.3e+06</td>\n",
       "      <td>1300000.0</td>\n",
       "      <td>tmp5 = (tmp2 D)</td>\n",
       "      <td>gemm!('N', 'N', 1.0, ml4, ml3, 0.0, ml5)</td>\n",
       "      <td>1.654788e+09</td>\n",
       "      <td>1.654788e+09</td>\n",
       "    </tr>\n",
       "    <tr>\n",
       "      <th>11</th>\n",
       "      <td>algorithm0</td>\n",
       "      <td>gemm_1.1e+06</td>\n",
       "      <td>1100000.0</td>\n",
       "      <td>tmp6 = (A tmp5)</td>\n",
       "      <td>gemm!('N', 'N', 1.0, ml0, ml5, 0.0, ml6)</td>\n",
       "      <td>1.654788e+09</td>\n",
       "      <td>1.654788e+09</td>\n",
       "    </tr>\n",
       "  </tbody>\n",
       "</table>\n",
       "</div>"
      ],
      "text/plain": [
       "   case:concept:name   concept:name  concept:flops concept:operation  \\\n",
       "9         algorithm0  gemm_3.12e+05       312000.0      tmp2 = (B C)   \n",
       "10        algorithm0   gemm_1.3e+06      1300000.0   tmp5 = (tmp2 D)   \n",
       "11        algorithm0   gemm_1.1e+06      1100000.0   tmp6 = (A tmp5)   \n",
       "\n",
       "                              concept:kernel  timestamp:start  timestamp:end  \n",
       "9   gemm!('N', 'N', 1.0, ml1, ml2, 0.0, ml4)     1.654788e+09   1.654788e+09  \n",
       "10  gemm!('N', 'N', 1.0, ml4, ml3, 0.0, ml5)     1.654788e+09   1.654788e+09  \n",
       "11  gemm!('N', 'N', 1.0, ml0, ml5, 0.0, ml6)     1.654788e+09   1.654788e+09  "
      ]
     },
     "execution_count": 158,
     "metadata": {},
     "output_type": "execute_result"
    }
   ],
   "source": [
    "competing_et"
   ]
  },
  {
   "cell_type": "code",
   "execution_count": null,
   "id": "8cb76ee7",
   "metadata": {},
   "outputs": [],
   "source": []
  },
  {
   "cell_type": "code",
   "execution_count": 159,
   "id": "3efe830e",
   "metadata": {},
   "outputs": [],
   "source": [
    "def convert_timestamp_todtime(timestamp):\n",
    "    return datetime.fromtimestamp(timestamp).strftime('%Y-%m-%d %H:%M:%S.%f')\n",
    "\n",
    "def convert_timestamp_format(df):\n",
    "    df['timestamp:start'] = df['timestamp:start'].apply(convert_timestamp_todtime)\n",
    "    df['timestamp:end'] = df['timestamp:end'].apply(convert_timestamp_todtime)\n",
    "    df = dataframe_utils.convert_timestamp_columns_in_df(df)"
   ]
  },
  {
   "cell_type": "code",
   "execution_count": null,
   "id": "12742a81",
   "metadata": {},
   "outputs": [],
   "source": []
  },
  {
   "cell_type": "code",
   "execution_count": 174,
   "id": "c18724e0",
   "metadata": {},
   "outputs": [],
   "source": [
    "class DiscoverPN:\n",
    "    \"\"\"Creates an xes eventlog from the dataframes: case_table and event table\n",
    "    The eventlog is used to discover process models\"\"\"\n",
    "    \n",
    "    def __init__(self, case_table, event_table):\n",
    "        \"\"\"INPUT: dataframes: case_table and event_table\n",
    "            Upon initialization, the case and event tables are merged\n",
    "            and converted to an xes event log format. The dataframes are not stored. \n",
    "        \"\"\"\n",
    "        log = event_table.copy()\n",
    "        convert_timestamp_format(log)       \n",
    "        log = log.sort_values('timestamp:start')\n",
    "        log = log.merge(case_table, on='case:concept:name')\n",
    "        \n",
    "        self.event_log = log_converter.apply(log)\n",
    "        log = None\n",
    "        \n",
    "    def inductive_miner(self, activity='concept:name',filtered_log=None):\n",
    "        \"\"\"apply inductive mining on the filtered log.\n",
    "        if no filtered_log is passed, self.event_log is used.\n",
    "        \n",
    "        Input (optional): event log\n",
    "        Output: petrinet, initial marking, final marking\"\"\"\n",
    "    \n",
    "        log = self.event_log\n",
    "        if filtered_log:\n",
    "            log = filtered_log\n",
    "        parameters = {\n",
    "            inductive_miner.Variants.IM_CLEAN.value.Parameters.ACTIVITY_KEY: activity\n",
    "        }\n",
    "        return inductive_miner.apply(log,parameters=parameters)\n",
    "    \n",
    "    def visualize_pn(self,net,im,fm):\n",
    "        \"\"\"visualize petrinet\n",
    "        Input: net, inital and final marking\n",
    "        Returns nothing.\"\"\"\n",
    "        gviz = pn_visualizer.apply(net, im, fm)\n",
    "        pn_visualizer.view(gviz)\n",
    "        "
   ]
  },
  {
   "cell_type": "code",
   "execution_count": 175,
   "id": "358f6832",
   "metadata": {},
   "outputs": [],
   "source": [
    "pn = DiscoverPN(competing_ct, competing_et)"
   ]
  },
  {
   "cell_type": "code",
   "execution_count": 176,
   "id": "36b87114",
   "metadata": {},
   "outputs": [
    {
     "data": {
      "text/plain": [
       "[{'attributes': {'concept:name': 'algorithm0', 'timestamp:start': 1654787901.748699, 'timestamp:end': 1654787901.749138, 'duration': 0.0004391670227050781, 'flops': 2710000.0, 'num_kernels': 3, 'rel-flops': 0.0, 'rel-duration': 0.0}, 'events': [{'concept:name': 'gemm_3.12e+05', 'concept:flops': 312000.0, 'concept:operation': 'tmp2 = (B C)', 'concept:kernel': \"gemm!('N', 'N', 1.0, ml1, ml2, 0.0, ml4)\", 'timestamp:start': Timestamp('2022-06-09 17:18:21.748699+0000', tz='UTC'), 'timestamp:end': Timestamp('2022-06-09 17:18:21.748725+0000', tz='UTC')}, '..', {'concept:name': 'gemm_1.1e+06', 'concept:flops': 1100000.0, 'concept:operation': 'tmp6 = (A tmp5)', 'concept:kernel': \"gemm!('N', 'N', 1.0, ml0, ml5, 0.0, ml6)\", 'timestamp:start': Timestamp('2022-06-09 17:18:21.748826+0000', tz='UTC'), 'timestamp:end': Timestamp('2022-06-09 17:18:21.749138+0000', tz='UTC')}]}]"
      ]
     },
     "execution_count": 176,
     "metadata": {},
     "output_type": "execute_result"
    }
   ],
   "source": [
    "pn.event_log"
   ]
  },
  {
   "cell_type": "code",
   "execution_count": 177,
   "id": "1d627ada",
   "metadata": {},
   "outputs": [
    {
     "name": "stdout",
     "output_type": "stream",
     "text": [
      "{'concept:name': 'algorithm0', 'timestamp:start': 1654787901.748699, 'timestamp:end': 1654787901.749138, 'duration': 0.0004391670227050781, 'flops': 2710000.0, 'num_kernels': 3, 'rel-flops': 0.0, 'rel-duration': 0.0}\n"
     ]
    }
   ],
   "source": [
    "for trace in pn.event_log:\n",
    "    print(trace.attributes)"
   ]
  },
  {
   "cell_type": "code",
   "execution_count": 179,
   "id": "b0fc04a8",
   "metadata": {},
   "outputs": [
    {
     "data": {
      "image/png": "[encoded data removed]",
      "text/plain": [
       "<IPython.core.display.Image object>"
      ]
     },
     "metadata": {},
     "output_type": "display_data"
    }
   ],
   "source": [
    "net, im, fm = pn.inductive_miner(activity='concept:operation')\n",
    "pn.visualize_pn(net, im, fm)"
   ]
  },
  {
   "cell_type": "code",
   "execution_count": 167,
   "id": "10a5a65f",
   "metadata": {},
   "outputs": [
    {
     "data": {
      "text/plain": [
       "<Parameters.ACTIVITY_KEY: 'pm4py:param:activity_key'>"
      ]
     },
     "execution_count": 167,
     "metadata": {},
     "output_type": "execute_result"
    }
   ],
   "source": [
    "inductive_miner.Variants.IM_CLEAN.value.Parameters.ACTIVITY_KEY "
   ]
  },
  {
   "cell_type": "code",
   "execution_count": null,
   "id": "35ae4c4b",
   "metadata": {},
   "outputs": [],
   "source": []
  },
  {
   "cell_type": "code",
   "execution_count": null,
   "id": "73363953",
   "metadata": {},
   "outputs": [],
   "source": []
  }
 ],
 "metadata": {
  "kernelspec": {
   "display_name": "Python 3 (ipykernel)",
   "language": "python",
   "name": "python3"
  },
  "language_info": {
   "codemirror_mode": {
    "name": "ipython",
    "version": 3
   },
   "file_extension": ".py",
   "mimetype": "text/x-python",
   "name": "python",
   "nbconvert_exporter": "python",
   "pygments_lexer": "ipython3",
   "version": "3.9.7"
  }
 },
 "nbformat": 4,
 "nbformat_minor": 5
}
