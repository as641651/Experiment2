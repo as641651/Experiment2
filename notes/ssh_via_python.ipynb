{
 "cells": [
  {
   "cell_type": "code",
   "execution_count": 1,
   "id": "929c299a",
   "metadata": {},
   "outputs": [],
   "source": [
    "import os\n",
    "import subprocess"
   ]
  },
  {
   "cell_type": "code",
   "execution_count": 23,
   "id": "5b6ccd21",
   "metadata": {},
   "outputs": [
    {
     "name": "stdout",
     "output_type": "stream",
     "text": [
      "['ssh', '-l', 'as641651', 'login18-1.hpc.itc.rwth-aachen.de', 'squeue -u as641651']\n"
     ]
    }
   ],
   "source": [
    "call =  'ssh -l as641651 login18-1.hpc.itc.rwth-aachen.de'.split()\n",
    "cluster_cmd = [\"squeue -u as641651\",]\n",
    "print(call + cluster_cmd)"
   ]
  },
  {
   "cell_type": "code",
   "execution_count": 26,
   "id": "e3db5ef0",
   "metadata": {},
   "outputs": [],
   "source": [
    "ret = subprocess.check_output(call + cluster_cmd)"
   ]
  },
  {
   "cell_type": "code",
   "execution_count": 27,
   "id": "8c72e6f6",
   "metadata": {},
   "outputs": [
    {
     "name": "stdout",
     "output_type": "stream",
     "text": [
      "b'             JOBID PARTITION     NAME     USER ST       TIME  NODES NODELIST(REASON)\\n'\n"
     ]
    }
   ],
   "source": [
    "print(ret)"
   ]
  },
  {
   "cell_type": "code",
   "execution_count": 34,
   "id": "790ab38f",
   "metadata": {},
   "outputs": [],
   "source": [
    "from paramiko import SSHClient, AutoAddPolicy"
   ]
  },
  {
   "cell_type": "code",
   "execution_count": 36,
   "id": "9b43792e",
   "metadata": {},
   "outputs": [],
   "source": [
    "client = SSHClient()\n",
    "client.set_missing_host_key_policy(AutoAddPolicy())"
   ]
  },
  {
   "cell_type": "code",
   "execution_count": 51,
   "id": "df36621d",
   "metadata": {},
   "outputs": [],
   "source": [
    "client.connect(\"login18-1.hpc.itc.rwth-aachen.de\", username=\"as641651\")"
   ]
  },
  {
   "cell_type": "code",
   "execution_count": 52,
   "id": "87d46210",
   "metadata": {},
   "outputs": [],
   "source": [
    "_, ret, _ = client.exec_command(\"squeue -u as641651\")"
   ]
  },
  {
   "cell_type": "code",
   "execution_count": 53,
   "id": "6b3923a2",
   "metadata": {},
   "outputs": [
    {
     "data": {
      "text/plain": [
       "['             JOBID PARTITION     NAME     USER ST       TIME  NODES NODELIST(REASON)\\n']"
      ]
     },
     "execution_count": 53,
     "metadata": {},
     "output_type": "execute_result"
    }
   ],
   "source": [
    "ret.readlines()"
   ]
  },
  {
   "cell_type": "code",
   "execution_count": 49,
   "id": "266178b8",
   "metadata": {},
   "outputs": [],
   "source": [
    "client.close()"
   ]
  },
  {
   "cell_type": "code",
   "execution_count": 56,
   "id": "5b081eac",
   "metadata": {},
   "outputs": [],
   "source": [
    "client = SSHClient()\n",
    "client.set_missing_host_key_policy(AutoAddPolicy())\n",
    "client.connect(\"login18-1.hpc.itc.rwth-aachen.de\", username=\"as641651\")"
   ]
  },
  {
   "cell_type": "code",
   "execution_count": 60,
   "id": "070ec31a",
   "metadata": {},
   "outputs": [],
   "source": [
    "script_dir = \"~/PhD/performance-analyazer/Experiment2/Random1/variants-linnea/\"\n",
    "_,_,_ = client.exec_command(\"cd \"+script_dir)\n",
    "args = ['100','110','120']\n",
    "_,ret,_ = client.exec_command(\"python generate-variants-linnea.py \"+\" \".join(args))"
   ]
  },
  {
   "cell_type": "code",
   "execution_count": 64,
   "id": "e5ab642e",
   "metadata": {},
   "outputs": [
    {
     "data": {
      "text/plain": [
       "[]"
      ]
     },
     "execution_count": 64,
     "metadata": {},
     "output_type": "execute_result"
    }
   ],
   "source": [
    "ret.readlines()"
   ]
  },
  {
   "cell_type": "code",
   "execution_count": 59,
   "id": "e8e0ec25",
   "metadata": {},
   "outputs": [
    {
     "data": {
      "text/plain": [
       "'100 110 120'"
      ]
     },
     "execution_count": 59,
     "metadata": {},
     "output_type": "execute_result"
    }
   ],
   "source": [
    "\" \".join(args)"
   ]
  },
  {
   "cell_type": "code",
   "execution_count": 65,
   "id": "f39b3407",
   "metadata": {},
   "outputs": [],
   "source": [
    "_,ret,_ = client.exec_command(\"python generate-variants-linnea.py \"+\" \".join(args))"
   ]
  },
  {
   "cell_type": "code",
   "execution_count": 67,
   "id": "2d97f85b",
   "metadata": {},
   "outputs": [
    {
     "data": {
      "text/plain": [
       "[]"
      ]
     },
     "execution_count": 67,
     "metadata": {},
     "output_type": "execute_result"
    }
   ],
   "source": [
    "ret.readlines()"
   ]
  },
  {
   "cell_type": "code",
   "execution_count": 68,
   "id": "20034ddc",
   "metadata": {},
   "outputs": [
    {
     "data": {
      "text/plain": [
       "'python generate-variants-linnea.py 100 110 120'"
      ]
     },
     "execution_count": 68,
     "metadata": {},
     "output_type": "execute_result"
    }
   ],
   "source": [
    "\"python generate-variants-linnea.py \"+\" \".join(args)"
   ]
  },
  {
   "cell_type": "code",
   "execution_count": 74,
   "id": "2e1a5d40",
   "metadata": {},
   "outputs": [],
   "source": [
    "_,ret,_ = client.exec_command(\"cd \"+script_dir+\"; ls\")"
   ]
  },
  {
   "cell_type": "code",
   "execution_count": 75,
   "id": "a40a02c5",
   "metadata": {},
   "outputs": [
    {
     "data": {
      "text/plain": [
       "['experiments\\n', 'generate-variants-linnea.py\\n']"
      ]
     },
     "execution_count": 75,
     "metadata": {},
     "output_type": "execute_result"
    }
   ],
   "source": [
    "ret.readlines()"
   ]
  },
  {
   "cell_type": "code",
   "execution_count": 107,
   "id": "ca76bd73",
   "metadata": {},
   "outputs": [],
   "source": [
    "cluster_code = \"source ~/.analyzer; cd {script_dir}; python generate-variants-linnea.py {args}\".format(script_dir=script_dir,\n",
    "                                                                                   args= \" \".join(args))"
   ]
  },
  {
   "cell_type": "code",
   "execution_count": 108,
   "id": "0bb72eff",
   "metadata": {},
   "outputs": [
    {
     "data": {
      "text/plain": [
       "'source ~/.analyzer; cd ~/PhD/performance-analyazer/Experiment2/Random1/variants-linnea/; python generate-variants-linnea.py 100 110 120'"
      ]
     },
     "execution_count": 108,
     "metadata": {},
     "output_type": "execute_result"
    }
   ],
   "source": [
    "cluster_code"
   ]
  },
  {
   "cell_type": "code",
   "execution_count": 109,
   "id": "095ad658",
   "metadata": {},
   "outputs": [],
   "source": [
    "_, ret, _ = client.exec_command(cluster_code)"
   ]
  },
  {
   "cell_type": "code",
   "execution_count": 110,
   "id": "379c2cb2",
   "metadata": {},
   "outputs": [
    {
     "data": {
      "text/plain": [
       "['New solution:.............3.44e+06\\n',\n",
       " 'New solution:.............3.43e+06\\n',\n",
       " 'New solution:.............3.42e+06\\n',\n",
       " 'No further generation steps possible.\\n',\n",
       " '----------------------------------\\n',\n",
       " 'Number of nodes:                27\\n',\n",
       " 'Solution nodes:                  1\\n',\n",
       " 'Data:                      5.4e+04\\n',\n",
       " 'Best solution:            3.42e+06\\n',\n",
       " 'Intensity:                    63.3\\n',\n",
       " 'Number of algorithms:          100\\n',\n",
       " 'Generated Variants.\\n']"
      ]
     },
     "execution_count": 110,
     "metadata": {},
     "output_type": "execute_result"
    }
   ],
   "source": [
    "ret.readlines()"
   ]
  },
  {
   "cell_type": "code",
   "execution_count": 111,
   "id": "08bbf77e",
   "metadata": {},
   "outputs": [],
   "source": [
    "ret = subprocess.check_output(call + [cluster_code,])"
   ]
  },
  {
   "cell_type": "code",
   "execution_count": 113,
   "id": "8145c096",
   "metadata": {},
   "outputs": [
    {
     "data": {
      "text/plain": [
       "b'New solution:.............3.44e+06\\nNew solution:.............3.43e+06\\nNew solution:.............3.42e+06\\nNo further generation steps possible.\\n----------------------------------\\nNumber of nodes:                27\\nSolution nodes:                  1\\nData:                      5.4e+04\\nBest solution:            3.42e+06\\nIntensity:                    63.3\\nNumber of algorithms:          100\\nGenerated Variants.\\n'"
      ]
     },
     "execution_count": 113,
     "metadata": {},
     "output_type": "execute_result"
    }
   ],
   "source": [
    "ret"
   ]
  },
  {
   "cell_type": "code",
   "execution_count": 115,
   "id": "0baad376",
   "metadata": {},
   "outputs": [
    {
     "data": {
      "text/plain": [
       "True"
      ]
     },
     "execution_count": 115,
     "metadata": {},
     "output_type": "execute_result"
    }
   ],
   "source": [
    "\"Generated Variants\" in str(ret)"
   ]
  },
  {
   "cell_type": "code",
   "execution_count": 105,
   "id": "956d8289",
   "metadata": {},
   "outputs": [],
   "source": [
    "ret = subprocess.check_output(call + [,])"
   ]
  },
  {
   "cell_type": "code",
   "execution_count": 106,
   "id": "4ffce6c8",
   "metadata": {},
   "outputs": [
    {
     "data": {
      "text/plain": [
       "b'/home/as641651/anaconda3/bin/python\\n'"
      ]
     },
     "execution_count": 106,
     "metadata": {},
     "output_type": "execute_result"
    }
   ],
   "source": [
    "ret"
   ]
  },
  {
   "cell_type": "code",
   "execution_count": null,
   "id": "4dbb0a44",
   "metadata": {},
   "outputs": [],
   "source": []
  }
 ],
 "metadata": {
  "kernelspec": {
   "display_name": "Python 3 (ipykernel)",
   "language": "python",
   "name": "python3"
  },
  "language_info": {
   "codemirror_mode": {
    "name": "ipython",
    "version": 3
   },
   "file_extension": ".py",
   "mimetype": "text/x-python",
   "name": "python",
   "nbconvert_exporter": "python",
   "pygments_lexer": "ipython3",
   "version": "3.9.7"
  }
 },
 "nbformat": 4,
 "nbformat_minor": 5
}
